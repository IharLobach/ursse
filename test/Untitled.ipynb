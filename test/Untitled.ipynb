{
 "cells": [
  {
   "cell_type": "code",
   "execution_count": 1,
   "metadata": {},
   "outputs": [],
   "source": [
    "from xmlrpc.client import ServerProxy"
   ]
  },
  {
   "cell_type": "code",
   "execution_count": 2,
   "metadata": {},
   "outputs": [],
   "source": [
    "s = ServerProxy('https://www-bd.fnal.gov/xmlrpc/Remote') "
   ]
  },
  {
   "cell_type": "code",
   "execution_count": 10,
   "metadata": {},
   "outputs": [
    {
     "name": "stdout",
     "output_type": "stream",
     "text": [
      "Help on ServerProxy in module xmlrpc.client object:\n",
      "\n",
      "class ServerProxy(builtins.object)\n",
      " |  ServerProxy(uri, transport=None, encoding=None, verbose=False, allow_none=False, use_datetime=False, use_builtin_types=False, *, headers=(), context=None)\n",
      " |  \n",
      " |  uri [,options] -> a logical connection to an XML-RPC server\n",
      " |  \n",
      " |  uri is the connection point on the server, given as\n",
      " |  scheme://host/target.\n",
      " |  \n",
      " |  The standard implementation always supports the \"http\" scheme.  If\n",
      " |  SSL socket support is available (Python 2.0), it also supports\n",
      " |  \"https\".\n",
      " |  \n",
      " |  If the target part and the slash preceding it are both omitted,\n",
      " |  \"/RPC2\" is assumed.\n",
      " |  \n",
      " |  The following options can be given as keyword arguments:\n",
      " |  \n",
      " |      transport: a transport factory\n",
      " |      encoding: the request encoding (default is UTF-8)\n",
      " |  \n",
      " |  All 8-bit strings passed to the server proxy are assumed to use\n",
      " |  the given encoding.\n",
      " |  \n",
      " |  Methods defined here:\n",
      " |  \n",
      " |  __call__(self, attr)\n",
      " |      A workaround to get special attributes on the ServerProxy\n",
      " |      without interfering with the magic __getattr__\n",
      " |  \n",
      " |  __enter__(self)\n",
      " |  \n",
      " |  __exit__(self, *args)\n",
      " |  \n",
      " |  __getattr__(self, name)\n",
      " |  \n",
      " |  __init__(self, uri, transport=None, encoding=None, verbose=False, allow_none=False, use_datetime=False, use_builtin_types=False, *, headers=(), context=None)\n",
      " |      Initialize self.  See help(type(self)) for accurate signature.\n",
      " |  \n",
      " |  __repr__(self)\n",
      " |      Return repr(self).\n",
      " |  \n",
      " |  ----------------------------------------------------------------------\n",
      " |  Data descriptors defined here:\n",
      " |  \n",
      " |  __dict__\n",
      " |      dictionary for instance variables (if defined)\n",
      " |  \n",
      " |  __weakref__\n",
      " |      list of weak references to the object (if defined)\n",
      "\n"
     ]
    }
   ],
   "source": [
    "help(s)"
   ]
  },
  {
   "cell_type": "code",
   "execution_count": null,
   "metadata": {},
   "outputs": [],
   "source": []
  }
 ],
 "metadata": {
  "kernelspec": {
   "display_name": "ursee-env",
   "language": "python",
   "name": "ursee-env"
  },
  "language_info": {
   "codemirror_mode": {
    "name": "ipython",
    "version": 3
   },
   "file_extension": ".py",
   "mimetype": "text/x-python",
   "name": "python",
   "nbconvert_exporter": "python",
   "pygments_lexer": "ipython3",
   "version": "3.8.0"
  }
 },
 "nbformat": 4,
 "nbformat_minor": 4
}
