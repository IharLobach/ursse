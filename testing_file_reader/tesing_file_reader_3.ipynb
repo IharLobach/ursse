{
 "nbformat": 4,
 "nbformat_minor": 2,
 "metadata": {
  "language_info": {
   "name": "python",
   "codemirror_mode": {
    "name": "ipython",
    "version": 3
   }
  },
  "orig_nbformat": 2,
  "file_extension": ".py",
  "mimetype": "text/x-python",
  "name": "python",
  "npconvert_exporter": "python",
  "pygments_lexer": "ipython3",
  "version": 3
 },
 "cells": [
  {
   "cell_type": "code",
   "execution_count": null,
   "metadata": {},
   "outputs": [],
   "source": [
    "import os\n",
    "import sys\n",
    "sys.path.append(os.path.join(os.getcwd(),'..'))\n",
    "from ursse.hydra_harp_file_reader import HydraHarpFile\n",
    "from ursse.LED_tests.data_analyzis import calc_Fano, get_time_window_hist, calc_Fano_from_counts_per_time_window\n",
    "import numpy as np\n",
    "import pandas as pd\n",
    "import seaborn as sns\n",
    "from ursse.data_processing import \\\n",
    "    get_event_delays, plot_arrival_time_hist, get_events_array, get_fanos, plot_fanos_hist, process_file\n",
    "import matplotlib.pyplot as plt\n",
    "import seaborn as sns\n",
    "plt.rcParams['figure.figsize'] = [15, 7.5]\n",
    "plt.rcParams.update({'font.size': 16,'legend.fontsize': 16})"
   ]
  },
  {
   "cell_type": "code",
   "execution_count": null,
   "metadata": {},
   "outputs": [],
   "source": [
    "file_name = ['background_counts_004.ptu','long_background_counts_test_000.ptu',\"long_background_counts_001.ptu\",\"bending_magnet_000.ptu\",\"bending_magnet_002.ptu\", \"test_multiple_channels_000.ptu\",\"about300electrons_stray_light_000.ptu\"][-1]"
   ]
  },
  {
   "cell_type": "code",
   "execution_count": null,
   "metadata": {},
   "outputs": [],
   "source": [
    "fanos, report = process_file(file_name, channel=1, bins_delay=5, bins_fano=5)"
   ]
  }
 ]
}