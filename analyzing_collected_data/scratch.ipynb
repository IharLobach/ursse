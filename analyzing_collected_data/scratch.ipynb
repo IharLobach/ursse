{
 "cells": [
  {
   "cell_type": "code",
   "execution_count": 1,
   "id": "c6dde16c",
   "metadata": {},
   "outputs": [],
   "source": [
    "import numpy as np"
   ]
  },
  {
   "cell_type": "code",
   "execution_count": 2,
   "id": "af644a5f",
   "metadata": {},
   "outputs": [
    {
     "data": {
      "text/plain": [
       "478.7218333333334"
      ]
     },
     "execution_count": 2,
     "metadata": {},
     "output_type": "execute_result"
    }
   ],
   "source": [
    ".055/2/(150/0.511)**2*(1+1/2)*1e9"
   ]
  },
  {
   "cell_type": "code",
   "execution_count": null,
   "id": "85bd590e",
   "metadata": {},
   "outputs": [],
   "source": []
  }
 ],
 "metadata": {
  "kernelspec": {
   "display_name": "Python 3 (ipykernel)",
   "language": "python",
   "name": "python3"
  },
  "language_info": {
   "codemirror_mode": {
    "name": "ipython",
    "version": 3
   },
   "file_extension": ".py",
   "mimetype": "text/x-python",
   "name": "python",
   "nbconvert_exporter": "python",
   "pygments_lexer": "ipython3",
   "version": "3.9.6"
  }
 },
 "nbformat": 4,
 "nbformat_minor": 5
}
