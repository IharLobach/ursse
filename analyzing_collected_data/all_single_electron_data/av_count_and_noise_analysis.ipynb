{
 "cells": [
  {
   "cell_type": "code",
   "execution_count": 59,
   "metadata": {},
   "outputs": [],
   "source": [
    "import ursse.sync_motion_simulation as sms\n",
    "import pandas as pd\n",
    "import os \n",
    "import numpy as np\n",
    "from ursse.path_assistant import PathAssistant\n",
    "from ursse.phase_space_trajectory import get_revolution_delay_df_one_gate\n",
    "from ursse.data_processing import \\\n",
    "    get_event_delays, plot_arrival_time_hist, get_events_array, get_fanos, \\\n",
    "    plot_fanos_hist, process_file, read_event_delays, save_event_delays\n",
    "from ursse.time_structure import get_bucket_gates, get_rate_in_gate_Hz,\\\n",
    "    reduce_df_to_one_gate, divide_df_into_time_bins, get_properties_in_time_bins\n",
    "import matplotlib.pyplot as plt\n",
    "import valstore as vt"
   ]
  },
  {
   "cell_type": "code",
   "execution_count": 3,
   "metadata": {},
   "outputs": [],
   "source": [
    "model = sms.Model(rf_noise_std=6e-5)"
   ]
  },
  {
   "cell_type": "code",
   "execution_count": 5,
   "metadata": {},
   "outputs": [
    {
     "data": {
      "text/plain": [
       "[{'shift': 'shift_02_28_2020',\n",
       "  'file': '1el_002.ptu',\n",
       "  'tau0': None,\n",
       "  'delta0': None,\n",
       "  'rand_seed_int': 1,\n",
       "  'spad_tts_rand_seed': None},\n",
       " {'shift': 'shift_02_28_2020',\n",
       "  'file': '1el_000.ptu',\n",
       "  'tau0': None,\n",
       "  'delta0': None,\n",
       "  'rand_seed_int': 2,\n",
       "  'spad_tts_rand_seed': None},\n",
       " {'shift': 'shift_02_28_2020',\n",
       "  'file': '1el_001.ptu',\n",
       "  'tau0': None,\n",
       "  'delta0': None,\n",
       "  'rand_seed_int': 3,\n",
       "  'spad_tts_rand_seed': None},\n",
       " {'shift': 'shift_03_05_2020',\n",
       "  'file': '1el_filters_000.ptu',\n",
       "  'tau0': None,\n",
       "  'delta0': None,\n",
       "  'rand_seed_int': 4,\n",
       "  'spad_tts_rand_seed': None},\n",
       " {'shift': 'shift_03_05_2020',\n",
       "  'file': '1el_filters_008.ptu',\n",
       "  'tau0': None,\n",
       "  'delta0': None,\n",
       "  'rand_seed_int': 5,\n",
       "  'spad_tts_rand_seed': None}]"
      ]
     },
     "execution_count": 5,
     "metadata": {},
     "output_type": "execute_result"
    }
   ],
   "source": [
    "model.files_and_pars"
   ]
  },
  {
   "cell_type": "code",
   "execution_count": 50,
   "metadata": {},
   "outputs": [
    {
     "data": {
      "image/png": "[encoded data removed]",
      "text/plain": [
       "<Figure size 1080x504 with 1 Axes>"
      ]
     },
     "metadata": {
      "needs_background": "light"
     },
     "output_type": "display_data"
    },
    {
     "data": {
      "text/html": [
       "<div>\n",
       "<style scoped>\n",
       "    .dataframe tbody tr th:only-of-type {\n",
       "        vertical-align: middle;\n",
       "    }\n",
       "\n",
       "    .dataframe tbody tr th {\n",
       "        vertical-align: top;\n",
       "    }\n",
       "\n",
       "    .dataframe thead th {\n",
       "        text-align: right;\n",
       "    }\n",
       "</style>\n",
       "<table border=\"1\" class=\"dataframe\">\n",
       "  <thead>\n",
       "    <tr style=\"text-align: right;\">\n",
       "      <th></th>\n",
       "      <th>shift</th>\n",
       "      <th>sample_length_sec</th>\n",
       "      <th>mean</th>\n",
       "      <th>std</th>\n",
       "    </tr>\n",
       "  </thead>\n",
       "  <tbody>\n",
       "    <tr>\n",
       "      <th>0</th>\n",
       "      <td>shift_02_28_2020</td>\n",
       "      <td>59.866547</td>\n",
       "      <td>0.003289</td>\n",
       "      <td>0.000040</td>\n",
       "    </tr>\n",
       "    <tr>\n",
       "      <th>1</th>\n",
       "      <td>shift_02_28_2020</td>\n",
       "      <td>19.955523</td>\n",
       "      <td>0.003291</td>\n",
       "      <td>0.000036</td>\n",
       "    </tr>\n",
       "    <tr>\n",
       "      <th>2</th>\n",
       "      <td>shift_02_28_2020</td>\n",
       "      <td>19.955485</td>\n",
       "      <td>0.003292</td>\n",
       "      <td>0.000033</td>\n",
       "    </tr>\n",
       "    <tr>\n",
       "      <th>3</th>\n",
       "      <td>shift_03_05_2020</td>\n",
       "      <td>19.955516</td>\n",
       "      <td>0.003318</td>\n",
       "      <td>0.000082</td>\n",
       "    </tr>\n",
       "    <tr>\n",
       "      <th>4</th>\n",
       "      <td>shift_03_05_2020</td>\n",
       "      <td>29.933286</td>\n",
       "      <td>0.003346</td>\n",
       "      <td>0.000046</td>\n",
       "    </tr>\n",
       "  </tbody>\n",
       "</table>\n",
       "</div>"
      ],
      "text/plain": [
       "              shift  sample_length_sec      mean       std\n",
       "0  shift_02_28_2020          59.866547  0.003289  0.000040\n",
       "1  shift_02_28_2020          19.955523  0.003291  0.000036\n",
       "2  shift_02_28_2020          19.955485  0.003292  0.000033\n",
       "3  shift_03_05_2020          19.955516  0.003318  0.000082\n",
       "4  shift_03_05_2020          29.933286  0.003346  0.000046"
      ]
     },
     "execution_count": 50,
     "metadata": {},
     "output_type": "execute_result"
    }
   ],
   "source": [
    "n = 10000\n",
    "show_hist = True\n",
    "fig, ax = plt.subplots(figsize=(15,7))\n",
    "results = []\n",
    "for d in model.files_and_pars:\n",
    "    gate = (61000, 66000)\n",
    "    df0, n_revolutions = read_event_delays(\n",
    "        PathAssistant(d['shift']).get_time_stamp_file_path(d['file']))\n",
    "    df = reduce_df_to_one_gate(df0, gate).reset_index(drop=True)\n",
    "    res = df.groupby((df.index/n).astype(int)).apply(lambda a: len(a.index)/(a['revolution'].max()-a['revolution'].min()))\n",
    "    if show_hist:\n",
    "        ax.hist(res, density=True, label=d['shift'])\n",
    "    av, std = res.mean(), res.std()\n",
    "#     print(d['shift']+\" \", f\"{133e-9*n_revolutions:.3f}\",\"av = \", av, \" std = \", std)\n",
    "    results.append({\"shift\": d['shift'], \"sample_length_sec\": 133e-9*n_revolutions, \"mean\": av, \"std\": std})\n",
    "ax.legend()\n",
    "plt.show()\n",
    "res_df = pd.DataFrame(results)\n",
    "res_df"
   ]
  },
  {
   "cell_type": "code",
   "execution_count": 52,
   "metadata": {},
   "outputs": [
    {
     "data": {
      "text/plain": [
       "1.7183921294243532"
      ]
     },
     "execution_count": 52,
     "metadata": {},
     "output_type": "execute_result"
    }
   ],
   "source": [
    "(lambda x: 100*(x.max()-x.min())/x.mean())(res_df['mean'])"
   ]
  },
  {
   "cell_type": "code",
   "execution_count": 63,
   "metadata": {},
   "outputs": [
    {
     "data": {
      "text/html": [
       "<div>\n",
       "<style scoped>\n",
       "    .dataframe tbody tr th:only-of-type {\n",
       "        vertical-align: middle;\n",
       "    }\n",
       "\n",
       "    .dataframe tbody tr th {\n",
       "        vertical-align: top;\n",
       "    }\n",
       "\n",
       "    .dataframe thead th {\n",
       "        text-align: right;\n",
       "    }\n",
       "</style>\n",
       "<table border=\"1\" class=\"dataframe\">\n",
       "  <thead>\n",
       "    <tr style=\"text-align: right;\">\n",
       "      <th></th>\n",
       "      <th>shift</th>\n",
       "      <th>sample_length_sec</th>\n",
       "      <th>mean</th>\n",
       "      <th>std</th>\n",
       "      <th>n_pieces</th>\n",
       "    </tr>\n",
       "  </thead>\n",
       "  <tbody>\n",
       "    <tr>\n",
       "      <th>0</th>\n",
       "      <td>shift_02_28_2020</td>\n",
       "      <td>59.866547</td>\n",
       "      <td>0.003288</td>\n",
       "      <td>0.000017</td>\n",
       "      <td>10</td>\n",
       "    </tr>\n",
       "    <tr>\n",
       "      <th>1</th>\n",
       "      <td>shift_02_28_2020</td>\n",
       "      <td>19.955523</td>\n",
       "      <td>0.003291</td>\n",
       "      <td>0.000009</td>\n",
       "      <td>3</td>\n",
       "    </tr>\n",
       "    <tr>\n",
       "      <th>2</th>\n",
       "      <td>shift_02_28_2020</td>\n",
       "      <td>19.955485</td>\n",
       "      <td>0.003289</td>\n",
       "      <td>0.000014</td>\n",
       "      <td>3</td>\n",
       "    </tr>\n",
       "    <tr>\n",
       "      <th>3</th>\n",
       "      <td>shift_03_05_2020</td>\n",
       "      <td>19.955516</td>\n",
       "      <td>0.003321</td>\n",
       "      <td>0.000053</td>\n",
       "      <td>3</td>\n",
       "    </tr>\n",
       "    <tr>\n",
       "      <th>4</th>\n",
       "      <td>shift_03_05_2020</td>\n",
       "      <td>29.933286</td>\n",
       "      <td>0.003346</td>\n",
       "      <td>0.000020</td>\n",
       "      <td>5</td>\n",
       "    </tr>\n",
       "  </tbody>\n",
       "</table>\n",
       "</div>"
      ],
      "text/plain": [
       "              shift  sample_length_sec      mean       std  n_pieces\n",
       "0  shift_02_28_2020          59.866547  0.003288  0.000017        10\n",
       "1  shift_02_28_2020          19.955523  0.003291  0.000009         3\n",
       "2  shift_02_28_2020          19.955485  0.003289  0.000014         3\n",
       "3  shift_03_05_2020          19.955516  0.003321  0.000053         3\n",
       "4  shift_03_05_2020          29.933286  0.003346  0.000020         5"
      ]
     },
     "execution_count": 63,
     "metadata": {},
     "output_type": "execute_result"
    }
   ],
   "source": [
    "n = 140000\n",
    "show_hist = False\n",
    "if show_hist: fig, ax = plt.subplots(figsize=(15,7))\n",
    "results = []\n",
    "for d in model.files_and_pars:\n",
    "    gate = (61000, 66000)\n",
    "    df0, n_revolutions = read_event_delays(\n",
    "        PathAssistant(d['shift']).get_time_stamp_file_path(d['file']))\n",
    "    df = reduce_df_to_one_gate(df0, gate).reset_index(drop=True)\n",
    "    res = df.groupby((df.index/n).astype(int)).apply(lambda a: len(a.index)/(a['revolution'].max()-a['revolution'].min()))\n",
    "    if show_hist:\n",
    "        ax.hist(res, density=True, label=d['shift'])\n",
    "    av, std = res.mean(), res.std()\n",
    "#     print(d['shift']+\" \", f\"{133e-9*n_revolutions:.3f}\",\"av = \", av, \" std = \", std)\n",
    "    results.append({\"shift\": d['shift'], \"sample_length_sec\": 133e-9*n_revolutions, \"mean\": av, \"std\": std,\n",
    "                    \"n_pieces\": int(len(df.index)/n)})\n",
    "if show_hist:\n",
    "    ax.legend()\n",
    "    plt.show()\n",
    "res_df = pd.DataFrame(results)\n",
    "res_df"
   ]
  },
  {
   "cell_type": "code",
   "execution_count": 100,
   "metadata": {},
   "outputs": [],
   "source": [
    "p = res_df.loc[0,\"mean\"]\n",
    "vt.newval(\"p\", p, \"{:.2e}\", \"\",\n",
    "          \"analyzing_collected_data/all_single_electron_data/av_count_and_noise_analysis.ipynb\")\n",
    "vt.newval(\"avnRev\", 1/p, \"{:.0f}\", \"\",\n",
    "         \"analyzing_collected_data/all_single_electron_data/av_count_and_noise_analysis.ipynb\")\n",
    "vt.newval(\"avcps\", 7.5e6*p/1e3, \"{:.1f}\", \"kHz\",\n",
    "         \"analyzing_collected_data/all_single_electron_data/av_count_and_noise_analysis.ipynb\")"
   ]
  },
  {
   "cell_type": "markdown",
   "metadata": {},
   "source": [
    "# Noise"
   ]
  },
  {
   "cell_type": "code",
   "execution_count": 88,
   "metadata": {},
   "outputs": [],
   "source": [
    "shift = PathAssistant('shift_02_28_2020')\n",
    "df = pd.read_csv(os.path.join(shift.get_shift_cache_folder_path(), \"background_000.csv\"))\n",
    "df = df[df['channel'] == 1].drop(columns=['channel']).reset_index(drop=True)"
   ]
  },
  {
   "cell_type": "code",
   "execution_count": 102,
   "metadata": {},
   "outputs": [
    {
     "data": {
      "text/plain": [
       "108.2174483231816"
      ]
     },
     "execution_count": 102,
     "metadata": {},
     "output_type": "execute_result"
    }
   ],
   "source": [
    "dark_counts = 7.5e6*len(df.index)/df.iloc[-1]['revolution'] # Hz total dark counts\n",
    "dark_counts"
   ]
  },
  {
   "cell_type": "code",
   "execution_count": 103,
   "metadata": {},
   "outputs": [],
   "source": [
    "vt.newval(\"DarkCounts\", dark_counts, \"{:.0f}\", \"Hz\",\n",
    "         \"analyzing_collected_data/all_single_electron_data/av_count_and_noise_analysis.ipynb\")"
   ]
  },
  {
   "cell_type": "code",
   "execution_count": 92,
   "metadata": {},
   "outputs": [
    {
     "data": {
      "image/png": "[encoded data removed]",
      "text/plain": [
       "<Figure size 1080x270 with 1 Axes>"
      ]
     },
     "metadata": {
      "needs_background": "light"
     },
     "output_type": "display_data"
    }
   ],
   "source": [
    "plt.hist(df['delay'])\n",
    "plt.title(\"Histogram for noise, horizontal axis = time within one revolution\")\n",
    "plt.show()"
   ]
  },
  {
   "cell_type": "code",
   "execution_count": 104,
   "metadata": {},
   "outputs": [
    {
     "data": {
      "text/plain": [
       "4.032430902180298"
      ]
     },
     "execution_count": 104,
     "metadata": {},
     "output_type": "execute_result"
    }
   ],
   "source": [
    "dark_counts_gated = 7.5e6*np.sum((df['delay'] > 61000) & (df['delay'] < 66000))/df.iloc[-1]['revolution']\n",
    "# gated dark counts\n",
    "dark_counts_gated"
   ]
  },
  {
   "cell_type": "code",
   "execution_count": 105,
   "metadata": {},
   "outputs": [],
   "source": [
    "vt.newval(\"DarkCountsGated\", dark_counts_gated, \"{:.1f}\", \"Hz\",\n",
    "         \"analyzing_collected_data/all_single_electron_data/av_count_and_noise_analysis.ipynb\")"
   ]
  },
  {
   "cell_type": "code",
   "execution_count": null,
   "metadata": {},
   "outputs": [],
   "source": []
  }
 ],
 "metadata": {
  "kernelspec": {
   "display_name": "ursee-env",
   "language": "python",
   "name": "ursee-env"
  },
  "language_info": {
   "codemirror_mode": {
    "name": "ipython",
    "version": 3
   },
   "file_extension": ".py",
   "mimetype": "text/x-python",
   "name": "python",
   "nbconvert_exporter": "python",
   "pygments_lexer": "ipython3",
   "version": "3.8.0"
  }
 },
 "nbformat": 4,
 "nbformat_minor": 4
}
