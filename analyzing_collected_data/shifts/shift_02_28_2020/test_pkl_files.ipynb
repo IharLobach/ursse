{
 "cells": [
  {
   "cell_type": "code",
   "execution_count": 2,
   "id": "f2d3c64f",
   "metadata": {},
   "outputs": [],
   "source": [
    "import numpy as np\n",
    "import pandas as pd\n",
    "import matplotlib.pyplot as plt\n",
    "from ursse.path_assistant import PathAssistant as pa\n",
    "import valstore as vt\n",
    "shift = pa(\"shift_02_28_2020\")\n",
    "import os"
   ]
  },
  {
   "cell_type": "code",
   "execution_count": 4,
   "id": "c7d52210",
   "metadata": {},
   "outputs": [],
   "source": [
    "fp = os.path.join(shift.get_shift_cache_folder_path(), '1el_002.pkl')"
   ]
  },
  {
   "cell_type": "code",
   "execution_count": 5,
   "id": "f4d82583",
   "metadata": {},
   "outputs": [
    {
     "data": {
      "text/html": [
       "<div>\n",
       "<style scoped>\n",
       "    .dataframe tbody tr th:only-of-type {\n",
       "        vertical-align: middle;\n",
       "    }\n",
       "\n",
       "    .dataframe tbody tr th {\n",
       "        vertical-align: top;\n",
       "    }\n",
       "\n",
       "    .dataframe thead th {\n",
       "        text-align: right;\n",
       "    }\n",
       "</style>\n",
       "<table border=\"1\" class=\"dataframe\">\n",
       "  <thead>\n",
       "    <tr style=\"text-align: right;\">\n",
       "      <th></th>\n",
       "      <th>revolution</th>\n",
       "      <th>delay</th>\n",
       "    </tr>\n",
       "  </thead>\n",
       "  <tbody>\n",
       "    <tr>\n",
       "      <th>51</th>\n",
       "      <td>51</td>\n",
       "      <td>62977.0</td>\n",
       "    </tr>\n",
       "    <tr>\n",
       "      <th>172</th>\n",
       "      <td>171</td>\n",
       "      <td>64337.0</td>\n",
       "    </tr>\n",
       "    <tr>\n",
       "      <th>241</th>\n",
       "      <td>239</td>\n",
       "      <td>62389.0</td>\n",
       "    </tr>\n",
       "    <tr>\n",
       "      <th>601</th>\n",
       "      <td>598</td>\n",
       "      <td>63454.0</td>\n",
       "    </tr>\n",
       "    <tr>\n",
       "      <th>1004</th>\n",
       "      <td>999</td>\n",
       "      <td>64303.0</td>\n",
       "    </tr>\n",
       "    <tr>\n",
       "      <th>...</th>\n",
       "      <td>...</td>\n",
       "      <td>...</td>\n",
       "    </tr>\n",
       "    <tr>\n",
       "      <th>452640074</th>\n",
       "      <td>450123677</td>\n",
       "      <td>62846.0</td>\n",
       "    </tr>\n",
       "    <tr>\n",
       "      <th>452640278</th>\n",
       "      <td>450123880</td>\n",
       "      <td>62373.0</td>\n",
       "    </tr>\n",
       "    <tr>\n",
       "      <th>452640330</th>\n",
       "      <td>450123931</td>\n",
       "      <td>62842.0</td>\n",
       "    </tr>\n",
       "    <tr>\n",
       "      <th>452640764</th>\n",
       "      <td>450124364</td>\n",
       "      <td>62746.0</td>\n",
       "    </tr>\n",
       "    <tr>\n",
       "      <th>452640818</th>\n",
       "      <td>450124417</td>\n",
       "      <td>63037.0</td>\n",
       "    </tr>\n",
       "  </tbody>\n",
       "</table>\n",
       "<p>1490077 rows × 2 columns</p>\n",
       "</div>"
      ],
      "text/plain": [
       "           revolution    delay\n",
       "51                 51  62977.0\n",
       "172               171  64337.0\n",
       "241               239  62389.0\n",
       "601               598  63454.0\n",
       "1004              999  64303.0\n",
       "...               ...      ...\n",
       "452640074   450123677  62846.0\n",
       "452640278   450123880  62373.0\n",
       "452640330   450123931  62842.0\n",
       "452640764   450124364  62746.0\n",
       "452640818   450124417  63037.0\n",
       "\n",
       "[1490077 rows x 2 columns]"
      ]
     },
     "execution_count": 5,
     "metadata": {},
     "output_type": "execute_result"
    }
   ],
   "source": [
    "pd.read_pickle(fp)"
   ]
  },
  {
   "cell_type": "code",
   "execution_count": null,
   "id": "e9f05219",
   "metadata": {},
   "outputs": [],
   "source": []
  }
 ],
 "metadata": {
  "kernelspec": {
   "display_name": "Python 3",
   "language": "python",
   "name": "python3"
  },
  "language_info": {
   "codemirror_mode": {
    "name": "ipython",
    "version": 3
   },
   "file_extension": ".py",
   "mimetype": "text/x-python",
   "name": "python",
   "nbconvert_exporter": "python",
   "pygments_lexer": "ipython3",
   "version": "3.9.4"
  }
 },
 "nbformat": 4,
 "nbformat_minor": 5
}
