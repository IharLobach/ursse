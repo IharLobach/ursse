{
 "cells": [
  {
   "cell_type": "code",
   "execution_count": 15,
   "metadata": {},
   "outputs": [],
   "source": [
    "import numpy as np\n",
    "import pandas as pd\n",
    "import matplotlib.pyplot as plt\n",
    "from ursse.hydra_harp_file_reader import HydraHarpFile\n",
    "from ursse.path_assistant import PathAssistant as pa\n",
    "import ursse.path_assistant\n",
    "import statsmodels.api as sm\n",
    "import valstore as vt\n",
    "import os\n",
    "shift = pa(\"tests_11_14_2019\")"
   ]
  },
  {
   "cell_type": "code",
   "execution_count": 2,
   "metadata": {},
   "outputs": [],
   "source": [
    "df = pd.read_csv(os.path.join(shift.shift_dir, \"RefCurve_2019-10-31_0_134552.Wfm.csv\"), header=None, nrows=10000)\n",
    "df = df.iloc[:,0].apply(lambda x: pd.Series([float(y) for y in x.split(\";\")]))"
   ]
  },
  {
   "cell_type": "code",
   "execution_count": 3,
   "metadata": {},
   "outputs": [
    {
     "data": {
      "text/plain": [
       "[<matplotlib.lines.Line2D at 0x7ff2e97d0b50>]"
      ]
     },
     "execution_count": 3,
     "metadata": {},
     "output_type": "execute_result"
    },
    {
     "data": {
      "image/png": "[encoded data removed]",
      "text/plain": [
       "<Figure size 432x288 with 1 Axes>"
      ]
     },
     "metadata": {
      "needs_background": "light"
     },
     "output_type": "display_data"
    }
   ],
   "source": [
    "y = df.loc[4390:4404,0].values\n",
    "y = np.array([0]+list(y)+[0])\n",
    "plt.plot(y)"
   ]
  },
  {
   "cell_type": "code",
   "execution_count": 4,
   "metadata": {},
   "outputs": [
    {
     "data": {
      "text/plain": [
       "[<matplotlib.lines.Line2D at 0x7ff2e8d6cfd0>]"
      ]
     },
     "execution_count": 4,
     "metadata": {},
     "output_type": "execute_result"
    },
    {
     "data": {
      "image/png": "[encoded data removed]",
      "text/plain": [
       "<Figure size 432x288 with 1 Axes>"
      ]
     },
     "metadata": {
      "needs_background": "light"
     },
     "output_type": "display_data"
    }
   ],
   "source": [
    "from scipy.interpolate import interp1d\n",
    "x0 = np.arange(len(y))\n",
    "f = interp1d(x0, y, kind='cubic')\n",
    "x = np.linspace(0, max(x0), 100)\n",
    "y = f(x)\n",
    "for i in range(6):\n",
    "    y[i] = 0\n",
    "for i in range(5):\n",
    "    y[-i] = 0\n",
    "\n",
    "plt.plot(x, y)"
   ]
  },
  {
   "cell_type": "code",
   "execution_count": 5,
   "metadata": {},
   "outputs": [],
   "source": [
    "# full_path = os.path.join(shift.shift_dir, \"RefCurve_2019-11-14_0_160113.Wfm.bin\")\n",
    "# data = np.fromfile(full_path,dtype=np.float32)\n",
    "# ch1 = data[::2][1:]\n",
    "# ch2 = data[1::2][1:]\n",
    "# plt.plot(ch1[100000-450:100000-400])"
   ]
  },
  {
   "cell_type": "code",
   "execution_count": 6,
   "metadata": {},
   "outputs": [],
   "source": [
    "# scale=0.5\n",
    "# plt.rcParams[\"text.usetex\"] =True\n",
    "# plt.rc('text.latex', preamble=r'\\usepackage{siunitx}')\n",
    "# plt.rcParams['figure.figsize'] = [scale*25, scale*7.5]\n",
    "\n",
    "\n",
    "# d = 0\n",
    "\n",
    "# halfmax = max(y)/2\n",
    "# for i,z in enumerate(y):\n",
    "#     if i>0:\n",
    "#         if (z>halfmax) and (y[i-1]<=halfmax):\n",
    "#             left_pos = i-d\n",
    "#         if (z<halfmax) and (y[i-1]>=halfmax):\n",
    "#             right_pos = i+d\n",
    "\n",
    "# plt.plot(y, linewidth=scale*12)\n",
    "# arrowstyle = '<->'\n",
    "# ddd = 0\n",
    "# plt.annotate(s=\"\", xy=(left+ddd, halfmax),\n",
    "#                  xytext=(right-ddd, halfmax),\n",
    "#                  arrowprops=dict(\n",
    "#                      arrowstyle=arrowstyle,\n",
    "#                      linewidth=scale*12))\n",
    "\n",
    "\n",
    "# # for i,wf in enumerate(wfs_filtered):\n",
    "# #     halfmax = max(wf)/2\n",
    "# #     left, right = left_pos[i], right_pos[i]\n",
    "# #     plt.plot(wf, linewidth=scale*12)\n",
    "# #     plt.xlim(0,len(wf))\n",
    "# #     arrowstyle = '-' if i==0 else '<->'\n",
    "# #     ddd = 5 if i==0 else 0\n",
    "# #     plt.annotate(s=\"\", xy=(left+ddd, halfmax),\n",
    "# #                  xytext=(right-ddd, halfmax),\n",
    "# #                  arrowprops=dict(\n",
    "# #                      arrowstyle=arrowstyle,\n",
    "# #                      linewidth=scale*12))\n",
    "# #     dt0 = per*1e9/len(wf)\n",
    "# #     plt.annotate(s=r\"\\SI{\"+f\"{(right-left-2*d)*dt0:.1f}\" + r\"}{ns}\",xy=(right+10, halfmax),\n",
    "# #                 fontsize=scale*120)\n",
    "# #     plt.axis('off')\n",
    "# # #     plt.savefig(os.path.join(prl_images,\n",
    "# # #                              \"integrator_and_comb_filter\"\n",
    "# # #                              ,names[i]),\n",
    "# # #             dpi=300, bbox_inches='tight', facevolor='white')\n",
    "# #     plt.show()"
   ]
  },
  {
   "cell_type": "code",
   "execution_count": 22,
   "metadata": {},
   "outputs": [
    {
     "data": {
      "image/png": "[encoded data removed]",
      "text/plain": [
       "<Figure size 648x216 with 1 Axes>"
      ]
     },
     "metadata": {
      "needs_background": "light"
     },
     "output_type": "display_data"
    }
   ],
   "source": [
    "x = np.linspace(-4-20, 170+4, 1000)\n",
    "y = np.sum([np.exp(-(x-mu)**2/2) for mu in [5, 100, 120]], axis=0)\n",
    "fig, ax = plt.subplots(figsize=(9, 3))\n",
    "plt.plot(x, y, linewidth=8)\n",
    "# plt.xlim(-50,50)\n",
    "plt.axis('off')\n",
    "fig.savefig(os.path.join(ursse.path_assistant.data_folder,\n",
    "                         \"for_publications\", \"jinst\",\n",
    "                         \"spad_pulses.png\"),\n",
    "            dpi=300, bbox_inches='tight')\n",
    "plt.show()"
   ]
  },
  {
   "cell_type": "code",
   "execution_count": null,
   "metadata": {},
   "outputs": [],
   "source": []
  }
 ],
 "metadata": {
  "kernelspec": {
   "display_name": "ursee-env",
   "language": "python",
   "name": "ursee-env"
  },
  "language_info": {
   "codemirror_mode": {
    "name": "ipython",
    "version": 3
   },
   "file_extension": ".py",
   "mimetype": "text/x-python",
   "name": "python",
   "nbconvert_exporter": "python",
   "pygments_lexer": "ipython3",
   "version": "3.8.0"
  }
 },
 "nbformat": 4,
 "nbformat_minor": 4
}
