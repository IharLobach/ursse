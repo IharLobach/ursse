{
 "cells": [
  {
   "cell_type": "code",
   "execution_count": 5,
   "id": "ed954e80",
   "metadata": {},
   "outputs": [],
   "source": [
    "import numpy as np\n",
    "import pandas as pd\n",
    "import matplotlib.pyplot as plt\n",
    "import pickle\n",
    "from scipy.stats import norm"
   ]
  },
  {
   "cell_type": "code",
   "execution_count": 2,
   "id": "9be05126",
   "metadata": {},
   "outputs": [],
   "source": [
    "all_results = pickle.load(open('photostatistics_summary.p', 'rb'))"
   ]
  },
  {
   "cell_type": "code",
   "execution_count": 3,
   "id": "e2581674",
   "metadata": {},
   "outputs": [
    {
     "data": {
      "text/plain": [
       "{'file_name': '1el_000.ptu',\n",
       " 'total_iota_revolutions0': 1227008675,\n",
       " 'total_time0': 163.60115666666667,\n",
       " 'total_iota_revolutions': 1132499746,\n",
       " 'total_time': 150.99996613333334,\n",
       " 'total_events': [4580102, 2287226],\n",
       " 'count_rate': [30331.80812739891, 15147.195450231915],\n",
       " 'num_rev_above_one': [0, 0],\n",
       " 'total_coincidence_events': 9239,\n",
       " 'coincidence_count_rate': 61.185444186404254,\n",
       " 'p': [0.004044241083653188, 0.002019626060030922],\n",
       " 'p12_meas': 8.158059224853902e-06,\n",
       " 'p1*p2': 8.167854685593676e-06}"
      ]
     },
     "execution_count": 3,
     "metadata": {},
     "output_type": "execute_result"
    }
   ],
   "source": [
    "all_results[0]"
   ]
  },
  {
   "cell_type": "code",
   "execution_count": 19,
   "id": "ae61bf1b",
   "metadata": {},
   "outputs": [],
   "source": [
    "def test(res, print_results=True):\n",
    "    p1p2 = res['p1*p2']\n",
    "    tot_rev = res['total_iota_revolutions']\n",
    "    mu = p1p2 * tot_rev\n",
    "    sigma = np.sqrt(tot_rev * p1p2 * (1 - p1p2))\n",
    "    meas = res['total_coincidence_events']\n",
    "    Pvalue = 2 * norm.cdf(-np.abs(meas - mu), 0, sigma)\n",
    "    res['P-value'] = Pvalue\n",
    "    if print_results:\n",
    "        print(\"----------------------------------------------------------\")\n",
    "        print(\"file_name =\", res['file_name'])\n",
    "        print(\"mu =\", mu)\n",
    "        print(\"sigma =\", sigma)\n",
    "        print(\"measured_coincidence_events =\", meas)\n",
    "        print(\"P-value =\", Pvalue)\n",
    "        print(\"----------------------------------------------------------\")\n",
    "    return Pvalue"
   ]
  },
  {
   "cell_type": "code",
   "execution_count": 20,
   "id": "43d510b7",
   "metadata": {},
   "outputs": [
    {
     "name": "stdout",
     "output_type": "stream",
     "text": [
      "----------------------------------------------------------\n",
      "file_name = 1el_000.ptu\n",
      "mu = 9250.093356799747\n",
      "sigma = 96.17701286368475\n",
      "measured_coincidence_events = 9239\n",
      "P-value = 0.908173161072309\n",
      "----------------------------------------------------------\n",
      "----------------------------------------------------------\n",
      "file_name = 1el_001.ptu\n",
      "mu = 18417.268976904263\n",
      "sigma = 135.70968372463807\n",
      "measured_coincidence_events = 18474\n",
      "P-value = 0.6759235454018303\n",
      "----------------------------------------------------------\n",
      "----------------------------------------------------------\n",
      "file_name = 1el_002.ptu\n",
      "mu = 18544.616445189255\n",
      "sigma = 136.17805856081512\n",
      "measured_coincidence_events = 18564\n",
      "P-value = 0.8868116269972021\n",
      "----------------------------------------------------------\n",
      "----------------------------------------------------------\n",
      "file_name = 1el_003.ptu\n",
      "mu = 18284.77279342304\n",
      "sigma = 135.22065017571123\n",
      "measured_coincidence_events = 18591\n",
      "P-value = 0.023534274511913443\n",
      "----------------------------------------------------------\n",
      "----------------------------------------------------------\n",
      "file_name = 1el_004.ptu\n",
      "mu = 18492.727318509766\n",
      "sigma = 135.98740883136196\n",
      "measured_coincidence_events = 18311\n",
      "P-value = 0.18143359223152788\n",
      "----------------------------------------------------------\n",
      "----------------------------------------------------------\n",
      "file_name = 2el_000.ptu\n",
      "mu = 31943.667667379472\n",
      "sigma = 178.72500978591245\n",
      "measured_coincidence_events = 31977\n",
      "P-value = 0.8520521598538823\n",
      "----------------------------------------------------------\n",
      "----------------------------------------------------------\n",
      "file_name = 2el_001.ptu\n",
      "mu = 1721.0194236435889\n",
      "sigma = 41.48449122168925\n",
      "measured_coincidence_events = 1698\n",
      "P-value = 0.578968347184236\n",
      "----------------------------------------------------------\n",
      "----------------------------------------------------------\n",
      "file_name = 2el_002.ptu\n",
      "mu = 73073.3782283841\n",
      "sigma = 270.31649144331726\n",
      "measured_coincidence_events = 73735\n",
      "P-value = 0.014381840598856947\n",
      "----------------------------------------------------------\n",
      "----------------------------------------------------------\n",
      "file_name = 2el_003.ptu\n",
      "mu = 73338.69482205404\n",
      "sigma = 270.8067666788704\n",
      "measured_coincidence_events = 72969\n",
      "P-value = 0.17220246975672415\n",
      "----------------------------------------------------------\n",
      "----------------------------------------------------------\n",
      "file_name = 2el_004.ptu\n",
      "mu = 33504.085261390166\n",
      "sigma = 183.0382277220552\n",
      "measured_coincidence_events = 33438\n",
      "P-value = 0.7180648908000126\n",
      "----------------------------------------------------------\n"
     ]
    }
   ],
   "source": [
    "for res in all_results:\n",
    "    test(res)"
   ]
  },
  {
   "cell_type": "code",
   "execution_count": null,
   "id": "e6a02582",
   "metadata": {},
   "outputs": [],
   "source": []
  }
 ],
 "metadata": {
  "kernelspec": {
   "display_name": "Python 3",
   "language": "python",
   "name": "python3"
  },
  "language_info": {
   "codemirror_mode": {
    "name": "ipython",
    "version": 3
   },
   "file_extension": ".py",
   "mimetype": "text/x-python",
   "name": "python",
   "nbconvert_exporter": "python",
   "pygments_lexer": "ipython3",
   "version": "3.9.4"
  }
 },
 "nbformat": 4,
 "nbformat_minor": 5
}
