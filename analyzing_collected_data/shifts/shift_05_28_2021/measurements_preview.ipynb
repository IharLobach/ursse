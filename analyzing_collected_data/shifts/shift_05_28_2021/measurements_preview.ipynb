{
 "cells": [
  {
   "cell_type": "code",
   "execution_count": 1,
   "id": "61cc7538",
   "metadata": {},
   "outputs": [],
   "source": [
    "import numpy as np\n",
    "import pandas as pd\n",
    "import matplotlib.pyplot as plt\n",
    "import ursse.phase_space_trajectory as pst\n",
    "# import ursse_cpp.sync_motion_sim as sm\n",
    "from config_ursse import get_from_config, get_path_from_config, save_to_config\n",
    "from ursse.path_assistant import PathAssistant\n",
    "import os\n",
    "import valstore as vt\n",
    "images_dir = os.path.join(get_path_from_config(\"URSSE_sync_motion_note_dir\"),\n",
    "                          \"images\")\n",
    "shift = PathAssistant('shift_05_28_2021')\n",
    "np_rand_seed = 1\n",
    "from ursse.data_processing import \\\n",
    "    get_event_delays, plot_arrival_time_hist, get_events_array, get_fanos, \\\n",
    "    plot_fanos_hist, process_file, read_event_delays, save_event_delays\n",
    "\n",
    "iota_period_sec = get_from_config(\"IOTA_revolution_period\")\n",
    "dt_sec = get_from_config(\"dt\")\n",
    "iota_period_au = iota_period_sec/dt_sec"
   ]
  },
  {
   "cell_type": "code",
   "execution_count": 2,
   "id": "6cc33f92",
   "metadata": {},
   "outputs": [
    {
     "data": {
      "text/html": [
       "<div>\n",
       "<style scoped>\n",
       "    .dataframe tbody tr th:only-of-type {\n",
       "        vertical-align: middle;\n",
       "    }\n",
       "\n",
       "    .dataframe tbody tr th {\n",
       "        vertical-align: top;\n",
       "    }\n",
       "\n",
       "    .dataframe thead th {\n",
       "        text-align: right;\n",
       "    }\n",
       "</style>\n",
       "<table border=\"1\" class=\"dataframe\">\n",
       "  <thead>\n",
       "    <tr style=\"text-align: right;\">\n",
       "      <th></th>\n",
       "      <th>revolution</th>\n",
       "      <th>channel</th>\n",
       "      <th>delay</th>\n",
       "    </tr>\n",
       "  </thead>\n",
       "  <tbody>\n",
       "    <tr>\n",
       "      <th>0</th>\n",
       "      <td>388</td>\n",
       "      <td>3</td>\n",
       "      <td>59547</td>\n",
       "    </tr>\n",
       "    <tr>\n",
       "      <th>1</th>\n",
       "      <td>399</td>\n",
       "      <td>2</td>\n",
       "      <td>20291</td>\n",
       "    </tr>\n",
       "    <tr>\n",
       "      <th>2</th>\n",
       "      <td>491</td>\n",
       "      <td>2</td>\n",
       "      <td>20153</td>\n",
       "    </tr>\n",
       "    <tr>\n",
       "      <th>3</th>\n",
       "      <td>917</td>\n",
       "      <td>2</td>\n",
       "      <td>20301</td>\n",
       "    </tr>\n",
       "    <tr>\n",
       "      <th>4</th>\n",
       "      <td>1013</td>\n",
       "      <td>2</td>\n",
       "      <td>20417</td>\n",
       "    </tr>\n",
       "    <tr>\n",
       "      <th>...</th>\n",
       "      <td>...</td>\n",
       "      <td>...</td>\n",
       "      <td>...</td>\n",
       "    </tr>\n",
       "    <tr>\n",
       "      <th>7080715</th>\n",
       "      <td>1226944208</td>\n",
       "      <td>3</td>\n",
       "      <td>28329</td>\n",
       "    </tr>\n",
       "    <tr>\n",
       "      <th>7080716</th>\n",
       "      <td>1226961325</td>\n",
       "      <td>3</td>\n",
       "      <td>74516</td>\n",
       "    </tr>\n",
       "    <tr>\n",
       "      <th>7080717</th>\n",
       "      <td>1226964318</td>\n",
       "      <td>3</td>\n",
       "      <td>31166</td>\n",
       "    </tr>\n",
       "    <tr>\n",
       "      <th>7080718</th>\n",
       "      <td>1227006345</td>\n",
       "      <td>3</td>\n",
       "      <td>17320</td>\n",
       "    </tr>\n",
       "    <tr>\n",
       "      <th>7080719</th>\n",
       "      <td>1227008675</td>\n",
       "      <td>2</td>\n",
       "      <td>85886</td>\n",
       "    </tr>\n",
       "  </tbody>\n",
       "</table>\n",
       "<p>7080720 rows × 3 columns</p>\n",
       "</div>"
      ],
      "text/plain": [
       "         revolution  channel  delay\n",
       "0               388        3  59547\n",
       "1               399        2  20291\n",
       "2               491        2  20153\n",
       "3               917        2  20301\n",
       "4              1013        2  20417\n",
       "...             ...      ...    ...\n",
       "7080715  1226944208        3  28329\n",
       "7080716  1226961325        3  74516\n",
       "7080717  1226964318        3  31166\n",
       "7080718  1227006345        3  17320\n",
       "7080719  1227008675        2  85886\n",
       "\n",
       "[7080720 rows x 3 columns]"
      ]
     },
     "execution_count": 2,
     "metadata": {},
     "output_type": "execute_result"
    }
   ],
   "source": [
    "file_name = '1el_000.ptu'\n",
    "df = pd.read_pickle(shift.get_pickle_path(file_name))\n",
    "df"
   ]
  },
  {
   "cell_type": "code",
   "execution_count": 21,
   "id": "3d81f00a",
   "metadata": {},
   "outputs": [
    {
     "data": {
      "text/plain": [
       "1012517477.5220133"
      ]
     },
     "execution_count": 21,
     "metadata": {},
     "output_type": "execute_result"
    }
   ],
   "source": [
    "dt = 10 # sec\n",
    "n_per = dt/iota_period_sec\n",
    "rev = df['revolution']\n",
    "grouped = rev.groupby((rev/n_per).astype(int))\n",
    "av_rate = grouped.apply(lambda x: len(x.index))\n",
    "av_rev = grouped.apply(np.mean) calendar\n",
    "av_rate0 = av_rate[0]\n",
    "av_rev[av_rate > av_rate0/2][:-1].iloc[-1]"
   ]
  },
  {
   "cell_type": "code",
   "execution_count": 28,
   "id": "1d44b808",
   "metadata": {},
   "outputs": [
    {
     "data": {
      "text/plain": [
       "[<matplotlib.lines.Line2D at 0x15c068250>]"
      ]
     },
     "execution_count": 28,
     "metadata": {},
     "output_type": "execute_result"
    },
    {
     "data": {
      "image/png": "[encoded data removed]",
      "text/plain": [
       "<Figure size 1080x270 with 1 Axes>"
      ]
     },
     "metadata": {
      "needs_background": "light"
     },
     "output_type": "display_data"
    }
   ],
   "source": [
    "plt.plot(av_rev, av_rate)"
   ]
  },
  {
   "cell_type": "code",
   "execution_count": 22,
   "id": "2dc87043",
   "metadata": {},
   "outputs": [
    {
     "data": {
      "image/png": "[encoded data removed]",
      "text/plain": [
       "<Figure size 1080x360 with 1 Axes>"
      ]
     },
     "metadata": {
      "needs_background": "light"
     },
     "output_type": "display_data"
    }
   ],
   "source": [
    "spad1_channel = 2\n",
    "spad2_channel = 3\n",
    "fig, ax = plt.subplots(figsize=(15,5))\n",
    "ax.hist(df['delay'], bins=1000)\n",
    "gate1 = (17500,22500)\n",
    "ax.vlines(gate1, *ax.get_ylim())\n",
    "gate2 = (57000, 62000)\n",
    "ax.vlines(gate2, *ax.get_ylim())\n",
    "plt.show()"
   ]
  },
  {
   "cell_type": "code",
   "execution_count": 23,
   "id": "63b66234",
   "metadata": {},
   "outputs": [
    {
     "data": {
      "text/plain": [
       "(4692357, 641)"
      ]
     },
     "execution_count": 23,
     "metadata": {},
     "output_type": "execute_result"
    }
   ],
   "source": [
    "df1_ = df[df['delay'].between(*gate1)].reset_index(drop=True)\n",
    "np.sum(df1_['channel'] == spad1_channel), np.sum(df1_['channel'] == spad2_channel)"
   ]
  },
  {
   "cell_type": "code",
   "execution_count": 24,
   "id": "b83eed9d",
   "metadata": {},
   "outputs": [
    {
     "data": {
      "text/plain": [
       "(2343620, 979)"
      ]
     },
     "execution_count": 24,
     "metadata": {},
     "output_type": "execute_result"
    }
   ],
   "source": [
    "df2_ = df[df['delay'].between(*gate2)].reset_index(drop=True)\n",
    "np.sum(df2_['channel'] == spad2_channel), np.sum(df2_['channel'] == spad1_channel)"
   ]
  },
  {
   "cell_type": "code",
   "execution_count": 25,
   "id": "50c443ff",
   "metadata": {},
   "outputs": [],
   "source": [
    "df1 = df1_[df1_['channel'] == spad1_channel].drop(columns=['channel'])\n",
    "df2 = df2_[df2_['channel'] == spad2_channel].drop(columns=['channel'])"
   ]
  },
  {
   "cell_type": "code",
   "execution_count": 26,
   "id": "ede06e18",
   "metadata": {},
   "outputs": [
    {
     "data": {
      "text/plain": [
       "163.60115666666667"
      ]
     },
     "execution_count": 26,
     "metadata": {},
     "output_type": "execute_result"
    }
   ],
   "source": [
    "total_iota_revolutions = df.iloc[-1]['revolution']\n",
    "total_time = total_iota_revolutions * iota_period_sec\n",
    "total_time"
   ]
  },
  {
   "cell_type": "code",
   "execution_count": 27,
   "id": "ec84a1c1",
   "metadata": {},
   "outputs": [
    {
     "data": {
      "text/plain": [
       "1227008675"
      ]
     },
     "execution_count": 27,
     "metadata": {},
     "output_type": "execute_result"
    }
   ],
   "source": [
    "total_iota_revolutions"
   ]
  },
  {
   "cell_type": "code",
   "execution_count": null,
   "id": "fca790a9",
   "metadata": {},
   "outputs": [],
   "source": []
  },
  {
   "cell_type": "code",
   "execution_count": 8,
   "id": "0369fd68",
   "metadata": {},
   "outputs": [
    {
     "data": {
      "text/plain": [
       "28681.685970965118"
      ]
     },
     "execution_count": 8,
     "metadata": {},
     "output_type": "execute_result"
    }
   ],
   "source": [
    "spad1_events = len(df1.index)\n",
    "spad1_events/total_time"
   ]
  },
  {
   "cell_type": "code",
   "execution_count": 9,
   "id": "5bbff316",
   "metadata": {},
   "outputs": [
    {
     "data": {
      "text/plain": [
       "14325.204342992929"
      ]
     },
     "execution_count": 9,
     "metadata": {},
     "output_type": "execute_result"
    }
   ],
   "source": [
    "spad2_events = len(df2.index)\n",
    "spad2_events/total_time"
   ]
  },
  {
   "cell_type": "code",
   "execution_count": 10,
   "id": "dd2bd463",
   "metadata": {},
   "outputs": [
    {
     "name": "stdout",
     "output_type": "stream",
     "text": [
      "Std of arrival times in gate1 and gate2 (ps):\n"
     ]
    },
    {
     "data": {
      "text/plain": [
       "(370.43728009510966, 496.8633081458801)"
      ]
     },
     "execution_count": 10,
     "metadata": {},
     "output_type": "execute_result"
    }
   ],
   "source": [
    "print(\"Std of arrival times in gate1 and gate2 (ps):\")\n",
    "df1['delay'].std(), df2['delay'].std()"
   ]
  },
  {
   "cell_type": "code",
   "execution_count": 11,
   "id": "851260e9",
   "metadata": {},
   "outputs": [
    {
     "data": {
      "text/plain": [
       "(0, 0)"
      ]
     },
     "execution_count": 11,
     "metadata": {},
     "output_type": "execute_result"
    }
   ],
   "source": [
    "np.sum(df1['revolution'].value_counts() > 1), np.sum(df2['revolution'].value_counts() > 1)"
   ]
  },
  {
   "cell_type": "code",
   "execution_count": 12,
   "id": "b5db5150",
   "metadata": {},
   "outputs": [],
   "source": [
    "clean_df = df[(df['delay'].between(*gate1) & (df['channel'] == spad1_channel))\\\n",
    "              | (df['delay'].between(*gate2) & (df['channel'] == spad2_channel))]"
   ]
  },
  {
   "cell_type": "code",
   "execution_count": 13,
   "id": "880d7a31",
   "metadata": {},
   "outputs": [
    {
     "data": {
      "text/plain": [
       "57.82355206249866"
      ]
     },
     "execution_count": 13,
     "metadata": {},
     "output_type": "execute_result"
    }
   ],
   "source": [
    "coincidence_events = np.sum(clean_df['revolution'].value_counts() == 2)\n",
    "coincidence_events/total_time"
   ]
  },
  {
   "cell_type": "code",
   "execution_count": 14,
   "id": "1e5a7dbc",
   "metadata": {},
   "outputs": [
    {
     "data": {
      "text/plain": [
       "(7.709806941666489e-06, 7.304373554411181e-06)"
      ]
     },
     "execution_count": 14,
     "metadata": {},
     "output_type": "execute_result"
    }
   ],
   "source": [
    "p1 = spad1_events/total_iota_revolutions\n",
    "p2 = spad2_events/total_iota_revolutions\n",
    "p12_meas = coincidence_events/total_iota_revolutions\n",
    "p12_meas, p1*p2"
   ]
  },
  {
   "cell_type": "code",
   "execution_count": 2,
   "id": "7aa375e6",
   "metadata": {},
   "outputs": [],
   "source": [
    "def load_one_pickle(pickle_path, gate1=(17500, 22500), gate2=(57000, 62000), spad1_channel=2, spad2_channel=3):\n",
    "    df = pd.read_pickle(pickle_path)\n",
    "    total_iota_revolutions = df.iloc[-1]['revolution']\n",
    "    df1_ = df[df['delay'].between(*gate1)].reset_index(drop=True)\n",
    "    df2_ = df[df['delay'].between(*gate2)].reset_index(drop=True)\n",
    "    df1 = df1_[df1_['channel'] == spad1_channel].drop(columns=['channel'])\n",
    "    df2 = df2_[df2_['channel'] == spad2_channel].drop(columns=['channel'])\n",
    "    total_iota_revolutions = df.iloc[-1]['revolution']\n",
    "    total_time = total_iota_revolutions * iota_period_sec\n",
    "    spad1_events = len(df1.index)\n",
    "    rate1 = spad1_events/total_time\n",
    "    spad2_events = len(df2.index)\n",
    "    rate2 = spad2_events/total_time\n",
    "    num_rev_above_one1 = np.sum(df1['revolution'].value_counts() > 1)\n",
    "    num_rev_above_one2 = np.sum(df2['revolution'].value_counts() > 1)\n",
    "    clean_df = df[(df['delay'].between(*gate1) & (df['channel'] == spad1_channel))\\\n",
    "              | (df['delay'].between(*gate2) & (df['channel'] == spad2_channel))]\n",
    "    coincidence_events = np.sum(clean_df['revolution'].value_counts() == 2)\n",
    "    coincidence_count_rate = coincidence_events/total_time\n",
    "    p1 = spad1_events/total_iota_revolutions\n",
    "    p2 = spad2_events/total_iota_revolutions\n",
    "    p12_meas = coincidence_events/total_iota_revolutions\n",
    "    return {\n",
    "        \"df\": [df1, df2],\n",
    "        \"clean_df\": clean_df,\n",
    "        \"total_iota_revolutions\": total_iota_revolutions,\n",
    "        \"total_time\": total_time,\n",
    "        \"total_events\": [spad1_events, spad2_events],\n",
    "        \"count_rate\": [rate1, rate2],\n",
    "        \"num_rev_above_one\": [num_rev_above_one1, num_rev_above_one2],\n",
    "        \"coincidence_count_rate\": coincidence_count_rate,\n",
    "        \"p\": [p1, p2],\n",
    "        \"p12_meas\": p12_meas,\n",
    "        \"p1*p2\": p1*p2\n",
    "    }"
   ]
  },
  {
   "cell_type": "code",
   "execution_count": 4,
   "id": "f95a7be4",
   "metadata": {},
   "outputs": [],
   "source": [
    "res_dic = load_one_pickle(shift.get_pickle_path('1el_000.ptu'))"
   ]
  },
  {
   "cell_type": "code",
   "execution_count": 5,
   "id": "85bbeceb",
   "metadata": {},
   "outputs": [
    {
     "data": {
      "text/html": [
       "<div>\n",
       "<style scoped>\n",
       "    .dataframe tbody tr th:only-of-type {\n",
       "        vertical-align: middle;\n",
       "    }\n",
       "\n",
       "    .dataframe tbody tr th {\n",
       "        vertical-align: top;\n",
       "    }\n",
       "\n",
       "    .dataframe thead th {\n",
       "        text-align: right;\n",
       "    }\n",
       "</style>\n",
       "<table border=\"1\" class=\"dataframe\">\n",
       "  <thead>\n",
       "    <tr style=\"text-align: right;\">\n",
       "      <th></th>\n",
       "      <th>revolution</th>\n",
       "      <th>delay</th>\n",
       "    </tr>\n",
       "  </thead>\n",
       "  <tbody>\n",
       "    <tr>\n",
       "      <th>0</th>\n",
       "      <td>399</td>\n",
       "      <td>20291</td>\n",
       "    </tr>\n",
       "    <tr>\n",
       "      <th>1</th>\n",
       "      <td>491</td>\n",
       "      <td>20153</td>\n",
       "    </tr>\n",
       "    <tr>\n",
       "      <th>2</th>\n",
       "      <td>917</td>\n",
       "      <td>20301</td>\n",
       "    </tr>\n",
       "    <tr>\n",
       "      <th>3</th>\n",
       "      <td>1013</td>\n",
       "      <td>20417</td>\n",
       "    </tr>\n",
       "    <tr>\n",
       "      <th>4</th>\n",
       "      <td>1068</td>\n",
       "      <td>20120</td>\n",
       "    </tr>\n",
       "    <tr>\n",
       "      <th>...</th>\n",
       "      <td>...</td>\n",
       "      <td>...</td>\n",
       "    </tr>\n",
       "    <tr>\n",
       "      <th>4692984</th>\n",
       "      <td>1214647914</td>\n",
       "      <td>20345</td>\n",
       "    </tr>\n",
       "    <tr>\n",
       "      <th>4692985</th>\n",
       "      <td>1215672543</td>\n",
       "      <td>17648</td>\n",
       "    </tr>\n",
       "    <tr>\n",
       "      <th>4692988</th>\n",
       "      <td>1218067360</td>\n",
       "      <td>20532</td>\n",
       "    </tr>\n",
       "    <tr>\n",
       "      <th>4692990</th>\n",
       "      <td>1220727510</td>\n",
       "      <td>20814</td>\n",
       "    </tr>\n",
       "    <tr>\n",
       "      <th>4692995</th>\n",
       "      <td>1224307721</td>\n",
       "      <td>21284</td>\n",
       "    </tr>\n",
       "  </tbody>\n",
       "</table>\n",
       "<p>4692357 rows × 2 columns</p>\n",
       "</div>"
      ],
      "text/plain": [
       "         revolution  delay\n",
       "0               399  20291\n",
       "1               491  20153\n",
       "2               917  20301\n",
       "3              1013  20417\n",
       "4              1068  20120\n",
       "...             ...    ...\n",
       "4692984  1214647914  20345\n",
       "4692985  1215672543  17648\n",
       "4692988  1218067360  20532\n",
       "4692990  1220727510  20814\n",
       "4692995  1224307721  21284\n",
       "\n",
       "[4692357 rows x 2 columns]"
      ]
     },
     "execution_count": 5,
     "metadata": {},
     "output_type": "execute_result"
    }
   ],
   "source": [
    "res_dic['df'][0]"
   ]
  },
  {
   "cell_type": "code",
   "execution_count": 6,
   "id": "927d44cd",
   "metadata": {},
   "outputs": [
    {
     "data": {
      "text/plain": [
       "dict_keys(['df', 'clean_df', 'total_iota_revolutions', 'total_time', 'total_events', 'count_rate', 'num_rev_above_one', 'coincidence_count_rate', 'p', 'p12_meas', 'p1*p2'])"
      ]
     },
     "execution_count": 6,
     "metadata": {},
     "output_type": "execute_result"
    }
   ],
   "source": [
    "res_dic.keys()"
   ]
  },
  {
   "cell_type": "code",
   "execution_count": 7,
   "id": "1286ce15",
   "metadata": {},
   "outputs": [
    {
     "data": {
      "text/plain": [
       "[28681.685970965118, 14325.204342992929]"
      ]
     },
     "execution_count": 7,
     "metadata": {},
     "output_type": "execute_result"
    }
   ],
   "source": [
    "res_dic['count_rate']"
   ]
  },
  {
   "cell_type": "code",
   "execution_count": null,
   "id": "3f9d45ba",
   "metadata": {},
   "outputs": [],
   "source": []
  }
 ],
 "metadata": {
  "kernelspec": {
   "display_name": "Python 3",
   "language": "python",
   "name": "python3"
  },
  "language_info": {
   "codemirror_mode": {
    "name": "ipython",
    "version": 3
   },
   "file_extension": ".py",
   "mimetype": "text/x-python",
   "name": "python",
   "nbconvert_exporter": "python",
   "pygments_lexer": "ipython3",
   "version": "3.9.4"
  }
 },
 "nbformat": 4,
 "nbformat_minor": 5
}
