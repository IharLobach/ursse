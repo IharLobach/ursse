{
 "cells": [
  {
   "cell_type": "code",
   "execution_count": 42,
   "source": [
    "import numpy as np\n",
    "import pandas as pd\n",
    "import matplotlib.pyplot as plt\n",
    "import ursse.path_assistant as path_assistant\n",
    "from config_ursse import get_from_config, get_path_from_config\n",
    "shift = path_assistant.PathAssistant('shift_08_05_2021')"
   ],
   "outputs": [],
   "metadata": {}
  },
  {
   "cell_type": "code",
   "execution_count": 43,
   "source": [
    "shift.generate_csv_cache('1el_T3_000.ptu', filetype='T3')"
   ],
   "outputs": [
    {
     "output_type": "execute_result",
     "data": {
      "text/plain": [
       "'Writing 14994443 records, this may take a while...\\nHydraHarp V2 T3 data\\n'"
      ]
     },
     "metadata": {},
     "execution_count": 43
    }
   ],
   "metadata": {}
  },
  {
   "cell_type": "code",
   "execution_count": 44,
   "source": [
    "shift.get_pickle_path('1el_T3_000.ptu')[:-3]+'csv'"
   ],
   "outputs": [
    {
     "output_type": "execute_result",
     "data": {
      "text/plain": [
       "'/Users/ilobach/OneDrive - Fermi National Accelerator Laboratory/URSSE/shifts/shift_08_05_2021/time_stamp_files/cache/1el_T3_000.csv'"
      ]
     },
     "metadata": {},
     "execution_count": 44
    }
   ],
   "metadata": {}
  },
  {
   "cell_type": "code",
   "execution_count": 55,
   "source": [
    "df = pd.read_csv(shift.get_pickle_path('1el_T3_000.ptu')[:-3]+'csv',skiprows=108, header=None, encoding=\"utf-16le\")\n",
    "df = df.rename(columns={0:\"revolution\", 1:\"channel\", 2:\"delay\"})\n",
    "df"
   ],
   "outputs": [
    {
     "output_type": "execute_result",
     "data": {
      "text/plain": [
       "          revolution  channel  delay\n",
       "0                138        3  22432\n",
       "1                464        1  25764\n",
       "2                547        3  14727\n",
       "3                551        3  14743\n",
       "4                596        3  14707\n",
       "...              ...      ...    ...\n",
       "12802799  2250925259        3  14578\n",
       "12802800  2250925313        3  14331\n",
       "12802801  2250925435        3  14340\n",
       "12802802  2250925495        1  25332\n",
       "12802803  2250925757        1  25274\n",
       "\n",
       "[12802804 rows x 3 columns]"
      ],
      "text/html": [
       "<div>\n",
       "<style scoped>\n",
       "    .dataframe tbody tr th:only-of-type {\n",
       "        vertical-align: middle;\n",
       "    }\n",
       "\n",
       "    .dataframe tbody tr th {\n",
       "        vertical-align: top;\n",
       "    }\n",
       "\n",
       "    .dataframe thead th {\n",
       "        text-align: right;\n",
       "    }\n",
       "</style>\n",
       "<table border=\"1\" class=\"dataframe\">\n",
       "  <thead>\n",
       "    <tr style=\"text-align: right;\">\n",
       "      <th></th>\n",
       "      <th>revolution</th>\n",
       "      <th>channel</th>\n",
       "      <th>delay</th>\n",
       "    </tr>\n",
       "  </thead>\n",
       "  <tbody>\n",
       "    <tr>\n",
       "      <th>0</th>\n",
       "      <td>138</td>\n",
       "      <td>3</td>\n",
       "      <td>22432</td>\n",
       "    </tr>\n",
       "    <tr>\n",
       "      <th>1</th>\n",
       "      <td>464</td>\n",
       "      <td>1</td>\n",
       "      <td>25764</td>\n",
       "    </tr>\n",
       "    <tr>\n",
       "      <th>2</th>\n",
       "      <td>547</td>\n",
       "      <td>3</td>\n",
       "      <td>14727</td>\n",
       "    </tr>\n",
       "    <tr>\n",
       "      <th>3</th>\n",
       "      <td>551</td>\n",
       "      <td>3</td>\n",
       "      <td>14743</td>\n",
       "    </tr>\n",
       "    <tr>\n",
       "      <th>4</th>\n",
       "      <td>596</td>\n",
       "      <td>3</td>\n",
       "      <td>14707</td>\n",
       "    </tr>\n",
       "    <tr>\n",
       "      <th>...</th>\n",
       "      <td>...</td>\n",
       "      <td>...</td>\n",
       "      <td>...</td>\n",
       "    </tr>\n",
       "    <tr>\n",
       "      <th>12802799</th>\n",
       "      <td>2250925259</td>\n",
       "      <td>3</td>\n",
       "      <td>14578</td>\n",
       "    </tr>\n",
       "    <tr>\n",
       "      <th>12802800</th>\n",
       "      <td>2250925313</td>\n",
       "      <td>3</td>\n",
       "      <td>14331</td>\n",
       "    </tr>\n",
       "    <tr>\n",
       "      <th>12802801</th>\n",
       "      <td>2250925435</td>\n",
       "      <td>3</td>\n",
       "      <td>14340</td>\n",
       "    </tr>\n",
       "    <tr>\n",
       "      <th>12802802</th>\n",
       "      <td>2250925495</td>\n",
       "      <td>1</td>\n",
       "      <td>25332</td>\n",
       "    </tr>\n",
       "    <tr>\n",
       "      <th>12802803</th>\n",
       "      <td>2250925757</td>\n",
       "      <td>1</td>\n",
       "      <td>25274</td>\n",
       "    </tr>\n",
       "  </tbody>\n",
       "</table>\n",
       "<p>12802804 rows × 3 columns</p>\n",
       "</div>"
      ]
     },
     "metadata": {},
     "execution_count": 55
    }
   ],
   "metadata": {}
  },
  {
   "cell_type": "code",
   "execution_count": 58,
   "source": [
    "df['delay'].hist(bins=100)"
   ],
   "outputs": [
    {
     "output_type": "execute_result",
     "data": {
      "text/plain": [
       "<AxesSubplot:>"
      ]
     },
     "metadata": {},
     "execution_count": 58
    },
    {
     "output_type": "display_data",
     "data": {
      "text/plain": [
       "<Figure size 432x288 with 1 Axes>"
      ],
      "image/png": "[encoded data removed]"
     },
     "metadata": {
      "needs_background": "light"
     }
    }
   ],
   "metadata": {}
  },
  {
   "cell_type": "code",
   "execution_count": 59,
   "source": [
    "df.to_pickle(shift.get_pickle_path('1el_T3_000.ptu'))"
   ],
   "outputs": [],
   "metadata": {}
  },
  {
   "cell_type": "code",
   "execution_count": 60,
   "source": [
    "df_in = pd.read_pickle(shift.get_pickle_path('1el_T3_000.ptu'))\n",
    "df_in"
   ],
   "outputs": [
    {
     "output_type": "execute_result",
     "data": {
      "text/plain": [
       "          revolution  channel  delay\n",
       "0                138        3  22432\n",
       "1                464        1  25764\n",
       "2                547        3  14727\n",
       "3                551        3  14743\n",
       "4                596        3  14707\n",
       "...              ...      ...    ...\n",
       "12802799  2250925259        3  14578\n",
       "12802800  2250925313        3  14331\n",
       "12802801  2250925435        3  14340\n",
       "12802802  2250925495        1  25332\n",
       "12802803  2250925757        1  25274\n",
       "\n",
       "[12802804 rows x 3 columns]"
      ],
      "text/html": [
       "<div>\n",
       "<style scoped>\n",
       "    .dataframe tbody tr th:only-of-type {\n",
       "        vertical-align: middle;\n",
       "    }\n",
       "\n",
       "    .dataframe tbody tr th {\n",
       "        vertical-align: top;\n",
       "    }\n",
       "\n",
       "    .dataframe thead th {\n",
       "        text-align: right;\n",
       "    }\n",
       "</style>\n",
       "<table border=\"1\" class=\"dataframe\">\n",
       "  <thead>\n",
       "    <tr style=\"text-align: right;\">\n",
       "      <th></th>\n",
       "      <th>revolution</th>\n",
       "      <th>channel</th>\n",
       "      <th>delay</th>\n",
       "    </tr>\n",
       "  </thead>\n",
       "  <tbody>\n",
       "    <tr>\n",
       "      <th>0</th>\n",
       "      <td>138</td>\n",
       "      <td>3</td>\n",
       "      <td>22432</td>\n",
       "    </tr>\n",
       "    <tr>\n",
       "      <th>1</th>\n",
       "      <td>464</td>\n",
       "      <td>1</td>\n",
       "      <td>25764</td>\n",
       "    </tr>\n",
       "    <tr>\n",
       "      <th>2</th>\n",
       "      <td>547</td>\n",
       "      <td>3</td>\n",
       "      <td>14727</td>\n",
       "    </tr>\n",
       "    <tr>\n",
       "      <th>3</th>\n",
       "      <td>551</td>\n",
       "      <td>3</td>\n",
       "      <td>14743</td>\n",
       "    </tr>\n",
       "    <tr>\n",
       "      <th>4</th>\n",
       "      <td>596</td>\n",
       "      <td>3</td>\n",
       "      <td>14707</td>\n",
       "    </tr>\n",
       "    <tr>\n",
       "      <th>...</th>\n",
       "      <td>...</td>\n",
       "      <td>...</td>\n",
       "      <td>...</td>\n",
       "    </tr>\n",
       "    <tr>\n",
       "      <th>12802799</th>\n",
       "      <td>2250925259</td>\n",
       "      <td>3</td>\n",
       "      <td>14578</td>\n",
       "    </tr>\n",
       "    <tr>\n",
       "      <th>12802800</th>\n",
       "      <td>2250925313</td>\n",
       "      <td>3</td>\n",
       "      <td>14331</td>\n",
       "    </tr>\n",
       "    <tr>\n",
       "      <th>12802801</th>\n",
       "      <td>2250925435</td>\n",
       "      <td>3</td>\n",
       "      <td>14340</td>\n",
       "    </tr>\n",
       "    <tr>\n",
       "      <th>12802802</th>\n",
       "      <td>2250925495</td>\n",
       "      <td>1</td>\n",
       "      <td>25332</td>\n",
       "    </tr>\n",
       "    <tr>\n",
       "      <th>12802803</th>\n",
       "      <td>2250925757</td>\n",
       "      <td>1</td>\n",
       "      <td>25274</td>\n",
       "    </tr>\n",
       "  </tbody>\n",
       "</table>\n",
       "<p>12802804 rows × 3 columns</p>\n",
       "</div>"
      ]
     },
     "metadata": {},
     "execution_count": 60
    }
   ],
   "metadata": {}
  },
  {
   "cell_type": "code",
   "execution_count": 40,
   "source": [
    "with open(shift.get_pickle_path('1el_T3_000.ptu')[:-3]+'csv') as myfile:\n",
    "    head = [next(myfile) for x in range(109)]\n",
    "print(''.join(head))"
   ],
   "outputs": [
    {
     "output_type": "stream",
     "name": "stdout",
     "text": [
      "T\u0000a\u0000g\u0000 \u0000v\u0000e\u0000r\u0000s\u0000i\u0000o\u0000n\u0000:\u0000 \u00001\u0000.\u00000\u0000.\u00000\u00000\u0000\n",
      "\u0000\n",
      "\u0000F\u0000i\u0000l\u0000e\u0000_\u0000G\u0000U\u0000I\u0000D\u0000 \u0000 \u0000 \u0000 \u0000 \u0000 \u0000 \u0000 \u0000 \u0000 \u0000 \u0000 \u0000 \u0000 \u0000 \u0000 \u0000 \u0000 \u0000 \u0000 \u0000 \u0000 \u0000 \u0000 \u0000 \u0000 \u0000 \u0000 \u0000 \u0000 \u0000 \u0000{\u0000A\u00003\u00008\u00006\u00000\u00009\u0000C\u0000A\u0000-\u0000C\u00006\u00003\u0000F\u0000-\u00004\u0000D\u00009\u0000C\u0000-\u00008\u0000C\u0000B\u0000B\u0000-\u00004\u0000D\u0000E\u0000F\u00001\u00001\u0000C\u0000E\u00007\u0000D\u0000C\u0000A\u0000}\u0000\n",
      "\u0000F\u0000i\u0000l\u0000e\u0000_\u0000A\u0000s\u0000s\u0000u\u0000r\u0000e\u0000d\u0000C\u0000o\u0000n\u0000t\u0000e\u0000n\u0000t\u0000 \u0000 \u0000 \u0000 \u0000 \u0000 \u0000 \u0000 \u0000 \u0000 \u0000 \u0000 \u0000 \u0000 \u0000 \u0000 \u0000 \u0000 \u0000 \u0000 \u0000 \u0000H\u0000y\u0000d\u0000r\u0000a\u0000H\u0000a\u0000r\u0000p\u0000:\u0000 \u0000H\u0000W\u0000S\u0000E\u0000T\u0000G\u0000 \u0000S\u0000W\u0000S\u0000E\u0000T\u0000G\u0000\n",
      "\u0000C\u0000r\u0000e\u0000a\u0000t\u0000o\u0000r\u0000S\u0000W\u0000_\u0000C\u0000o\u0000n\u0000t\u0000e\u0000n\u0000t\u0000V\u0000e\u0000r\u0000s\u0000i\u0000o\u0000n\u0000 \u0000 \u0000 \u0000 \u0000 \u0000 \u0000 \u0000 \u0000 \u0000 \u0000 \u0000 \u0000 \u0000 \u0000 \u0000 \u00003\u0000.\u00000\u0000\n",
      "\u0000C\u0000r\u0000e\u0000a\u0000t\u0000o\u0000r\u0000S\u0000W\u0000_\u0000N\u0000a\u0000m\u0000e\u0000 \u0000 \u0000 \u0000 \u0000 \u0000 \u0000 \u0000 \u0000 \u0000 \u0000 \u0000 \u0000 \u0000 \u0000 \u0000 \u0000 \u0000 \u0000 \u0000 \u0000 \u0000 \u0000 \u0000 \u0000 \u0000 \u0000H\u0000y\u0000d\u0000r\u0000a\u0000H\u0000a\u0000r\u0000p\u0000 \u0000A\u0000c\u0000q\u0000U\u0000I\u0000\n",
      "\u0000C\u0000r\u0000e\u0000a\u0000t\u0000o\u0000r\u0000S\u0000W\u0000_\u0000V\u0000e\u0000r\u0000s\u0000i\u0000o\u0000n\u0000 \u0000 \u0000 \u0000 \u0000 \u0000 \u0000 \u0000 \u0000 \u0000 \u0000 \u0000 \u0000 \u0000 \u0000 \u0000 \u0000 \u0000 \u0000 \u0000 \u0000 \u0000 \u0000 \u00003\u0000.\u00000\u0000.\u00000\u0000.\u00002\u0000\n",
      "\u0000F\u0000i\u0000l\u0000e\u0000_\u0000C\u0000r\u0000e\u0000a\u0000t\u0000i\u0000n\u0000g\u0000T\u0000i\u0000m\u0000e\u0000 \u0000 \u0000 \u0000 \u0000 \u0000 \u0000 \u0000 \u0000 \u0000 \u0000 \u0000 \u0000 \u0000 \u0000 \u0000 \u0000 \u0000 \u0000 \u0000 \u0000 \u0000 \u0000 \u0000T\u0000h\u0000u\u0000 \u0000A\u0000u\u0000g\u0000 \u00000\u00005\u0000 \u00001\u00005\u0000:\u00001\u00005\u0000:\u00003\u00005\u0000 \u00002\u00000\u00002\u00001\u0000\n",
      "\u0000F\u0000i\u0000l\u0000e\u0000_\u0000C\u0000o\u0000m\u0000m\u0000e\u0000n\u0000t\u0000 \u0000 \u0000 \u0000 \u0000 \u0000 \u0000 \u0000 \u0000 \u0000 \u0000 \u0000 \u0000 \u0000 \u0000 \u0000 \u0000 \u0000 \u0000 \u0000 \u0000 \u0000 \u0000 \u0000 \u0000 \u0000 \u0000 \u0000 \u0000T\u00003\u0000 \u0000M\u0000o\u0000d\u0000e\u0000\n",
      "\u0000M\u0000e\u0000a\u0000s\u0000u\u0000r\u0000e\u0000m\u0000e\u0000n\u0000t\u0000_\u0000M\u0000o\u0000d\u0000e\u0000 \u0000 \u0000 \u0000 \u0000 \u0000 \u0000 \u0000 \u0000 \u0000 \u0000 \u0000 \u0000 \u0000 \u0000 \u0000 \u0000 \u0000 \u0000 \u0000 \u0000 \u0000 \u0000 \u0000 \u00003\u0000\n",
      "\u0000M\u0000e\u0000a\u0000s\u0000u\u0000r\u0000e\u0000m\u0000e\u0000n\u0000t\u0000_\u0000S\u0000u\u0000b\u0000M\u0000o\u0000d\u0000e\u0000 \u0000 \u0000 \u0000 \u0000 \u0000 \u0000 \u0000 \u0000 \u0000 \u0000 \u0000 \u0000 \u0000 \u0000 \u0000 \u0000 \u0000 \u0000 \u0000 \u0000 \u00000\u0000\n",
      "\u0000T\u0000T\u0000R\u0000e\u0000s\u0000u\u0000l\u0000t\u0000_\u0000S\u0000t\u0000o\u0000p\u0000R\u0000e\u0000a\u0000s\u0000o\u0000n\u0000 \u0000 \u0000 \u0000 \u0000 \u0000 \u0000 \u0000 \u0000 \u0000 \u0000 \u0000 \u0000 \u0000 \u0000 \u0000 \u0000 \u0000 \u0000 \u0000 \u0000 \u00000\u0000\n",
      "\u0000F\u0000a\u0000s\u0000t\u0000_\u0000L\u0000o\u0000a\u0000d\u0000_\u0000E\u0000n\u0000d\u0000 \u0000 \u0000 \u0000 \u0000 \u0000 \u0000 \u0000 \u0000 \u0000 \u0000 \u0000 \u0000 \u0000 \u0000 \u0000 \u0000 \u0000 \u0000 \u0000 \u0000 \u0000 \u0000 \u0000 \u0000 \u0000 \u0000 \u0000<\u0000e\u0000m\u0000p\u0000t\u0000y\u0000 \u0000T\u0000a\u0000g\u0000>\u0000\n",
      "\u0000T\u0000T\u0000R\u0000e\u0000s\u0000u\u0000l\u0000t\u0000F\u0000o\u0000r\u0000m\u0000a\u0000t\u0000_\u0000T\u0000T\u0000T\u0000R\u0000R\u0000e\u0000c\u0000T\u0000y\u0000p\u0000e\u0000 \u0000 \u0000 \u0000 \u0000 \u0000 \u0000 \u0000 \u0000 \u0000 \u0000 \u0000 \u0000 \u0000 \u00001\u00006\u00008\u00004\u00003\u00005\u00002\u00004\u0000\n",
      "\u0000T\u0000T\u0000R\u0000e\u0000s\u0000u\u0000l\u0000t\u0000F\u0000o\u0000r\u0000m\u0000a\u0000t\u0000_\u0000B\u0000i\u0000t\u0000s\u0000P\u0000e\u0000r\u0000R\u0000e\u0000c\u0000o\u0000r\u0000d\u0000 \u0000 \u0000 \u0000 \u0000 \u0000 \u0000 \u0000 \u0000 \u0000 \u0000 \u0000 \u00003\u00002\u0000\n",
      "\u0000M\u0000e\u0000a\u0000s\u0000D\u0000e\u0000s\u0000c\u0000_\u0000B\u0000i\u0000n\u0000n\u0000i\u0000n\u0000g\u0000F\u0000a\u0000c\u0000t\u0000o\u0000r\u0000 \u0000 \u0000 \u0000 \u0000 \u0000 \u0000 \u0000 \u0000 \u0000 \u0000 \u0000 \u0000 \u0000 \u0000 \u0000 \u0000 \u0000 \u00002\u0000\n",
      "\u0000M\u0000e\u0000a\u0000s\u0000D\u0000e\u0000s\u0000c\u0000_\u0000O\u0000f\u0000f\u0000s\u0000e\u0000t\u0000 \u0000 \u0000 \u0000 \u0000 \u0000 \u0000 \u0000 \u0000 \u0000 \u0000 \u0000 \u0000 \u0000 \u0000 \u0000 \u0000 \u0000 \u0000 \u0000 \u0000 \u0000 \u0000 \u0000 \u0000 \u00000\u0000\n",
      "\u0000M\u0000e\u0000a\u0000s\u0000D\u0000e\u0000s\u0000c\u0000_\u0000A\u0000c\u0000q\u0000u\u0000i\u0000s\u0000i\u0000t\u0000i\u0000o\u0000n\u0000T\u0000i\u0000m\u0000e\u0000 \u0000 \u0000 \u0000 \u0000 \u0000 \u0000 \u0000 \u0000 \u0000 \u0000 \u0000 \u0000 \u0000 \u0000 \u0000 \u00003\u00000\u00000\u00000\u00000\u00000\u0000\n",
      "\u0000M\u0000e\u0000a\u0000s\u0000D\u0000e\u0000s\u0000c\u0000_\u0000S\u0000t\u0000o\u0000p\u0000A\u0000t\u0000 \u0000 \u0000 \u0000 \u0000 \u0000 \u0000 \u0000 \u0000 \u0000 \u0000 \u0000 \u0000 \u0000 \u0000 \u0000 \u0000 \u0000 \u0000 \u0000 \u0000 \u0000 \u0000 \u0000 \u0000 \u00004\u00002\u00009\u00004\u00009\u00006\u00007\u00002\u00009\u00005\u0000\n",
      "\u0000M\u0000e\u0000a\u0000s\u0000D\u0000e\u0000s\u0000c\u0000_\u0000S\u0000t\u0000o\u0000p\u0000O\u0000n\u0000O\u0000v\u0000f\u0000l\u0000 \u0000 \u0000 \u0000 \u0000 \u0000 \u0000 \u0000 \u0000 \u0000 \u0000 \u0000 \u0000 \u0000 \u0000 \u0000 \u0000 \u0000 \u0000 \u0000 \u0000 \u0000F\u0000a\u0000l\u0000s\u0000e\u0000\n",
      "\u0000M\u0000e\u0000a\u0000s\u0000D\u0000e\u0000s\u0000c\u0000_\u0000R\u0000e\u0000s\u0000t\u0000a\u0000r\u0000t\u0000 \u0000 \u0000 \u0000 \u0000 \u0000 \u0000 \u0000 \u0000 \u0000 \u0000 \u0000 \u0000 \u0000 \u0000 \u0000 \u0000 \u0000 \u0000 \u0000 \u0000 \u0000 \u0000 \u0000 \u0000F\u0000a\u0000l\u0000s\u0000e\u0000\n",
      "\u0000C\u0000u\u0000r\u0000S\u0000W\u0000S\u0000e\u0000t\u0000t\u0000i\u0000n\u0000g\u0000_\u0000D\u0000i\u0000s\u0000p\u0000L\u0000o\u0000g\u0000 \u0000 \u0000 \u0000 \u0000 \u0000 \u0000 \u0000 \u0000 \u0000 \u0000 \u0000 \u0000 \u0000 \u0000 \u0000 \u0000 \u0000 \u0000 \u0000 \u0000T\u0000r\u0000u\u0000e\u0000\n",
      "\u0000C\u0000u\u0000r\u0000S\u0000W\u0000S\u0000e\u0000t\u0000t\u0000i\u0000n\u0000g\u0000_\u0000D\u0000i\u0000s\u0000p\u0000A\u0000x\u0000i\u0000s\u0000T\u0000i\u0000m\u0000e\u0000F\u0000r\u0000o\u0000m\u0000 \u0000 \u0000 \u0000 \u0000 \u0000 \u0000 \u0000 \u0000 \u0000 \u0000 \u00000\u0000\n",
      "\u0000C\u0000u\u0000r\u0000S\u0000W\u0000S\u0000e\u0000t\u0000t\u0000i\u0000n\u0000g\u0000_\u0000D\u0000i\u0000s\u0000p\u0000A\u0000x\u0000i\u0000s\u0000T\u0000i\u0000m\u0000e\u0000T\u0000o\u0000 \u0000 \u0000 \u0000 \u0000 \u0000 \u0000 \u0000 \u0000 \u0000 \u0000 \u0000 \u0000 \u00002\u00006\u00002\u0000\n",
      "\u0000C\u0000u\u0000r\u0000S\u0000W\u0000S\u0000e\u0000t\u0000t\u0000i\u0000n\u0000g\u0000_\u0000D\u0000i\u0000s\u0000p\u0000A\u0000x\u0000i\u0000s\u0000C\u0000o\u0000u\u0000n\u0000t\u0000F\u0000r\u0000o\u0000m\u0000 \u0000 \u0000 \u0000 \u0000 \u0000 \u0000 \u0000 \u0000 \u0000 \u00000\u0000\n",
      "\u0000C\u0000u\u0000r\u0000S\u0000W\u0000S\u0000e\u0000t\u0000t\u0000i\u0000n\u0000g\u0000_\u0000D\u0000i\u0000s\u0000p\u0000A\u0000x\u0000i\u0000s\u0000C\u0000o\u0000u\u0000n\u0000t\u0000T\u0000o\u0000 \u0000 \u0000 \u0000 \u0000 \u0000 \u0000 \u0000 \u0000 \u0000 \u0000 \u0000 \u00004\u00002\u00009\u00004\u00009\u00006\u00007\u00002\u00009\u00005\u0000\n",
      "\u0000C\u0000u\u0000r\u0000S\u0000W\u0000S\u0000e\u0000t\u0000t\u0000i\u0000n\u0000g\u0000_\u0000D\u0000i\u0000s\u0000p\u0000C\u0000u\u0000r\u0000v\u0000e\u0000s\u0000 \u0000 \u0000 \u0000 \u0000 \u0000 \u0000 \u0000 \u0000 \u0000 \u0000 \u0000 \u0000 \u0000 \u0000 \u0000 \u0000 \u00008\u0000\n",
      "\u0000C\u0000u\u0000r\u0000S\u0000W\u0000S\u0000e\u0000t\u0000t\u0000i\u0000n\u0000g\u0000_\u0000D\u0000i\u0000s\u0000p\u0000C\u0000u\u0000r\u0000v\u0000e\u0000_\u0000M\u0000a\u0000p\u0000T\u0000o\u0000(\u00000\u0000)\u0000 \u0000 \u0000 \u0000 \u0000 \u0000 \u0000 \u0000 \u0000 \u00000\u0000\n",
      "\u0000C\u0000u\u0000r\u0000S\u0000W\u0000S\u0000e\u0000t\u0000t\u0000i\u0000n\u0000g\u0000_\u0000D\u0000i\u0000s\u0000p\u0000C\u0000u\u0000r\u0000v\u0000e\u0000_\u0000S\u0000h\u0000o\u0000w\u0000(\u00000\u0000)\u0000 \u0000 \u0000 \u0000 \u0000 \u0000 \u0000 \u0000 \u0000 \u0000 \u0000T\u0000r\u0000u\u0000e\u0000\n",
      "\u0000C\u0000u\u0000r\u0000S\u0000W\u0000S\u0000e\u0000t\u0000t\u0000i\u0000n\u0000g\u0000_\u0000D\u0000i\u0000s\u0000p\u0000C\u0000u\u0000r\u0000v\u0000e\u0000_\u0000M\u0000a\u0000p\u0000T\u0000o\u0000(\u00001\u0000)\u0000 \u0000 \u0000 \u0000 \u0000 \u0000 \u0000 \u0000 \u0000 \u00001\u0000\n",
      "\u0000C\u0000u\u0000r\u0000S\u0000W\u0000S\u0000e\u0000t\u0000t\u0000i\u0000n\u0000g\u0000_\u0000D\u0000i\u0000s\u0000p\u0000C\u0000u\u0000r\u0000v\u0000e\u0000_\u0000S\u0000h\u0000o\u0000w\u0000(\u00001\u0000)\u0000 \u0000 \u0000 \u0000 \u0000 \u0000 \u0000 \u0000 \u0000 \u0000 \u0000T\u0000r\u0000u\u0000e\u0000\n",
      "\u0000C\u0000u\u0000r\u0000S\u0000W\u0000S\u0000e\u0000t\u0000t\u0000i\u0000n\u0000g\u0000_\u0000D\u0000i\u0000s\u0000p\u0000C\u0000u\u0000r\u0000v\u0000e\u0000_\u0000M\u0000a\u0000p\u0000T\u0000o\u0000(\u00002\u0000)\u0000 \u0000 \u0000 \u0000 \u0000 \u0000 \u0000 \u0000 \u0000 \u00002\u0000\n",
      "\u0000C\u0000u\u0000r\u0000S\u0000W\u0000S\u0000e\u0000t\u0000t\u0000i\u0000n\u0000g\u0000_\u0000D\u0000i\u0000s\u0000p\u0000C\u0000u\u0000r\u0000v\u0000e\u0000_\u0000S\u0000h\u0000o\u0000w\u0000(\u00002\u0000)\u0000 \u0000 \u0000 \u0000 \u0000 \u0000 \u0000 \u0000 \u0000 \u0000 \u0000T\u0000r\u0000u\u0000e\u0000\n",
      "\u0000C\u0000u\u0000r\u0000S\u0000W\u0000S\u0000e\u0000t\u0000t\u0000i\u0000n\u0000g\u0000_\u0000D\u0000i\u0000s\u0000p\u0000C\u0000u\u0000r\u0000v\u0000e\u0000_\u0000M\u0000a\u0000p\u0000T\u0000o\u0000(\u00003\u0000)\u0000 \u0000 \u0000 \u0000 \u0000 \u0000 \u0000 \u0000 \u0000 \u00003\u0000\n",
      "\u0000C\u0000u\u0000r\u0000S\u0000W\u0000S\u0000e\u0000t\u0000t\u0000i\u0000n\u0000g\u0000_\u0000D\u0000i\u0000s\u0000p\u0000C\u0000u\u0000r\u0000v\u0000e\u0000_\u0000S\u0000h\u0000o\u0000w\u0000(\u00003\u0000)\u0000 \u0000 \u0000 \u0000 \u0000 \u0000 \u0000 \u0000 \u0000 \u0000 \u0000T\u0000r\u0000u\u0000e\u0000\n",
      "\u0000C\u0000u\u0000r\u0000S\u0000W\u0000S\u0000e\u0000t\u0000t\u0000i\u0000n\u0000g\u0000_\u0000D\u0000i\u0000s\u0000p\u0000C\u0000u\u0000r\u0000v\u0000e\u0000_\u0000M\u0000a\u0000p\u0000T\u0000o\u0000(\u00004\u0000)\u0000 \u0000 \u0000 \u0000 \u0000 \u0000 \u0000 \u0000 \u0000 \u00004\u0000\n",
      "\u0000C\u0000u\u0000r\u0000S\u0000W\u0000S\u0000e\u0000t\u0000t\u0000i\u0000n\u0000g\u0000_\u0000D\u0000i\u0000s\u0000p\u0000C\u0000u\u0000r\u0000v\u0000e\u0000_\u0000S\u0000h\u0000o\u0000w\u0000(\u00004\u0000)\u0000 \u0000 \u0000 \u0000 \u0000 \u0000 \u0000 \u0000 \u0000 \u0000 \u0000T\u0000r\u0000u\u0000e\u0000\n",
      "\u0000C\u0000u\u0000r\u0000S\u0000W\u0000S\u0000e\u0000t\u0000t\u0000i\u0000n\u0000g\u0000_\u0000D\u0000i\u0000s\u0000p\u0000C\u0000u\u0000r\u0000v\u0000e\u0000_\u0000M\u0000a\u0000p\u0000T\u0000o\u0000(\u00005\u0000)\u0000 \u0000 \u0000 \u0000 \u0000 \u0000 \u0000 \u0000 \u0000 \u00005\u0000\n",
      "\u0000C\u0000u\u0000r\u0000S\u0000W\u0000S\u0000e\u0000t\u0000t\u0000i\u0000n\u0000g\u0000_\u0000D\u0000i\u0000s\u0000p\u0000C\u0000u\u0000r\u0000v\u0000e\u0000_\u0000S\u0000h\u0000o\u0000w\u0000(\u00005\u0000)\u0000 \u0000 \u0000 \u0000 \u0000 \u0000 \u0000 \u0000 \u0000 \u0000 \u0000T\u0000r\u0000u\u0000e\u0000\n",
      "\u0000C\u0000u\u0000r\u0000S\u0000W\u0000S\u0000e\u0000t\u0000t\u0000i\u0000n\u0000g\u0000_\u0000D\u0000i\u0000s\u0000p\u0000C\u0000u\u0000r\u0000v\u0000e\u0000_\u0000M\u0000a\u0000p\u0000T\u0000o\u0000(\u00006\u0000)\u0000 \u0000 \u0000 \u0000 \u0000 \u0000 \u0000 \u0000 \u0000 \u00006\u0000\n",
      "\u0000C\u0000u\u0000r\u0000S\u0000W\u0000S\u0000e\u0000t\u0000t\u0000i\u0000n\u0000g\u0000_\u0000D\u0000i\u0000s\u0000p\u0000C\u0000u\u0000r\u0000v\u0000e\u0000_\u0000S\u0000h\u0000o\u0000w\u0000(\u00006\u0000)\u0000 \u0000 \u0000 \u0000 \u0000 \u0000 \u0000 \u0000 \u0000 \u0000 \u0000T\u0000r\u0000u\u0000e\u0000\n",
      "\u0000C\u0000u\u0000r\u0000S\u0000W\u0000S\u0000e\u0000t\u0000t\u0000i\u0000n\u0000g\u0000_\u0000D\u0000i\u0000s\u0000p\u0000C\u0000u\u0000r\u0000v\u0000e\u0000_\u0000M\u0000a\u0000p\u0000T\u0000o\u0000(\u00007\u0000)\u0000 \u0000 \u0000 \u0000 \u0000 \u0000 \u0000 \u0000 \u0000 \u00007\u0000\n",
      "\u0000C\u0000u\u0000r\u0000S\u0000W\u0000S\u0000e\u0000t\u0000t\u0000i\u0000n\u0000g\u0000_\u0000D\u0000i\u0000s\u0000p\u0000C\u0000u\u0000r\u0000v\u0000e\u0000_\u0000S\u0000h\u0000o\u0000w\u0000(\u00007\u0000)\u0000 \u0000 \u0000 \u0000 \u0000 \u0000 \u0000 \u0000 \u0000 \u0000 \u0000T\u0000r\u0000u\u0000e\u0000\n",
      "\u0000H\u0000W\u0000_\u0000T\u0000y\u0000p\u0000e\u0000 \u0000 \u0000 \u0000 \u0000 \u0000 \u0000 \u0000 \u0000 \u0000 \u0000 \u0000 \u0000 \u0000 \u0000 \u0000 \u0000 \u0000 \u0000 \u0000 \u0000 \u0000 \u0000 \u0000 \u0000 \u0000 \u0000 \u0000 \u0000 \u0000 \u0000 \u0000 \u0000 \u0000H\u0000y\u0000d\u0000r\u0000a\u0000H\u0000a\u0000r\u0000p\u0000 \u00004\u00000\u00000\u0000\n",
      "\u0000H\u0000W\u0000_\u0000P\u0000a\u0000r\u0000t\u0000N\u0000o\u0000 \u0000 \u0000 \u0000 \u0000 \u0000 \u0000 \u0000 \u0000 \u0000 \u0000 \u0000 \u0000 \u0000 \u0000 \u0000 \u0000 \u0000 \u0000 \u0000 \u0000 \u0000 \u0000 \u0000 \u0000 \u0000 \u0000 \u0000 \u0000 \u0000 \u0000 \u00009\u00003\u00000\u00000\u00002\u00000\u0000\n",
      "\u0000H\u0000W\u0000_\u0000V\u0000e\u0000r\u0000s\u0000i\u0000o\u0000n\u0000 \u0000 \u0000 \u0000 \u0000 \u0000 \u0000 \u0000 \u0000 \u0000 \u0000 \u0000 \u0000 \u0000 \u0000 \u0000 \u0000 \u0000 \u0000 \u0000 \u0000 \u0000 \u0000 \u0000 \u0000 \u0000 \u0000 \u0000 \u0000 \u0000 \u00002\u0000.\u00000\u0000\n",
      "\u0000H\u0000W\u0000_\u0000S\u0000e\u0000r\u0000i\u0000a\u0000l\u0000N\u0000o\u0000 \u0000 \u0000 \u0000 \u0000 \u0000 \u0000 \u0000 \u0000 \u0000 \u0000 \u0000 \u0000 \u0000 \u0000 \u0000 \u0000 \u0000 \u0000 \u0000 \u0000 \u0000 \u0000 \u0000 \u0000 \u0000 \u0000 \u0000 \u0000 \u00001\u00000\u00003\u00006\u00005\u00000\u00009\u0000\n",
      "\u0000H\u0000W\u0000_\u0000M\u0000o\u0000d\u0000u\u0000l\u0000e\u0000s\u0000 \u0000 \u0000 \u0000 \u0000 \u0000 \u0000 \u0000 \u0000 \u0000 \u0000 \u0000 \u0000 \u0000 \u0000 \u0000 \u0000 \u0000 \u0000 \u0000 \u0000 \u0000 \u0000 \u0000 \u0000 \u0000 \u0000 \u0000 \u0000 \u0000 \u00004\u0000\n",
      "\u0000H\u0000W\u0000M\u0000o\u0000d\u0000u\u0000l\u0000e\u0000_\u0000T\u0000y\u0000p\u0000e\u0000C\u0000o\u0000d\u0000e\u0000(\u00000\u0000)\u0000 \u0000 \u0000 \u0000 \u0000 \u0000 \u0000 \u0000 \u0000 \u0000 \u0000 \u0000 \u0000 \u0000 \u0000 \u0000 \u0000 \u0000 \u0000 \u0000 \u00001\u00000\u00000\u00000\u0000\n",
      "\u0000H\u0000W\u0000M\u0000o\u0000d\u0000u\u0000l\u0000e\u0000_\u0000V\u0000e\u0000r\u0000s\u0000C\u0000o\u0000d\u0000e\u0000(\u00000\u0000)\u0000 \u0000 \u0000 \u0000 \u0000 \u0000 \u0000 \u0000 \u0000 \u0000 \u0000 \u0000 \u0000 \u0000 \u0000 \u0000 \u0000 \u0000 \u0000 \u0000 \u00005\u00001\u00000\u00005\u00002\u00005\u00004\u00005\u0000\n",
      "\u0000H\u0000W\u0000M\u0000o\u0000d\u0000u\u0000l\u0000e\u0000_\u0000T\u0000y\u0000p\u0000e\u0000C\u0000o\u0000d\u0000e\u0000(\u00001\u0000)\u0000 \u0000 \u0000 \u0000 \u0000 \u0000 \u0000 \u0000 \u0000 \u0000 \u0000 \u0000 \u0000 \u0000 \u0000 \u0000 \u0000 \u0000 \u0000 \u0000 \u00001\u00000\u00001\u00000\u0000\n",
      "\u0000H\u0000W\u0000M\u0000o\u0000d\u0000u\u0000l\u0000e\u0000_\u0000V\u0000e\u0000r\u0000s\u0000C\u0000o\u0000d\u0000e\u0000(\u00001\u0000)\u0000 \u0000 \u0000 \u0000 \u0000 \u0000 \u0000 \u0000 \u0000 \u0000 \u0000 \u0000 \u0000 \u0000 \u0000 \u0000 \u0000 \u0000 \u0000 \u0000 \u00003\u00003\u00005\u00005\u00004\u00009\u00005\u00004\u0000\n",
      "\u0000H\u0000W\u0000M\u0000o\u0000d\u0000u\u0000l\u0000e\u0000_\u0000T\u0000y\u0000p\u0000e\u0000C\u0000o\u0000d\u0000e\u0000(\u00002\u0000)\u0000 \u0000 \u0000 \u0000 \u0000 \u0000 \u0000 \u0000 \u0000 \u0000 \u0000 \u0000 \u0000 \u0000 \u0000 \u0000 \u0000 \u0000 \u0000 \u0000 \u00001\u00000\u00004\u00000\u0000\n",
      "\u0000H\u0000W\u0000M\u0000o\u0000d\u0000u\u0000l\u0000e\u0000_\u0000V\u0000e\u0000r\u0000s\u0000C\u0000o\u0000d\u0000e\u0000(\u00002\u0000)\u0000 \u0000 \u0000 \u0000 \u0000 \u0000 \u0000 \u0000 \u0000 \u0000 \u0000 \u0000 \u0000 \u0000 \u0000 \u0000 \u0000 \u0000 \u0000 \u0000 \u00001\u00008\u00002\u00001\u00009\u00005\u00003\u00000\u0000\n",
      "\u0000H\u0000W\u0000M\u0000o\u0000d\u0000u\u0000l\u0000e\u0000_\u0000T\u0000y\u0000p\u0000e\u0000C\u0000o\u0000d\u0000e\u0000(\u00003\u0000)\u0000 \u0000 \u0000 \u0000 \u0000 \u0000 \u0000 \u0000 \u0000 \u0000 \u0000 \u0000 \u0000 \u0000 \u0000 \u0000 \u0000 \u0000 \u0000 \u0000 \u00001\u00000\u00004\u00000\u0000\n",
      "\u0000H\u0000W\u0000M\u0000o\u0000d\u0000u\u0000l\u0000e\u0000_\u0000V\u0000e\u0000r\u0000s\u0000C\u0000o\u0000d\u0000e\u0000(\u00003\u0000)\u0000 \u0000 \u0000 \u0000 \u0000 \u0000 \u0000 \u0000 \u0000 \u0000 \u0000 \u0000 \u0000 \u0000 \u0000 \u0000 \u0000 \u0000 \u0000 \u0000 \u00001\u00008\u00002\u00001\u00009\u00005\u00003\u00000\u0000\n",
      "\u0000H\u0000W\u0000_\u0000B\u0000a\u0000s\u0000e\u0000R\u0000e\u0000s\u0000o\u0000l\u0000u\u0000t\u0000i\u0000o\u0000n\u0000 \u0000 \u0000 \u0000 \u0000 \u0000 \u0000 \u0000 \u0000 \u0000 \u0000 \u0000 \u0000 \u0000 \u0000 \u0000 \u0000 \u0000 \u0000 \u0000 \u0000 \u0000 \u0000 \u00001\u0000.\u00000\u00000\u00000\u00000\u00000\u00000\u0000E\u0000-\u00001\u00002\u0000\n",
      "\u0000H\u0000W\u0000_\u0000I\u0000n\u0000p\u0000C\u0000h\u0000a\u0000n\u0000n\u0000e\u0000l\u0000s\u0000 \u0000 \u0000 \u0000 \u0000 \u0000 \u0000 \u0000 \u0000 \u0000 \u0000 \u0000 \u0000 \u0000 \u0000 \u0000 \u0000 \u0000 \u0000 \u0000 \u0000 \u0000 \u0000 \u0000 \u0000 \u0000 \u00004\u0000\n",
      "\u0000H\u0000W\u0000_\u0000E\u0000x\u0000t\u0000e\u0000r\u0000n\u0000a\u0000l\u0000R\u0000e\u0000f\u0000C\u0000l\u0000o\u0000c\u0000k\u0000 \u0000 \u0000 \u0000 \u0000 \u0000 \u0000 \u0000 \u0000 \u0000 \u0000 \u0000 \u0000 \u0000 \u0000 \u0000 \u0000 \u0000 \u0000 \u0000 \u0000 \u0000F\u0000a\u0000l\u0000s\u0000e\u0000\n",
      "\u0000H\u0000W\u0000_\u0000E\u0000x\u0000t\u0000e\u0000r\u0000n\u0000a\u0000l\u0000D\u0000e\u0000v\u0000i\u0000c\u0000e\u0000s\u0000 \u0000 \u0000 \u0000 \u0000 \u0000 \u0000 \u0000 \u0000 \u0000 \u0000 \u0000 \u0000 \u0000 \u0000 \u0000 \u0000 \u0000 \u0000 \u0000 \u0000 \u0000 \u00000\u0000\n",
      "\u0000H\u0000W\u0000S\u0000y\u0000n\u0000c\u0000_\u0000D\u0000i\u0000v\u0000i\u0000d\u0000e\u0000r\u0000 \u0000 \u0000 \u0000 \u0000 \u0000 \u0000 \u0000 \u0000 \u0000 \u0000 \u0000 \u0000 \u0000 \u0000 \u0000 \u0000 \u0000 \u0000 \u0000 \u0000 \u0000 \u0000 \u0000 \u0000 \u0000 \u00001\u0000\n",
      "\u0000H\u0000W\u0000S\u0000y\u0000n\u0000c\u0000_\u0000C\u0000F\u0000D\u0000L\u0000e\u0000v\u0000e\u0000l\u0000 \u0000 \u0000 \u0000 \u0000 \u0000 \u0000 \u0000 \u0000 \u0000 \u0000 \u0000 \u0000 \u0000 \u0000 \u0000 \u0000 \u0000 \u0000 \u0000 \u0000 \u0000 \u0000 \u0000 \u0000 \u00004\u00000\u00000\u0000\n",
      "\u0000H\u0000W\u0000S\u0000y\u0000n\u0000c\u0000_\u0000C\u0000F\u0000D\u0000Z\u0000e\u0000r\u0000o\u0000C\u0000r\u0000o\u0000s\u0000s\u0000 \u0000 \u0000 \u0000 \u0000 \u0000 \u0000 \u0000 \u0000 \u0000 \u0000 \u0000 \u0000 \u0000 \u0000 \u0000 \u0000 \u0000 \u0000 \u0000 \u0000 \u00001\u00000\u0000\n",
      "\u0000H\u0000W\u0000S\u0000y\u0000n\u0000c\u0000_\u0000O\u0000f\u0000f\u0000s\u0000e\u0000t\u0000 \u0000 \u0000 \u0000 \u0000 \u0000 \u0000 \u0000 \u0000 \u0000 \u0000 \u0000 \u0000 \u0000 \u0000 \u0000 \u0000 \u0000 \u0000 \u0000 \u0000 \u0000 \u0000 \u0000 \u0000 \u0000 \u0000 \u0000-\u00001\u00000\u00000\u00000\u00000\u0000\n",
      "\u0000H\u0000W\u0000I\u0000n\u0000p\u0000C\u0000h\u0000a\u0000n\u0000_\u0000M\u0000o\u0000d\u0000u\u0000l\u0000e\u0000I\u0000d\u0000x\u0000(\u00000\u0000)\u0000 \u0000 \u0000 \u0000 \u0000 \u0000 \u0000 \u0000 \u0000 \u0000 \u0000 \u0000 \u0000 \u0000 \u0000 \u0000 \u0000 \u0000 \u00002\u0000\n",
      "\u0000H\u0000W\u0000I\u0000n\u0000p\u0000C\u0000h\u0000a\u0000n\u0000_\u0000C\u0000F\u0000D\u0000L\u0000e\u0000v\u0000e\u0000l\u0000(\u00000\u0000)\u0000 \u0000 \u0000 \u0000 \u0000 \u0000 \u0000 \u0000 \u0000 \u0000 \u0000 \u0000 \u0000 \u0000 \u0000 \u0000 \u0000 \u0000 \u0000 \u00004\u00000\u00000\u0000\n",
      "\u0000H\u0000W\u0000I\u0000n\u0000p\u0000C\u0000h\u0000a\u0000n\u0000_\u0000C\u0000F\u0000D\u0000Z\u0000e\u0000r\u0000o\u0000C\u0000r\u0000o\u0000s\u0000s\u0000(\u00000\u0000)\u0000 \u0000 \u0000 \u0000 \u0000 \u0000 \u0000 \u0000 \u0000 \u0000 \u0000 \u0000 \u0000 \u0000 \u0000 \u00001\u00000\u0000\n",
      "\u0000H\u0000W\u0000I\u0000n\u0000p\u0000C\u0000h\u0000a\u0000n\u0000_\u0000O\u0000f\u0000f\u0000s\u0000e\u0000t\u0000(\u00000\u0000)\u0000 \u0000 \u0000 \u0000 \u0000 \u0000 \u0000 \u0000 \u0000 \u0000 \u0000 \u0000 \u0000 \u0000 \u0000 \u0000 \u0000 \u0000 \u0000 \u0000 \u0000 \u00000\u0000\n",
      "\u0000H\u0000W\u0000I\u0000n\u0000p\u0000C\u0000h\u0000a\u0000n\u0000_\u0000E\u0000n\u0000a\u0000b\u0000l\u0000e\u0000d\u0000(\u00000\u0000)\u0000 \u0000 \u0000 \u0000 \u0000 \u0000 \u0000 \u0000 \u0000 \u0000 \u0000 \u0000 \u0000 \u0000 \u0000 \u0000 \u0000 \u0000 \u0000 \u0000 \u0000T\u0000r\u0000u\u0000e\u0000\n",
      "\u0000H\u0000W\u0000I\u0000n\u0000p\u0000C\u0000h\u0000a\u0000n\u0000_\u0000M\u0000o\u0000d\u0000u\u0000l\u0000e\u0000I\u0000d\u0000x\u0000(\u00001\u0000)\u0000 \u0000 \u0000 \u0000 \u0000 \u0000 \u0000 \u0000 \u0000 \u0000 \u0000 \u0000 \u0000 \u0000 \u0000 \u0000 \u0000 \u0000 \u00002\u0000\n",
      "\u0000H\u0000W\u0000I\u0000n\u0000p\u0000C\u0000h\u0000a\u0000n\u0000_\u0000C\u0000F\u0000D\u0000L\u0000e\u0000v\u0000e\u0000l\u0000(\u00001\u0000)\u0000 \u0000 \u0000 \u0000 \u0000 \u0000 \u0000 \u0000 \u0000 \u0000 \u0000 \u0000 \u0000 \u0000 \u0000 \u0000 \u0000 \u0000 \u0000 \u00004\u00000\u00000\u0000\n",
      "\u0000H\u0000W\u0000I\u0000n\u0000p\u0000C\u0000h\u0000a\u0000n\u0000_\u0000C\u0000F\u0000D\u0000Z\u0000e\u0000r\u0000o\u0000C\u0000r\u0000o\u0000s\u0000s\u0000(\u00001\u0000)\u0000 \u0000 \u0000 \u0000 \u0000 \u0000 \u0000 \u0000 \u0000 \u0000 \u0000 \u0000 \u0000 \u0000 \u0000 \u00001\u00000\u0000\n",
      "\u0000H\u0000W\u0000I\u0000n\u0000p\u0000C\u0000h\u0000a\u0000n\u0000_\u0000O\u0000f\u0000f\u0000s\u0000e\u0000t\u0000(\u00001\u0000)\u0000 \u0000 \u0000 \u0000 \u0000 \u0000 \u0000 \u0000 \u0000 \u0000 \u0000 \u0000 \u0000 \u0000 \u0000 \u0000 \u0000 \u0000 \u0000 \u0000 \u0000 \u00000\u0000\n",
      "\u0000H\u0000W\u0000I\u0000n\u0000p\u0000C\u0000h\u0000a\u0000n\u0000_\u0000E\u0000n\u0000a\u0000b\u0000l\u0000e\u0000d\u0000(\u00001\u0000)\u0000 \u0000 \u0000 \u0000 \u0000 \u0000 \u0000 \u0000 \u0000 \u0000 \u0000 \u0000 \u0000 \u0000 \u0000 \u0000 \u0000 \u0000 \u0000 \u0000 \u0000T\u0000r\u0000u\u0000e\u0000\n",
      "\u0000H\u0000W\u0000I\u0000n\u0000p\u0000C\u0000h\u0000a\u0000n\u0000_\u0000M\u0000o\u0000d\u0000u\u0000l\u0000e\u0000I\u0000d\u0000x\u0000(\u00002\u0000)\u0000 \u0000 \u0000 \u0000 \u0000 \u0000 \u0000 \u0000 \u0000 \u0000 \u0000 \u0000 \u0000 \u0000 \u0000 \u0000 \u0000 \u0000 \u00003\u0000\n",
      "\u0000H\u0000W\u0000I\u0000n\u0000p\u0000C\u0000h\u0000a\u0000n\u0000_\u0000C\u0000F\u0000D\u0000L\u0000e\u0000v\u0000e\u0000l\u0000(\u00002\u0000)\u0000 \u0000 \u0000 \u0000 \u0000 \u0000 \u0000 \u0000 \u0000 \u0000 \u0000 \u0000 \u0000 \u0000 \u0000 \u0000 \u0000 \u0000 \u0000 \u00004\u00000\u00000\u0000\n",
      "\u0000H\u0000W\u0000I\u0000n\u0000p\u0000C\u0000h\u0000a\u0000n\u0000_\u0000C\u0000F\u0000D\u0000Z\u0000e\u0000r\u0000o\u0000C\u0000r\u0000o\u0000s\u0000s\u0000(\u00002\u0000)\u0000 \u0000 \u0000 \u0000 \u0000 \u0000 \u0000 \u0000 \u0000 \u0000 \u0000 \u0000 \u0000 \u0000 \u0000 \u00001\u00000\u0000\n",
      "\u0000H\u0000W\u0000I\u0000n\u0000p\u0000C\u0000h\u0000a\u0000n\u0000_\u0000O\u0000f\u0000f\u0000s\u0000e\u0000t\u0000(\u00002\u0000)\u0000 \u0000 \u0000 \u0000 \u0000 \u0000 \u0000 \u0000 \u0000 \u0000 \u0000 \u0000 \u0000 \u0000 \u0000 \u0000 \u0000 \u0000 \u0000 \u0000 \u0000 \u00000\u0000\n",
      "\u0000H\u0000W\u0000I\u0000n\u0000p\u0000C\u0000h\u0000a\u0000n\u0000_\u0000E\u0000n\u0000a\u0000b\u0000l\u0000e\u0000d\u0000(\u00002\u0000)\u0000 \u0000 \u0000 \u0000 \u0000 \u0000 \u0000 \u0000 \u0000 \u0000 \u0000 \u0000 \u0000 \u0000 \u0000 \u0000 \u0000 \u0000 \u0000 \u0000 \u0000T\u0000r\u0000u\u0000e\u0000\n",
      "\u0000H\u0000W\u0000I\u0000n\u0000p\u0000C\u0000h\u0000a\u0000n\u0000_\u0000M\u0000o\u0000d\u0000u\u0000l\u0000e\u0000I\u0000d\u0000x\u0000(\u00003\u0000)\u0000 \u0000 \u0000 \u0000 \u0000 \u0000 \u0000 \u0000 \u0000 \u0000 \u0000 \u0000 \u0000 \u0000 \u0000 \u0000 \u0000 \u0000 \u00003\u0000\n",
      "\u0000H\u0000W\u0000I\u0000n\u0000p\u0000C\u0000h\u0000a\u0000n\u0000_\u0000C\u0000F\u0000D\u0000L\u0000e\u0000v\u0000e\u0000l\u0000(\u00003\u0000)\u0000 \u0000 \u0000 \u0000 \u0000 \u0000 \u0000 \u0000 \u0000 \u0000 \u0000 \u0000 \u0000 \u0000 \u0000 \u0000 \u0000 \u0000 \u0000 \u00004\u00000\u00000\u0000\n",
      "\u0000H\u0000W\u0000I\u0000n\u0000p\u0000C\u0000h\u0000a\u0000n\u0000_\u0000C\u0000F\u0000D\u0000Z\u0000e\u0000r\u0000o\u0000C\u0000r\u0000o\u0000s\u0000s\u0000(\u00003\u0000)\u0000 \u0000 \u0000 \u0000 \u0000 \u0000 \u0000 \u0000 \u0000 \u0000 \u0000 \u0000 \u0000 \u0000 \u0000 \u00001\u00000\u0000\n",
      "\u0000H\u0000W\u0000I\u0000n\u0000p\u0000C\u0000h\u0000a\u0000n\u0000_\u0000O\u0000f\u0000f\u0000s\u0000e\u0000t\u0000(\u00003\u0000)\u0000 \u0000 \u0000 \u0000 \u0000 \u0000 \u0000 \u0000 \u0000 \u0000 \u0000 \u0000 \u0000 \u0000 \u0000 \u0000 \u0000 \u0000 \u0000 \u0000 \u0000 \u00000\u0000\n",
      "\u0000H\u0000W\u0000I\u0000n\u0000p\u0000C\u0000h\u0000a\u0000n\u0000_\u0000E\u0000n\u0000a\u0000b\u0000l\u0000e\u0000d\u0000(\u00003\u0000)\u0000 \u0000 \u0000 \u0000 \u0000 \u0000 \u0000 \u0000 \u0000 \u0000 \u0000 \u0000 \u0000 \u0000 \u0000 \u0000 \u0000 \u0000 \u0000 \u0000 \u0000T\u0000r\u0000u\u0000e\u0000\n",
      "\u0000M\u0000e\u0000a\u0000s\u0000D\u0000e\u0000s\u0000c\u0000_\u0000R\u0000e\u0000s\u0000o\u0000l\u0000u\u0000t\u0000i\u0000o\u0000n\u0000 \u0000 \u0000 \u0000 \u0000 \u0000 \u0000 \u0000 \u0000 \u0000 \u0000 \u0000 \u0000 \u0000 \u0000 \u0000 \u0000 \u0000 \u0000 \u0000 \u0000 \u00002\u0000.\u00000\u00000\u00000\u00000\u00000\u00000\u0000E\u0000-\u00001\u00002\u0000\n",
      "\u0000H\u0000W\u0000_\u0000M\u0000a\u0000r\u0000k\u0000e\u0000r\u0000s\u0000 \u0000 \u0000 \u0000 \u0000 \u0000 \u0000 \u0000 \u0000 \u0000 \u0000 \u0000 \u0000 \u0000 \u0000 \u0000 \u0000 \u0000 \u0000 \u0000 \u0000 \u0000 \u0000 \u0000 \u0000 \u0000 \u0000 \u0000 \u0000 \u0000 \u00004\u0000\n",
      "\u0000H\u0000W\u0000M\u0000a\u0000r\u0000k\u0000e\u0000r\u0000s\u0000_\u0000R\u0000i\u0000s\u0000i\u0000n\u0000g\u0000E\u0000d\u0000g\u0000e\u0000(\u00000\u0000)\u0000 \u0000 \u0000 \u0000 \u0000 \u0000 \u0000 \u0000 \u0000 \u0000 \u0000 \u0000 \u0000 \u0000 \u0000 \u0000 \u0000 \u0000T\u0000r\u0000u\u0000e\u0000\n",
      "\u0000H\u0000W\u0000M\u0000a\u0000r\u0000k\u0000e\u0000r\u0000s\u0000_\u0000R\u0000i\u0000s\u0000i\u0000n\u0000g\u0000E\u0000d\u0000g\u0000e\u0000(\u00001\u0000)\u0000 \u0000 \u0000 \u0000 \u0000 \u0000 \u0000 \u0000 \u0000 \u0000 \u0000 \u0000 \u0000 \u0000 \u0000 \u0000 \u0000 \u0000T\u0000r\u0000u\u0000e\u0000\n",
      "\u0000H\u0000W\u0000M\u0000a\u0000r\u0000k\u0000e\u0000r\u0000s\u0000_\u0000R\u0000i\u0000s\u0000i\u0000n\u0000g\u0000E\u0000d\u0000g\u0000e\u0000(\u00002\u0000)\u0000 \u0000 \u0000 \u0000 \u0000 \u0000 \u0000 \u0000 \u0000 \u0000 \u0000 \u0000 \u0000 \u0000 \u0000 \u0000 \u0000 \u0000T\u0000r\u0000u\u0000e\u0000\n",
      "\u0000H\u0000W\u0000M\u0000a\u0000r\u0000k\u0000e\u0000r\u0000s\u0000_\u0000R\u0000i\u0000s\u0000i\u0000n\u0000g\u0000E\u0000d\u0000g\u0000e\u0000(\u00003\u0000)\u0000 \u0000 \u0000 \u0000 \u0000 \u0000 \u0000 \u0000 \u0000 \u0000 \u0000 \u0000 \u0000 \u0000 \u0000 \u0000 \u0000 \u0000T\u0000r\u0000u\u0000e\u0000\n",
      "\u0000H\u0000W\u0000M\u0000a\u0000r\u0000k\u0000e\u0000r\u0000s\u0000_\u0000E\u0000n\u0000a\u0000b\u0000l\u0000e\u0000d\u0000(\u00000\u0000)\u0000 \u0000 \u0000 \u0000 \u0000 \u0000 \u0000 \u0000 \u0000 \u0000 \u0000 \u0000 \u0000 \u0000 \u0000 \u0000 \u0000 \u0000 \u0000 \u0000 \u0000T\u0000r\u0000u\u0000e\u0000\n",
      "\u0000H\u0000W\u0000M\u0000a\u0000r\u0000k\u0000e\u0000r\u0000s\u0000_\u0000E\u0000n\u0000a\u0000b\u0000l\u0000e\u0000d\u0000(\u00001\u0000)\u0000 \u0000 \u0000 \u0000 \u0000 \u0000 \u0000 \u0000 \u0000 \u0000 \u0000 \u0000 \u0000 \u0000 \u0000 \u0000 \u0000 \u0000 \u0000 \u0000 \u0000T\u0000r\u0000u\u0000e\u0000\n",
      "\u0000H\u0000W\u0000M\u0000a\u0000r\u0000k\u0000e\u0000r\u0000s\u0000_\u0000E\u0000n\u0000a\u0000b\u0000l\u0000e\u0000d\u0000(\u00002\u0000)\u0000 \u0000 \u0000 \u0000 \u0000 \u0000 \u0000 \u0000 \u0000 \u0000 \u0000 \u0000 \u0000 \u0000 \u0000 \u0000 \u0000 \u0000 \u0000 \u0000 \u0000T\u0000r\u0000u\u0000e\u0000\n",
      "\u0000H\u0000W\u0000M\u0000a\u0000r\u0000k\u0000e\u0000r\u0000s\u0000_\u0000E\u0000n\u0000a\u0000b\u0000l\u0000e\u0000d\u0000(\u00003\u0000)\u0000 \u0000 \u0000 \u0000 \u0000 \u0000 \u0000 \u0000 \u0000 \u0000 \u0000 \u0000 \u0000 \u0000 \u0000 \u0000 \u0000 \u0000 \u0000 \u0000 \u0000T\u0000r\u0000u\u0000e\u0000\n",
      "\u0000H\u0000W\u0000M\u0000a\u0000r\u0000k\u0000e\u0000r\u0000s\u0000_\u0000H\u0000o\u0000l\u0000d\u0000O\u0000f\u0000f\u0000 \u0000 \u0000 \u0000 \u0000 \u0000 \u0000 \u0000 \u0000 \u0000 \u0000 \u0000 \u0000 \u0000 \u0000 \u0000 \u0000 \u0000 \u0000 \u0000 \u0000 \u0000 \u0000 \u00000\u0000\n",
      "\u0000M\u0000e\u0000a\u0000s\u0000D\u0000e\u0000s\u0000c\u0000_\u0000G\u0000l\u0000o\u0000b\u0000a\u0000l\u0000R\u0000e\u0000s\u0000o\u0000l\u0000u\u0000t\u0000i\u0000o\u0000n\u0000 \u0000 \u0000 \u0000 \u0000 \u0000 \u0000 \u0000 \u0000 \u0000 \u0000 \u0000 \u0000 \u0000 \u0000 \u00001\u0000.\u00003\u00003\u00002\u00007\u00008\u00005\u0000E\u0000-\u00000\u00007\u0000\n",
      "\u0000T\u0000T\u0000R\u0000e\u0000s\u0000u\u0000l\u0000t\u0000_\u0000S\u0000y\u0000n\u0000c\u0000R\u0000a\u0000t\u0000e\u0000 \u0000 \u0000 \u0000 \u0000 \u0000 \u0000 \u0000 \u0000 \u0000 \u0000 \u0000 \u0000 \u0000 \u0000 \u0000 \u0000 \u0000 \u0000 \u0000 \u0000 \u0000 \u0000 \u00007\u00005\u00000\u00003\u00000\u00008\u00008\u0000\n",
      "\u0000T\u0000T\u0000R\u0000e\u0000s\u0000u\u0000l\u0000t\u0000_\u0000I\u0000n\u0000p\u0000u\u0000t\u0000R\u0000a\u0000t\u0000e\u0000(\u00000\u0000)\u0000 \u0000 \u0000 \u0000 \u0000 \u0000 \u0000 \u0000 \u0000 \u0000 \u0000 \u0000 \u0000 \u0000 \u0000 \u0000 \u0000 \u0000 \u0000 \u00000\u0000\n",
      "\u0000T\u0000T\u0000R\u0000e\u0000s\u0000u\u0000l\u0000t\u0000_\u0000I\u0000n\u0000p\u0000u\u0000t\u0000R\u0000a\u0000t\u0000e\u0000(\u00001\u0000)\u0000 \u0000 \u0000 \u0000 \u0000 \u0000 \u0000 \u0000 \u0000 \u0000 \u0000 \u0000 \u0000 \u0000 \u0000 \u0000 \u0000 \u0000 \u0000 \u00002\u00008\u00000\u00003\u00000\u0000\n",
      "\u0000T\u0000T\u0000R\u0000e\u0000s\u0000u\u0000l\u0000t\u0000_\u0000I\u0000n\u0000p\u0000u\u0000t\u0000R\u0000a\u0000t\u0000e\u0000(\u00002\u0000)\u0000 \u0000 \u0000 \u0000 \u0000 \u0000 \u0000 \u0000 \u0000 \u0000 \u0000 \u0000 \u0000 \u0000 \u0000 \u0000 \u0000 \u0000 \u0000 \u00000\u0000\n",
      "\u0000T\u0000T\u0000R\u0000e\u0000s\u0000u\u0000l\u0000t\u0000_\u0000I\u0000n\u0000p\u0000u\u0000t\u0000R\u0000a\u0000t\u0000e\u0000(\u00003\u0000)\u0000 \u0000 \u0000 \u0000 \u0000 \u0000 \u0000 \u0000 \u0000 \u0000 \u0000 \u0000 \u0000 \u0000 \u0000 \u0000 \u0000 \u0000 \u0000 \u00001\u00005\u00007\u00006\u00006\u0000\n",
      "\u0000T\u0000T\u0000R\u0000e\u0000s\u0000u\u0000l\u0000t\u0000_\u0000S\u0000t\u0000o\u0000p\u0000A\u0000f\u0000t\u0000e\u0000r\u0000 \u0000 \u0000 \u0000 \u0000 \u0000 \u0000 \u0000 \u0000 \u0000 \u0000 \u0000 \u0000 \u0000 \u0000 \u0000 \u0000 \u0000 \u0000 \u0000 \u0000 \u0000 \u00003\u00000\u00000\u00000\u00000\u00000\u0000\n",
      "\u0000T\u0000T\u0000R\u0000e\u0000s\u0000u\u0000l\u0000t\u0000_\u0000N\u0000u\u0000m\u0000b\u0000e\u0000r\u0000O\u0000f\u0000R\u0000e\u0000c\u0000o\u0000r\u0000d\u0000s\u0000 \u0000 \u0000 \u0000 \u0000 \u0000 \u0000 \u0000 \u0000 \u0000 \u0000 \u0000 \u0000 \u0000 \u0000 \u0000 \u00001\u00004\u00009\u00009\u00004\u00004\u00004\u00003\u0000\n",
      "\u0000H\u0000e\u0000a\u0000d\u0000e\u0000r\u0000_\u0000E\u0000n\u0000d\u0000 \u0000 \u0000 \u0000 \u0000 \u0000 \u0000 \u0000 \u0000 \u0000 \u0000 \u0000 \u0000 \u0000 \u0000 \u0000 \u0000 \u0000 \u0000 \u0000 \u0000 \u0000 \u0000 \u0000 \u0000 \u0000 \u0000 \u0000 \u0000 \u0000 \u0000<\u0000e\u0000m\u0000p\u0000t\u0000y\u0000 \u0000T\u0000a\u0000g\u0000>\u0000\n",
      "\u0000-\u0000-\u0000-\u0000-\u0000-\u0000-\u0000-\u0000-\u0000-\u0000-\u0000-\u0000-\u0000-\u0000-\u0000-\u0000-\u0000-\u0000-\u0000-\u0000-\u0000-\u0000-\u0000-\u0000\n",
      "\u0000H\u0000y\u0000d\u0000r\u0000a\u0000H\u0000a\u0000r\u0000p\u0000 \u0000V\u00002\u0000 \u0000T\u00003\u0000 \u0000d\u0000a\u0000t\u0000a\u0000\n",
      "\u0000\n",
      "\u0000r\u0000e\u0000c\u0000o\u0000r\u0000d\u0000#\u0000 \u0000c\u0000h\u0000a\u0000n\u0000 \u0000 \u0000 \u0000n\u0000s\u0000y\u0000n\u0000c\u0000 \u0000t\u0000r\u0000u\u0000e\u0000t\u0000i\u0000m\u0000e\u0000/\u0000n\u0000s\u0000 \u0000d\u0000t\u0000i\u0000m\u0000e\u0000\n",
      "\u00001\u00003\u00008\u0000,\u00003\u0000,\u00002\u00002\u00004\u00003\u00002\u0000\n",
      "\n"
     ]
    }
   ],
   "metadata": {}
  },
  {
   "cell_type": "code",
   "execution_count": 31,
   "source": [
    "filepath = shift.get_time_stamp_file_path('1el_T3_000.ptu')\n",
    "filepath"
   ],
   "outputs": [
    {
     "output_type": "execute_result",
     "data": {
      "text/plain": [
       "'/Users/ilobach/OneDrive - Fermi National Accelerator Laboratory/URSSE/shifts/shift_08_05_2021/time_stamp_files/1el_T3_000.ptu'"
      ]
     },
     "metadata": {},
     "execution_count": 31
    }
   ],
   "metadata": {}
  },
  {
   "cell_type": "code",
   "execution_count": 32,
   "source": [
    "prog_path = 'Read_PTU.py'"
   ],
   "outputs": [],
   "metadata": {}
  },
  {
   "cell_type": "code",
   "execution_count": 33,
   "source": [
    "import os\n",
    "process = os.popen(f'python {prog_path} \"{filepath}\" out.txt')\n",
    "preprocessed = process.read()\n",
    "process.close()\n",
    "preprocessed"
   ],
   "outputs": [
    {
     "output_type": "execute_result",
     "data": {
      "text/plain": [
       "'Writing 14994443 records, this may take a while...\\nHydraHarp V2 T3 data\\n\\nProgress: 0.0%\\nProgress: 0.7%\\nProgress: 1.3%\\nProgress: 2.0%\\nProgress: 2.7%\\nProgress: 3.3%\\nProgress: 4.0%\\nProgress: 4.7%\\nProgress: 5.3%\\nProgress: 6.0%\\nProgress: 6.7%\\nProgress: 7.3%\\nProgress: 8.0%\\nProgress: 8.7%\\nProgress: 9.3%\\nProgress: 10.0%\\nProgress: 10.7%\\nProgress: 11.3%\\nProgress: 12.0%\\nProgress: 12.7%\\nProgress: 13.3%\\nProgress: 14.0%\\nProgress: 14.7%\\nProgress: 15.3%\\nProgress: 16.0%\\nProgress: 16.7%\\nProgress: 17.3%\\nProgress: 18.0%\\nProgress: 18.7%\\nProgress: 19.3%\\nProgress: 20.0%\\nProgress: 20.7%\\nProgress: 21.3%\\nProgress: 22.0%\\nProgress: 22.7%\\nProgress: 23.3%\\nProgress: 24.0%\\nProgress: 24.7%\\nProgress: 25.3%\\nProgress: 26.0%\\nProgress: 26.7%\\nProgress: 27.3%\\nProgress: 28.0%\\nProgress: 28.7%\\nProgress: 29.3%\\nProgress: 30.0%\\nProgress: 30.7%\\nProgress: 31.3%\\nProgress: 32.0%\\nProgress: 32.7%\\nProgress: 33.3%\\nProgress: 34.0%\\nProgress: 34.7%\\nProgress: 35.3%\\nProgress: 36.0%\\nProgress: 36.7%\\nProgress: 37.3%\\nProgress: 38.0%\\nProgress: 38.7%\\nProgress: 39.3%\\nProgress: 40.0%\\nProgress: 40.7%\\nProgress: 41.3%\\nProgress: 42.0%\\nProgress: 42.7%\\nProgress: 43.3%\\nProgress: 44.0%\\nProgress: 44.7%\\nProgress: 45.4%\\nProgress: 46.0%\\nProgress: 46.7%\\nProgress: 47.4%\\nProgress: 48.0%\\nProgress: 48.7%\\nProgress: 49.4%\\nProgress: 50.0%\\nProgress: 50.7%\\nProgress: 51.4%\\nProgress: 52.0%\\nProgress: 52.7%\\nProgress: 53.4%\\nProgress: 54.0%\\nProgress: 54.7%\\nProgress: 55.4%\\nProgress: 56.0%\\nProgress: 56.7%\\nProgress: 57.4%\\nProgress: 58.0%\\nProgress: 58.7%\\nProgress: 59.4%\\nProgress: 60.0%\\nProgress: 60.7%\\nProgress: 61.4%\\nProgress: 62.0%\\nProgress: 62.7%\\nProgress: 63.4%\\nProgress: 64.0%\\nProgress: 64.7%\\nProgress: 65.4%\\nProgress: 66.0%\\nProgress: 66.7%\\nProgress: 67.4%\\nProgress: 68.0%\\nProgress: 68.7%\\nProgress: 69.4%\\nProgress: 70.0%\\nProgress: 70.7%\\nProgress: 71.4%\\nProgress: 72.0%\\nProgress: 72.7%\\nProgress: 73.4%\\nProgress: 74.0%\\nProgress: 74.7%\\nProgress: 75.4%\\nProgress: 76.0%\\nProgress: 76.7%\\nProgress: 77.4%\\nProgress: 78.0%\\nProgress: 78.7%\\nProgress: 79.4%\\nProgress: 80.0%\\nProgress: 80.7%\\nProgress: 81.4%\\nProgress: 82.0%\\nProgress: 82.7%\\nProgress: 83.4%\\nProgress: 84.0%\\nProgress: 84.7%\\nProgress: 85.4%\\nProgress: 86.0%\\nProgress: 86.7%\\nProgress: 87.4%\\nProgress: 88.0%\\nProgress: 88.7%\\nProgress: 89.4%\\nProgress: 90.0%\\nProgress: 90.7%\\nProgress: 91.4%\\nProgress: 92.0%\\nProgress: 92.7%\\nProgress: 93.4%\\nProgress: 94.0%\\nProgress: 94.7%\\nProgress: 95.4%\\nProgress: 96.0%\\nProgress: 96.7%\\nProgress: 97.4%\\nProgress: 98.0%\\nProgress: 98.7%\\nProgress: 99.4%'"
      ]
     },
     "metadata": {},
     "execution_count": 33
    }
   ],
   "metadata": {}
  },
  {
   "cell_type": "code",
   "execution_count": 34,
   "source": [
    "with open(\"out.txt\") as myfile:\n",
    "    head = [next(myfile) for x in range(200)]\n",
    "print(''.join(head))"
   ],
   "outputs": [
    {
     "output_type": "stream",
     "name": "stdout",
     "text": [
      "T\u0000a\u0000g\u0000 \u0000v\u0000e\u0000r\u0000s\u0000i\u0000o\u0000n\u0000:\u0000 \u00001\u0000.\u00000\u0000.\u00000\u00000\u0000\n",
      "\u0000\n",
      "\u0000F\u0000i\u0000l\u0000e\u0000_\u0000G\u0000U\u0000I\u0000D\u0000 \u0000 \u0000 \u0000 \u0000 \u0000 \u0000 \u0000 \u0000 \u0000 \u0000 \u0000 \u0000 \u0000 \u0000 \u0000 \u0000 \u0000 \u0000 \u0000 \u0000 \u0000 \u0000 \u0000 \u0000 \u0000 \u0000 \u0000 \u0000 \u0000 \u0000 \u0000{\u0000A\u00003\u00008\u00006\u00000\u00009\u0000C\u0000A\u0000-\u0000C\u00006\u00003\u0000F\u0000-\u00004\u0000D\u00009\u0000C\u0000-\u00008\u0000C\u0000B\u0000B\u0000-\u00004\u0000D\u0000E\u0000F\u00001\u00001\u0000C\u0000E\u00007\u0000D\u0000C\u0000A\u0000}\u0000\n",
      "\u0000F\u0000i\u0000l\u0000e\u0000_\u0000A\u0000s\u0000s\u0000u\u0000r\u0000e\u0000d\u0000C\u0000o\u0000n\u0000t\u0000e\u0000n\u0000t\u0000 \u0000 \u0000 \u0000 \u0000 \u0000 \u0000 \u0000 \u0000 \u0000 \u0000 \u0000 \u0000 \u0000 \u0000 \u0000 \u0000 \u0000 \u0000 \u0000 \u0000 \u0000H\u0000y\u0000d\u0000r\u0000a\u0000H\u0000a\u0000r\u0000p\u0000:\u0000 \u0000H\u0000W\u0000S\u0000E\u0000T\u0000G\u0000 \u0000S\u0000W\u0000S\u0000E\u0000T\u0000G\u0000\n",
      "\u0000C\u0000r\u0000e\u0000a\u0000t\u0000o\u0000r\u0000S\u0000W\u0000_\u0000C\u0000o\u0000n\u0000t\u0000e\u0000n\u0000t\u0000V\u0000e\u0000r\u0000s\u0000i\u0000o\u0000n\u0000 \u0000 \u0000 \u0000 \u0000 \u0000 \u0000 \u0000 \u0000 \u0000 \u0000 \u0000 \u0000 \u0000 \u0000 \u0000 \u00003\u0000.\u00000\u0000\n",
      "\u0000C\u0000r\u0000e\u0000a\u0000t\u0000o\u0000r\u0000S\u0000W\u0000_\u0000N\u0000a\u0000m\u0000e\u0000 \u0000 \u0000 \u0000 \u0000 \u0000 \u0000 \u0000 \u0000 \u0000 \u0000 \u0000 \u0000 \u0000 \u0000 \u0000 \u0000 \u0000 \u0000 \u0000 \u0000 \u0000 \u0000 \u0000 \u0000 \u0000 \u0000H\u0000y\u0000d\u0000r\u0000a\u0000H\u0000a\u0000r\u0000p\u0000 \u0000A\u0000c\u0000q\u0000U\u0000I\u0000\n",
      "\u0000C\u0000r\u0000e\u0000a\u0000t\u0000o\u0000r\u0000S\u0000W\u0000_\u0000V\u0000e\u0000r\u0000s\u0000i\u0000o\u0000n\u0000 \u0000 \u0000 \u0000 \u0000 \u0000 \u0000 \u0000 \u0000 \u0000 \u0000 \u0000 \u0000 \u0000 \u0000 \u0000 \u0000 \u0000 \u0000 \u0000 \u0000 \u0000 \u0000 \u00003\u0000.\u00000\u0000.\u00000\u0000.\u00002\u0000\n",
      "\u0000F\u0000i\u0000l\u0000e\u0000_\u0000C\u0000r\u0000e\u0000a\u0000t\u0000i\u0000n\u0000g\u0000T\u0000i\u0000m\u0000e\u0000 \u0000 \u0000 \u0000 \u0000 \u0000 \u0000 \u0000 \u0000 \u0000 \u0000 \u0000 \u0000 \u0000 \u0000 \u0000 \u0000 \u0000 \u0000 \u0000 \u0000 \u0000 \u0000 \u0000T\u0000h\u0000u\u0000 \u0000A\u0000u\u0000g\u0000 \u00000\u00005\u0000 \u00001\u00005\u0000:\u00001\u00005\u0000:\u00003\u00005\u0000 \u00002\u00000\u00002\u00001\u0000\n",
      "\u0000F\u0000i\u0000l\u0000e\u0000_\u0000C\u0000o\u0000m\u0000m\u0000e\u0000n\u0000t\u0000 \u0000 \u0000 \u0000 \u0000 \u0000 \u0000 \u0000 \u0000 \u0000 \u0000 \u0000 \u0000 \u0000 \u0000 \u0000 \u0000 \u0000 \u0000 \u0000 \u0000 \u0000 \u0000 \u0000 \u0000 \u0000 \u0000 \u0000 \u0000T\u00003\u0000 \u0000M\u0000o\u0000d\u0000e\u0000\n",
      "\u0000M\u0000e\u0000a\u0000s\u0000u\u0000r\u0000e\u0000m\u0000e\u0000n\u0000t\u0000_\u0000M\u0000o\u0000d\u0000e\u0000 \u0000 \u0000 \u0000 \u0000 \u0000 \u0000 \u0000 \u0000 \u0000 \u0000 \u0000 \u0000 \u0000 \u0000 \u0000 \u0000 \u0000 \u0000 \u0000 \u0000 \u0000 \u0000 \u0000 \u00003\u0000\n",
      "\u0000M\u0000e\u0000a\u0000s\u0000u\u0000r\u0000e\u0000m\u0000e\u0000n\u0000t\u0000_\u0000S\u0000u\u0000b\u0000M\u0000o\u0000d\u0000e\u0000 \u0000 \u0000 \u0000 \u0000 \u0000 \u0000 \u0000 \u0000 \u0000 \u0000 \u0000 \u0000 \u0000 \u0000 \u0000 \u0000 \u0000 \u0000 \u0000 \u0000 \u00000\u0000\n",
      "\u0000T\u0000T\u0000R\u0000e\u0000s\u0000u\u0000l\u0000t\u0000_\u0000S\u0000t\u0000o\u0000p\u0000R\u0000e\u0000a\u0000s\u0000o\u0000n\u0000 \u0000 \u0000 \u0000 \u0000 \u0000 \u0000 \u0000 \u0000 \u0000 \u0000 \u0000 \u0000 \u0000 \u0000 \u0000 \u0000 \u0000 \u0000 \u0000 \u0000 \u00000\u0000\n",
      "\u0000F\u0000a\u0000s\u0000t\u0000_\u0000L\u0000o\u0000a\u0000d\u0000_\u0000E\u0000n\u0000d\u0000 \u0000 \u0000 \u0000 \u0000 \u0000 \u0000 \u0000 \u0000 \u0000 \u0000 \u0000 \u0000 \u0000 \u0000 \u0000 \u0000 \u0000 \u0000 \u0000 \u0000 \u0000 \u0000 \u0000 \u0000 \u0000 \u0000 \u0000<\u0000e\u0000m\u0000p\u0000t\u0000y\u0000 \u0000T\u0000a\u0000g\u0000>\u0000\n",
      "\u0000T\u0000T\u0000R\u0000e\u0000s\u0000u\u0000l\u0000t\u0000F\u0000o\u0000r\u0000m\u0000a\u0000t\u0000_\u0000T\u0000T\u0000T\u0000R\u0000R\u0000e\u0000c\u0000T\u0000y\u0000p\u0000e\u0000 \u0000 \u0000 \u0000 \u0000 \u0000 \u0000 \u0000 \u0000 \u0000 \u0000 \u0000 \u0000 \u0000 \u00001\u00006\u00008\u00004\u00003\u00005\u00002\u00004\u0000\n",
      "\u0000T\u0000T\u0000R\u0000e\u0000s\u0000u\u0000l\u0000t\u0000F\u0000o\u0000r\u0000m\u0000a\u0000t\u0000_\u0000B\u0000i\u0000t\u0000s\u0000P\u0000e\u0000r\u0000R\u0000e\u0000c\u0000o\u0000r\u0000d\u0000 \u0000 \u0000 \u0000 \u0000 \u0000 \u0000 \u0000 \u0000 \u0000 \u0000 \u0000 \u00003\u00002\u0000\n",
      "\u0000M\u0000e\u0000a\u0000s\u0000D\u0000e\u0000s\u0000c\u0000_\u0000B\u0000i\u0000n\u0000n\u0000i\u0000n\u0000g\u0000F\u0000a\u0000c\u0000t\u0000o\u0000r\u0000 \u0000 \u0000 \u0000 \u0000 \u0000 \u0000 \u0000 \u0000 \u0000 \u0000 \u0000 \u0000 \u0000 \u0000 \u0000 \u0000 \u0000 \u00002\u0000\n",
      "\u0000M\u0000e\u0000a\u0000s\u0000D\u0000e\u0000s\u0000c\u0000_\u0000O\u0000f\u0000f\u0000s\u0000e\u0000t\u0000 \u0000 \u0000 \u0000 \u0000 \u0000 \u0000 \u0000 \u0000 \u0000 \u0000 \u0000 \u0000 \u0000 \u0000 \u0000 \u0000 \u0000 \u0000 \u0000 \u0000 \u0000 \u0000 \u0000 \u0000 \u00000\u0000\n",
      "\u0000M\u0000e\u0000a\u0000s\u0000D\u0000e\u0000s\u0000c\u0000_\u0000A\u0000c\u0000q\u0000u\u0000i\u0000s\u0000i\u0000t\u0000i\u0000o\u0000n\u0000T\u0000i\u0000m\u0000e\u0000 \u0000 \u0000 \u0000 \u0000 \u0000 \u0000 \u0000 \u0000 \u0000 \u0000 \u0000 \u0000 \u0000 \u0000 \u0000 \u00003\u00000\u00000\u00000\u00000\u00000\u0000\n",
      "\u0000M\u0000e\u0000a\u0000s\u0000D\u0000e\u0000s\u0000c\u0000_\u0000S\u0000t\u0000o\u0000p\u0000A\u0000t\u0000 \u0000 \u0000 \u0000 \u0000 \u0000 \u0000 \u0000 \u0000 \u0000 \u0000 \u0000 \u0000 \u0000 \u0000 \u0000 \u0000 \u0000 \u0000 \u0000 \u0000 \u0000 \u0000 \u0000 \u0000 \u00004\u00002\u00009\u00004\u00009\u00006\u00007\u00002\u00009\u00005\u0000\n",
      "\u0000M\u0000e\u0000a\u0000s\u0000D\u0000e\u0000s\u0000c\u0000_\u0000S\u0000t\u0000o\u0000p\u0000O\u0000n\u0000O\u0000v\u0000f\u0000l\u0000 \u0000 \u0000 \u0000 \u0000 \u0000 \u0000 \u0000 \u0000 \u0000 \u0000 \u0000 \u0000 \u0000 \u0000 \u0000 \u0000 \u0000 \u0000 \u0000 \u0000 \u0000F\u0000a\u0000l\u0000s\u0000e\u0000\n",
      "\u0000M\u0000e\u0000a\u0000s\u0000D\u0000e\u0000s\u0000c\u0000_\u0000R\u0000e\u0000s\u0000t\u0000a\u0000r\u0000t\u0000 \u0000 \u0000 \u0000 \u0000 \u0000 \u0000 \u0000 \u0000 \u0000 \u0000 \u0000 \u0000 \u0000 \u0000 \u0000 \u0000 \u0000 \u0000 \u0000 \u0000 \u0000 \u0000 \u0000 \u0000F\u0000a\u0000l\u0000s\u0000e\u0000\n",
      "\u0000C\u0000u\u0000r\u0000S\u0000W\u0000S\u0000e\u0000t\u0000t\u0000i\u0000n\u0000g\u0000_\u0000D\u0000i\u0000s\u0000p\u0000L\u0000o\u0000g\u0000 \u0000 \u0000 \u0000 \u0000 \u0000 \u0000 \u0000 \u0000 \u0000 \u0000 \u0000 \u0000 \u0000 \u0000 \u0000 \u0000 \u0000 \u0000 \u0000 \u0000T\u0000r\u0000u\u0000e\u0000\n",
      "\u0000C\u0000u\u0000r\u0000S\u0000W\u0000S\u0000e\u0000t\u0000t\u0000i\u0000n\u0000g\u0000_\u0000D\u0000i\u0000s\u0000p\u0000A\u0000x\u0000i\u0000s\u0000T\u0000i\u0000m\u0000e\u0000F\u0000r\u0000o\u0000m\u0000 \u0000 \u0000 \u0000 \u0000 \u0000 \u0000 \u0000 \u0000 \u0000 \u0000 \u00000\u0000\n",
      "\u0000C\u0000u\u0000r\u0000S\u0000W\u0000S\u0000e\u0000t\u0000t\u0000i\u0000n\u0000g\u0000_\u0000D\u0000i\u0000s\u0000p\u0000A\u0000x\u0000i\u0000s\u0000T\u0000i\u0000m\u0000e\u0000T\u0000o\u0000 \u0000 \u0000 \u0000 \u0000 \u0000 \u0000 \u0000 \u0000 \u0000 \u0000 \u0000 \u0000 \u00002\u00006\u00002\u0000\n",
      "\u0000C\u0000u\u0000r\u0000S\u0000W\u0000S\u0000e\u0000t\u0000t\u0000i\u0000n\u0000g\u0000_\u0000D\u0000i\u0000s\u0000p\u0000A\u0000x\u0000i\u0000s\u0000C\u0000o\u0000u\u0000n\u0000t\u0000F\u0000r\u0000o\u0000m\u0000 \u0000 \u0000 \u0000 \u0000 \u0000 \u0000 \u0000 \u0000 \u0000 \u00000\u0000\n",
      "\u0000C\u0000u\u0000r\u0000S\u0000W\u0000S\u0000e\u0000t\u0000t\u0000i\u0000n\u0000g\u0000_\u0000D\u0000i\u0000s\u0000p\u0000A\u0000x\u0000i\u0000s\u0000C\u0000o\u0000u\u0000n\u0000t\u0000T\u0000o\u0000 \u0000 \u0000 \u0000 \u0000 \u0000 \u0000 \u0000 \u0000 \u0000 \u0000 \u0000 \u00004\u00002\u00009\u00004\u00009\u00006\u00007\u00002\u00009\u00005\u0000\n",
      "\u0000C\u0000u\u0000r\u0000S\u0000W\u0000S\u0000e\u0000t\u0000t\u0000i\u0000n\u0000g\u0000_\u0000D\u0000i\u0000s\u0000p\u0000C\u0000u\u0000r\u0000v\u0000e\u0000s\u0000 \u0000 \u0000 \u0000 \u0000 \u0000 \u0000 \u0000 \u0000 \u0000 \u0000 \u0000 \u0000 \u0000 \u0000 \u0000 \u0000 \u00008\u0000\n",
      "\u0000C\u0000u\u0000r\u0000S\u0000W\u0000S\u0000e\u0000t\u0000t\u0000i\u0000n\u0000g\u0000_\u0000D\u0000i\u0000s\u0000p\u0000C\u0000u\u0000r\u0000v\u0000e\u0000_\u0000M\u0000a\u0000p\u0000T\u0000o\u0000(\u00000\u0000)\u0000 \u0000 \u0000 \u0000 \u0000 \u0000 \u0000 \u0000 \u0000 \u00000\u0000\n",
      "\u0000C\u0000u\u0000r\u0000S\u0000W\u0000S\u0000e\u0000t\u0000t\u0000i\u0000n\u0000g\u0000_\u0000D\u0000i\u0000s\u0000p\u0000C\u0000u\u0000r\u0000v\u0000e\u0000_\u0000S\u0000h\u0000o\u0000w\u0000(\u00000\u0000)\u0000 \u0000 \u0000 \u0000 \u0000 \u0000 \u0000 \u0000 \u0000 \u0000 \u0000T\u0000r\u0000u\u0000e\u0000\n",
      "\u0000C\u0000u\u0000r\u0000S\u0000W\u0000S\u0000e\u0000t\u0000t\u0000i\u0000n\u0000g\u0000_\u0000D\u0000i\u0000s\u0000p\u0000C\u0000u\u0000r\u0000v\u0000e\u0000_\u0000M\u0000a\u0000p\u0000T\u0000o\u0000(\u00001\u0000)\u0000 \u0000 \u0000 \u0000 \u0000 \u0000 \u0000 \u0000 \u0000 \u00001\u0000\n",
      "\u0000C\u0000u\u0000r\u0000S\u0000W\u0000S\u0000e\u0000t\u0000t\u0000i\u0000n\u0000g\u0000_\u0000D\u0000i\u0000s\u0000p\u0000C\u0000u\u0000r\u0000v\u0000e\u0000_\u0000S\u0000h\u0000o\u0000w\u0000(\u00001\u0000)\u0000 \u0000 \u0000 \u0000 \u0000 \u0000 \u0000 \u0000 \u0000 \u0000 \u0000T\u0000r\u0000u\u0000e\u0000\n",
      "\u0000C\u0000u\u0000r\u0000S\u0000W\u0000S\u0000e\u0000t\u0000t\u0000i\u0000n\u0000g\u0000_\u0000D\u0000i\u0000s\u0000p\u0000C\u0000u\u0000r\u0000v\u0000e\u0000_\u0000M\u0000a\u0000p\u0000T\u0000o\u0000(\u00002\u0000)\u0000 \u0000 \u0000 \u0000 \u0000 \u0000 \u0000 \u0000 \u0000 \u00002\u0000\n",
      "\u0000C\u0000u\u0000r\u0000S\u0000W\u0000S\u0000e\u0000t\u0000t\u0000i\u0000n\u0000g\u0000_\u0000D\u0000i\u0000s\u0000p\u0000C\u0000u\u0000r\u0000v\u0000e\u0000_\u0000S\u0000h\u0000o\u0000w\u0000(\u00002\u0000)\u0000 \u0000 \u0000 \u0000 \u0000 \u0000 \u0000 \u0000 \u0000 \u0000 \u0000T\u0000r\u0000u\u0000e\u0000\n",
      "\u0000C\u0000u\u0000r\u0000S\u0000W\u0000S\u0000e\u0000t\u0000t\u0000i\u0000n\u0000g\u0000_\u0000D\u0000i\u0000s\u0000p\u0000C\u0000u\u0000r\u0000v\u0000e\u0000_\u0000M\u0000a\u0000p\u0000T\u0000o\u0000(\u00003\u0000)\u0000 \u0000 \u0000 \u0000 \u0000 \u0000 \u0000 \u0000 \u0000 \u00003\u0000\n",
      "\u0000C\u0000u\u0000r\u0000S\u0000W\u0000S\u0000e\u0000t\u0000t\u0000i\u0000n\u0000g\u0000_\u0000D\u0000i\u0000s\u0000p\u0000C\u0000u\u0000r\u0000v\u0000e\u0000_\u0000S\u0000h\u0000o\u0000w\u0000(\u00003\u0000)\u0000 \u0000 \u0000 \u0000 \u0000 \u0000 \u0000 \u0000 \u0000 \u0000 \u0000T\u0000r\u0000u\u0000e\u0000\n",
      "\u0000C\u0000u\u0000r\u0000S\u0000W\u0000S\u0000e\u0000t\u0000t\u0000i\u0000n\u0000g\u0000_\u0000D\u0000i\u0000s\u0000p\u0000C\u0000u\u0000r\u0000v\u0000e\u0000_\u0000M\u0000a\u0000p\u0000T\u0000o\u0000(\u00004\u0000)\u0000 \u0000 \u0000 \u0000 \u0000 \u0000 \u0000 \u0000 \u0000 \u00004\u0000\n",
      "\u0000C\u0000u\u0000r\u0000S\u0000W\u0000S\u0000e\u0000t\u0000t\u0000i\u0000n\u0000g\u0000_\u0000D\u0000i\u0000s\u0000p\u0000C\u0000u\u0000r\u0000v\u0000e\u0000_\u0000S\u0000h\u0000o\u0000w\u0000(\u00004\u0000)\u0000 \u0000 \u0000 \u0000 \u0000 \u0000 \u0000 \u0000 \u0000 \u0000 \u0000T\u0000r\u0000u\u0000e\u0000\n",
      "\u0000C\u0000u\u0000r\u0000S\u0000W\u0000S\u0000e\u0000t\u0000t\u0000i\u0000n\u0000g\u0000_\u0000D\u0000i\u0000s\u0000p\u0000C\u0000u\u0000r\u0000v\u0000e\u0000_\u0000M\u0000a\u0000p\u0000T\u0000o\u0000(\u00005\u0000)\u0000 \u0000 \u0000 \u0000 \u0000 \u0000 \u0000 \u0000 \u0000 \u00005\u0000\n",
      "\u0000C\u0000u\u0000r\u0000S\u0000W\u0000S\u0000e\u0000t\u0000t\u0000i\u0000n\u0000g\u0000_\u0000D\u0000i\u0000s\u0000p\u0000C\u0000u\u0000r\u0000v\u0000e\u0000_\u0000S\u0000h\u0000o\u0000w\u0000(\u00005\u0000)\u0000 \u0000 \u0000 \u0000 \u0000 \u0000 \u0000 \u0000 \u0000 \u0000 \u0000T\u0000r\u0000u\u0000e\u0000\n",
      "\u0000C\u0000u\u0000r\u0000S\u0000W\u0000S\u0000e\u0000t\u0000t\u0000i\u0000n\u0000g\u0000_\u0000D\u0000i\u0000s\u0000p\u0000C\u0000u\u0000r\u0000v\u0000e\u0000_\u0000M\u0000a\u0000p\u0000T\u0000o\u0000(\u00006\u0000)\u0000 \u0000 \u0000 \u0000 \u0000 \u0000 \u0000 \u0000 \u0000 \u00006\u0000\n",
      "\u0000C\u0000u\u0000r\u0000S\u0000W\u0000S\u0000e\u0000t\u0000t\u0000i\u0000n\u0000g\u0000_\u0000D\u0000i\u0000s\u0000p\u0000C\u0000u\u0000r\u0000v\u0000e\u0000_\u0000S\u0000h\u0000o\u0000w\u0000(\u00006\u0000)\u0000 \u0000 \u0000 \u0000 \u0000 \u0000 \u0000 \u0000 \u0000 \u0000 \u0000T\u0000r\u0000u\u0000e\u0000\n",
      "\u0000C\u0000u\u0000r\u0000S\u0000W\u0000S\u0000e\u0000t\u0000t\u0000i\u0000n\u0000g\u0000_\u0000D\u0000i\u0000s\u0000p\u0000C\u0000u\u0000r\u0000v\u0000e\u0000_\u0000M\u0000a\u0000p\u0000T\u0000o\u0000(\u00007\u0000)\u0000 \u0000 \u0000 \u0000 \u0000 \u0000 \u0000 \u0000 \u0000 \u00007\u0000\n",
      "\u0000C\u0000u\u0000r\u0000S\u0000W\u0000S\u0000e\u0000t\u0000t\u0000i\u0000n\u0000g\u0000_\u0000D\u0000i\u0000s\u0000p\u0000C\u0000u\u0000r\u0000v\u0000e\u0000_\u0000S\u0000h\u0000o\u0000w\u0000(\u00007\u0000)\u0000 \u0000 \u0000 \u0000 \u0000 \u0000 \u0000 \u0000 \u0000 \u0000 \u0000T\u0000r\u0000u\u0000e\u0000\n",
      "\u0000H\u0000W\u0000_\u0000T\u0000y\u0000p\u0000e\u0000 \u0000 \u0000 \u0000 \u0000 \u0000 \u0000 \u0000 \u0000 \u0000 \u0000 \u0000 \u0000 \u0000 \u0000 \u0000 \u0000 \u0000 \u0000 \u0000 \u0000 \u0000 \u0000 \u0000 \u0000 \u0000 \u0000 \u0000 \u0000 \u0000 \u0000 \u0000 \u0000 \u0000H\u0000y\u0000d\u0000r\u0000a\u0000H\u0000a\u0000r\u0000p\u0000 \u00004\u00000\u00000\u0000\n",
      "\u0000H\u0000W\u0000_\u0000P\u0000a\u0000r\u0000t\u0000N\u0000o\u0000 \u0000 \u0000 \u0000 \u0000 \u0000 \u0000 \u0000 \u0000 \u0000 \u0000 \u0000 \u0000 \u0000 \u0000 \u0000 \u0000 \u0000 \u0000 \u0000 \u0000 \u0000 \u0000 \u0000 \u0000 \u0000 \u0000 \u0000 \u0000 \u0000 \u0000 \u00009\u00003\u00000\u00000\u00002\u00000\u0000\n",
      "\u0000H\u0000W\u0000_\u0000V\u0000e\u0000r\u0000s\u0000i\u0000o\u0000n\u0000 \u0000 \u0000 \u0000 \u0000 \u0000 \u0000 \u0000 \u0000 \u0000 \u0000 \u0000 \u0000 \u0000 \u0000 \u0000 \u0000 \u0000 \u0000 \u0000 \u0000 \u0000 \u0000 \u0000 \u0000 \u0000 \u0000 \u0000 \u0000 \u0000 \u00002\u0000.\u00000\u0000\n",
      "\u0000H\u0000W\u0000_\u0000S\u0000e\u0000r\u0000i\u0000a\u0000l\u0000N\u0000o\u0000 \u0000 \u0000 \u0000 \u0000 \u0000 \u0000 \u0000 \u0000 \u0000 \u0000 \u0000 \u0000 \u0000 \u0000 \u0000 \u0000 \u0000 \u0000 \u0000 \u0000 \u0000 \u0000 \u0000 \u0000 \u0000 \u0000 \u0000 \u0000 \u00001\u00000\u00003\u00006\u00005\u00000\u00009\u0000\n",
      "\u0000H\u0000W\u0000_\u0000M\u0000o\u0000d\u0000u\u0000l\u0000e\u0000s\u0000 \u0000 \u0000 \u0000 \u0000 \u0000 \u0000 \u0000 \u0000 \u0000 \u0000 \u0000 \u0000 \u0000 \u0000 \u0000 \u0000 \u0000 \u0000 \u0000 \u0000 \u0000 \u0000 \u0000 \u0000 \u0000 \u0000 \u0000 \u0000 \u0000 \u00004\u0000\n",
      "\u0000H\u0000W\u0000M\u0000o\u0000d\u0000u\u0000l\u0000e\u0000_\u0000T\u0000y\u0000p\u0000e\u0000C\u0000o\u0000d\u0000e\u0000(\u00000\u0000)\u0000 \u0000 \u0000 \u0000 \u0000 \u0000 \u0000 \u0000 \u0000 \u0000 \u0000 \u0000 \u0000 \u0000 \u0000 \u0000 \u0000 \u0000 \u0000 \u0000 \u00001\u00000\u00000\u00000\u0000\n",
      "\u0000H\u0000W\u0000M\u0000o\u0000d\u0000u\u0000l\u0000e\u0000_\u0000V\u0000e\u0000r\u0000s\u0000C\u0000o\u0000d\u0000e\u0000(\u00000\u0000)\u0000 \u0000 \u0000 \u0000 \u0000 \u0000 \u0000 \u0000 \u0000 \u0000 \u0000 \u0000 \u0000 \u0000 \u0000 \u0000 \u0000 \u0000 \u0000 \u0000 \u00005\u00001\u00000\u00005\u00002\u00005\u00004\u00005\u0000\n",
      "\u0000H\u0000W\u0000M\u0000o\u0000d\u0000u\u0000l\u0000e\u0000_\u0000T\u0000y\u0000p\u0000e\u0000C\u0000o\u0000d\u0000e\u0000(\u00001\u0000)\u0000 \u0000 \u0000 \u0000 \u0000 \u0000 \u0000 \u0000 \u0000 \u0000 \u0000 \u0000 \u0000 \u0000 \u0000 \u0000 \u0000 \u0000 \u0000 \u0000 \u00001\u00000\u00001\u00000\u0000\n",
      "\u0000H\u0000W\u0000M\u0000o\u0000d\u0000u\u0000l\u0000e\u0000_\u0000V\u0000e\u0000r\u0000s\u0000C\u0000o\u0000d\u0000e\u0000(\u00001\u0000)\u0000 \u0000 \u0000 \u0000 \u0000 \u0000 \u0000 \u0000 \u0000 \u0000 \u0000 \u0000 \u0000 \u0000 \u0000 \u0000 \u0000 \u0000 \u0000 \u0000 \u00003\u00003\u00005\u00005\u00004\u00009\u00005\u00004\u0000\n",
      "\u0000H\u0000W\u0000M\u0000o\u0000d\u0000u\u0000l\u0000e\u0000_\u0000T\u0000y\u0000p\u0000e\u0000C\u0000o\u0000d\u0000e\u0000(\u00002\u0000)\u0000 \u0000 \u0000 \u0000 \u0000 \u0000 \u0000 \u0000 \u0000 \u0000 \u0000 \u0000 \u0000 \u0000 \u0000 \u0000 \u0000 \u0000 \u0000 \u0000 \u00001\u00000\u00004\u00000\u0000\n",
      "\u0000H\u0000W\u0000M\u0000o\u0000d\u0000u\u0000l\u0000e\u0000_\u0000V\u0000e\u0000r\u0000s\u0000C\u0000o\u0000d\u0000e\u0000(\u00002\u0000)\u0000 \u0000 \u0000 \u0000 \u0000 \u0000 \u0000 \u0000 \u0000 \u0000 \u0000 \u0000 \u0000 \u0000 \u0000 \u0000 \u0000 \u0000 \u0000 \u0000 \u00001\u00008\u00002\u00001\u00009\u00005\u00003\u00000\u0000\n",
      "\u0000H\u0000W\u0000M\u0000o\u0000d\u0000u\u0000l\u0000e\u0000_\u0000T\u0000y\u0000p\u0000e\u0000C\u0000o\u0000d\u0000e\u0000(\u00003\u0000)\u0000 \u0000 \u0000 \u0000 \u0000 \u0000 \u0000 \u0000 \u0000 \u0000 \u0000 \u0000 \u0000 \u0000 \u0000 \u0000 \u0000 \u0000 \u0000 \u0000 \u00001\u00000\u00004\u00000\u0000\n",
      "\u0000H\u0000W\u0000M\u0000o\u0000d\u0000u\u0000l\u0000e\u0000_\u0000V\u0000e\u0000r\u0000s\u0000C\u0000o\u0000d\u0000e\u0000(\u00003\u0000)\u0000 \u0000 \u0000 \u0000 \u0000 \u0000 \u0000 \u0000 \u0000 \u0000 \u0000 \u0000 \u0000 \u0000 \u0000 \u0000 \u0000 \u0000 \u0000 \u0000 \u00001\u00008\u00002\u00001\u00009\u00005\u00003\u00000\u0000\n",
      "\u0000H\u0000W\u0000_\u0000B\u0000a\u0000s\u0000e\u0000R\u0000e\u0000s\u0000o\u0000l\u0000u\u0000t\u0000i\u0000o\u0000n\u0000 \u0000 \u0000 \u0000 \u0000 \u0000 \u0000 \u0000 \u0000 \u0000 \u0000 \u0000 \u0000 \u0000 \u0000 \u0000 \u0000 \u0000 \u0000 \u0000 \u0000 \u0000 \u0000 \u00001\u0000.\u00000\u00000\u00000\u00000\u00000\u00000\u0000E\u0000-\u00001\u00002\u0000\n",
      "\u0000H\u0000W\u0000_\u0000I\u0000n\u0000p\u0000C\u0000h\u0000a\u0000n\u0000n\u0000e\u0000l\u0000s\u0000 \u0000 \u0000 \u0000 \u0000 \u0000 \u0000 \u0000 \u0000 \u0000 \u0000 \u0000 \u0000 \u0000 \u0000 \u0000 \u0000 \u0000 \u0000 \u0000 \u0000 \u0000 \u0000 \u0000 \u0000 \u0000 \u00004\u0000\n",
      "\u0000H\u0000W\u0000_\u0000E\u0000x\u0000t\u0000e\u0000r\u0000n\u0000a\u0000l\u0000R\u0000e\u0000f\u0000C\u0000l\u0000o\u0000c\u0000k\u0000 \u0000 \u0000 \u0000 \u0000 \u0000 \u0000 \u0000 \u0000 \u0000 \u0000 \u0000 \u0000 \u0000 \u0000 \u0000 \u0000 \u0000 \u0000 \u0000 \u0000 \u0000F\u0000a\u0000l\u0000s\u0000e\u0000\n",
      "\u0000H\u0000W\u0000_\u0000E\u0000x\u0000t\u0000e\u0000r\u0000n\u0000a\u0000l\u0000D\u0000e\u0000v\u0000i\u0000c\u0000e\u0000s\u0000 \u0000 \u0000 \u0000 \u0000 \u0000 \u0000 \u0000 \u0000 \u0000 \u0000 \u0000 \u0000 \u0000 \u0000 \u0000 \u0000 \u0000 \u0000 \u0000 \u0000 \u0000 \u00000\u0000\n",
      "\u0000H\u0000W\u0000S\u0000y\u0000n\u0000c\u0000_\u0000D\u0000i\u0000v\u0000i\u0000d\u0000e\u0000r\u0000 \u0000 \u0000 \u0000 \u0000 \u0000 \u0000 \u0000 \u0000 \u0000 \u0000 \u0000 \u0000 \u0000 \u0000 \u0000 \u0000 \u0000 \u0000 \u0000 \u0000 \u0000 \u0000 \u0000 \u0000 \u0000 \u00001\u0000\n",
      "\u0000H\u0000W\u0000S\u0000y\u0000n\u0000c\u0000_\u0000C\u0000F\u0000D\u0000L\u0000e\u0000v\u0000e\u0000l\u0000 \u0000 \u0000 \u0000 \u0000 \u0000 \u0000 \u0000 \u0000 \u0000 \u0000 \u0000 \u0000 \u0000 \u0000 \u0000 \u0000 \u0000 \u0000 \u0000 \u0000 \u0000 \u0000 \u0000 \u0000 \u00004\u00000\u00000\u0000\n",
      "\u0000H\u0000W\u0000S\u0000y\u0000n\u0000c\u0000_\u0000C\u0000F\u0000D\u0000Z\u0000e\u0000r\u0000o\u0000C\u0000r\u0000o\u0000s\u0000s\u0000 \u0000 \u0000 \u0000 \u0000 \u0000 \u0000 \u0000 \u0000 \u0000 \u0000 \u0000 \u0000 \u0000 \u0000 \u0000 \u0000 \u0000 \u0000 \u0000 \u0000 \u00001\u00000\u0000\n",
      "\u0000H\u0000W\u0000S\u0000y\u0000n\u0000c\u0000_\u0000O\u0000f\u0000f\u0000s\u0000e\u0000t\u0000 \u0000 \u0000 \u0000 \u0000 \u0000 \u0000 \u0000 \u0000 \u0000 \u0000 \u0000 \u0000 \u0000 \u0000 \u0000 \u0000 \u0000 \u0000 \u0000 \u0000 \u0000 \u0000 \u0000 \u0000 \u0000 \u0000 \u0000-\u00001\u00000\u00000\u00000\u00000\u0000\n",
      "\u0000H\u0000W\u0000I\u0000n\u0000p\u0000C\u0000h\u0000a\u0000n\u0000_\u0000M\u0000o\u0000d\u0000u\u0000l\u0000e\u0000I\u0000d\u0000x\u0000(\u00000\u0000)\u0000 \u0000 \u0000 \u0000 \u0000 \u0000 \u0000 \u0000 \u0000 \u0000 \u0000 \u0000 \u0000 \u0000 \u0000 \u0000 \u0000 \u0000 \u00002\u0000\n",
      "\u0000H\u0000W\u0000I\u0000n\u0000p\u0000C\u0000h\u0000a\u0000n\u0000_\u0000C\u0000F\u0000D\u0000L\u0000e\u0000v\u0000e\u0000l\u0000(\u00000\u0000)\u0000 \u0000 \u0000 \u0000 \u0000 \u0000 \u0000 \u0000 \u0000 \u0000 \u0000 \u0000 \u0000 \u0000 \u0000 \u0000 \u0000 \u0000 \u0000 \u00004\u00000\u00000\u0000\n",
      "\u0000H\u0000W\u0000I\u0000n\u0000p\u0000C\u0000h\u0000a\u0000n\u0000_\u0000C\u0000F\u0000D\u0000Z\u0000e\u0000r\u0000o\u0000C\u0000r\u0000o\u0000s\u0000s\u0000(\u00000\u0000)\u0000 \u0000 \u0000 \u0000 \u0000 \u0000 \u0000 \u0000 \u0000 \u0000 \u0000 \u0000 \u0000 \u0000 \u0000 \u00001\u00000\u0000\n",
      "\u0000H\u0000W\u0000I\u0000n\u0000p\u0000C\u0000h\u0000a\u0000n\u0000_\u0000O\u0000f\u0000f\u0000s\u0000e\u0000t\u0000(\u00000\u0000)\u0000 \u0000 \u0000 \u0000 \u0000 \u0000 \u0000 \u0000 \u0000 \u0000 \u0000 \u0000 \u0000 \u0000 \u0000 \u0000 \u0000 \u0000 \u0000 \u0000 \u0000 \u00000\u0000\n",
      "\u0000H\u0000W\u0000I\u0000n\u0000p\u0000C\u0000h\u0000a\u0000n\u0000_\u0000E\u0000n\u0000a\u0000b\u0000l\u0000e\u0000d\u0000(\u00000\u0000)\u0000 \u0000 \u0000 \u0000 \u0000 \u0000 \u0000 \u0000 \u0000 \u0000 \u0000 \u0000 \u0000 \u0000 \u0000 \u0000 \u0000 \u0000 \u0000 \u0000 \u0000T\u0000r\u0000u\u0000e\u0000\n",
      "\u0000H\u0000W\u0000I\u0000n\u0000p\u0000C\u0000h\u0000a\u0000n\u0000_\u0000M\u0000o\u0000d\u0000u\u0000l\u0000e\u0000I\u0000d\u0000x\u0000(\u00001\u0000)\u0000 \u0000 \u0000 \u0000 \u0000 \u0000 \u0000 \u0000 \u0000 \u0000 \u0000 \u0000 \u0000 \u0000 \u0000 \u0000 \u0000 \u0000 \u00002\u0000\n",
      "\u0000H\u0000W\u0000I\u0000n\u0000p\u0000C\u0000h\u0000a\u0000n\u0000_\u0000C\u0000F\u0000D\u0000L\u0000e\u0000v\u0000e\u0000l\u0000(\u00001\u0000)\u0000 \u0000 \u0000 \u0000 \u0000 \u0000 \u0000 \u0000 \u0000 \u0000 \u0000 \u0000 \u0000 \u0000 \u0000 \u0000 \u0000 \u0000 \u0000 \u00004\u00000\u00000\u0000\n",
      "\u0000H\u0000W\u0000I\u0000n\u0000p\u0000C\u0000h\u0000a\u0000n\u0000_\u0000C\u0000F\u0000D\u0000Z\u0000e\u0000r\u0000o\u0000C\u0000r\u0000o\u0000s\u0000s\u0000(\u00001\u0000)\u0000 \u0000 \u0000 \u0000 \u0000 \u0000 \u0000 \u0000 \u0000 \u0000 \u0000 \u0000 \u0000 \u0000 \u0000 \u00001\u00000\u0000\n",
      "\u0000H\u0000W\u0000I\u0000n\u0000p\u0000C\u0000h\u0000a\u0000n\u0000_\u0000O\u0000f\u0000f\u0000s\u0000e\u0000t\u0000(\u00001\u0000)\u0000 \u0000 \u0000 \u0000 \u0000 \u0000 \u0000 \u0000 \u0000 \u0000 \u0000 \u0000 \u0000 \u0000 \u0000 \u0000 \u0000 \u0000 \u0000 \u0000 \u0000 \u00000\u0000\n",
      "\u0000H\u0000W\u0000I\u0000n\u0000p\u0000C\u0000h\u0000a\u0000n\u0000_\u0000E\u0000n\u0000a\u0000b\u0000l\u0000e\u0000d\u0000(\u00001\u0000)\u0000 \u0000 \u0000 \u0000 \u0000 \u0000 \u0000 \u0000 \u0000 \u0000 \u0000 \u0000 \u0000 \u0000 \u0000 \u0000 \u0000 \u0000 \u0000 \u0000 \u0000T\u0000r\u0000u\u0000e\u0000\n",
      "\u0000H\u0000W\u0000I\u0000n\u0000p\u0000C\u0000h\u0000a\u0000n\u0000_\u0000M\u0000o\u0000d\u0000u\u0000l\u0000e\u0000I\u0000d\u0000x\u0000(\u00002\u0000)\u0000 \u0000 \u0000 \u0000 \u0000 \u0000 \u0000 \u0000 \u0000 \u0000 \u0000 \u0000 \u0000 \u0000 \u0000 \u0000 \u0000 \u0000 \u00003\u0000\n",
      "\u0000H\u0000W\u0000I\u0000n\u0000p\u0000C\u0000h\u0000a\u0000n\u0000_\u0000C\u0000F\u0000D\u0000L\u0000e\u0000v\u0000e\u0000l\u0000(\u00002\u0000)\u0000 \u0000 \u0000 \u0000 \u0000 \u0000 \u0000 \u0000 \u0000 \u0000 \u0000 \u0000 \u0000 \u0000 \u0000 \u0000 \u0000 \u0000 \u0000 \u00004\u00000\u00000\u0000\n",
      "\u0000H\u0000W\u0000I\u0000n\u0000p\u0000C\u0000h\u0000a\u0000n\u0000_\u0000C\u0000F\u0000D\u0000Z\u0000e\u0000r\u0000o\u0000C\u0000r\u0000o\u0000s\u0000s\u0000(\u00002\u0000)\u0000 \u0000 \u0000 \u0000 \u0000 \u0000 \u0000 \u0000 \u0000 \u0000 \u0000 \u0000 \u0000 \u0000 \u0000 \u00001\u00000\u0000\n",
      "\u0000H\u0000W\u0000I\u0000n\u0000p\u0000C\u0000h\u0000a\u0000n\u0000_\u0000O\u0000f\u0000f\u0000s\u0000e\u0000t\u0000(\u00002\u0000)\u0000 \u0000 \u0000 \u0000 \u0000 \u0000 \u0000 \u0000 \u0000 \u0000 \u0000 \u0000 \u0000 \u0000 \u0000 \u0000 \u0000 \u0000 \u0000 \u0000 \u0000 \u00000\u0000\n",
      "\u0000H\u0000W\u0000I\u0000n\u0000p\u0000C\u0000h\u0000a\u0000n\u0000_\u0000E\u0000n\u0000a\u0000b\u0000l\u0000e\u0000d\u0000(\u00002\u0000)\u0000 \u0000 \u0000 \u0000 \u0000 \u0000 \u0000 \u0000 \u0000 \u0000 \u0000 \u0000 \u0000 \u0000 \u0000 \u0000 \u0000 \u0000 \u0000 \u0000 \u0000T\u0000r\u0000u\u0000e\u0000\n",
      "\u0000H\u0000W\u0000I\u0000n\u0000p\u0000C\u0000h\u0000a\u0000n\u0000_\u0000M\u0000o\u0000d\u0000u\u0000l\u0000e\u0000I\u0000d\u0000x\u0000(\u00003\u0000)\u0000 \u0000 \u0000 \u0000 \u0000 \u0000 \u0000 \u0000 \u0000 \u0000 \u0000 \u0000 \u0000 \u0000 \u0000 \u0000 \u0000 \u0000 \u00003\u0000\n",
      "\u0000H\u0000W\u0000I\u0000n\u0000p\u0000C\u0000h\u0000a\u0000n\u0000_\u0000C\u0000F\u0000D\u0000L\u0000e\u0000v\u0000e\u0000l\u0000(\u00003\u0000)\u0000 \u0000 \u0000 \u0000 \u0000 \u0000 \u0000 \u0000 \u0000 \u0000 \u0000 \u0000 \u0000 \u0000 \u0000 \u0000 \u0000 \u0000 \u0000 \u00004\u00000\u00000\u0000\n",
      "\u0000H\u0000W\u0000I\u0000n\u0000p\u0000C\u0000h\u0000a\u0000n\u0000_\u0000C\u0000F\u0000D\u0000Z\u0000e\u0000r\u0000o\u0000C\u0000r\u0000o\u0000s\u0000s\u0000(\u00003\u0000)\u0000 \u0000 \u0000 \u0000 \u0000 \u0000 \u0000 \u0000 \u0000 \u0000 \u0000 \u0000 \u0000 \u0000 \u0000 \u00001\u00000\u0000\n",
      "\u0000H\u0000W\u0000I\u0000n\u0000p\u0000C\u0000h\u0000a\u0000n\u0000_\u0000O\u0000f\u0000f\u0000s\u0000e\u0000t\u0000(\u00003\u0000)\u0000 \u0000 \u0000 \u0000 \u0000 \u0000 \u0000 \u0000 \u0000 \u0000 \u0000 \u0000 \u0000 \u0000 \u0000 \u0000 \u0000 \u0000 \u0000 \u0000 \u0000 \u00000\u0000\n",
      "\u0000H\u0000W\u0000I\u0000n\u0000p\u0000C\u0000h\u0000a\u0000n\u0000_\u0000E\u0000n\u0000a\u0000b\u0000l\u0000e\u0000d\u0000(\u00003\u0000)\u0000 \u0000 \u0000 \u0000 \u0000 \u0000 \u0000 \u0000 \u0000 \u0000 \u0000 \u0000 \u0000 \u0000 \u0000 \u0000 \u0000 \u0000 \u0000 \u0000 \u0000T\u0000r\u0000u\u0000e\u0000\n",
      "\u0000M\u0000e\u0000a\u0000s\u0000D\u0000e\u0000s\u0000c\u0000_\u0000R\u0000e\u0000s\u0000o\u0000l\u0000u\u0000t\u0000i\u0000o\u0000n\u0000 \u0000 \u0000 \u0000 \u0000 \u0000 \u0000 \u0000 \u0000 \u0000 \u0000 \u0000 \u0000 \u0000 \u0000 \u0000 \u0000 \u0000 \u0000 \u0000 \u0000 \u00002\u0000.\u00000\u00000\u00000\u00000\u00000\u00000\u0000E\u0000-\u00001\u00002\u0000\n",
      "\u0000H\u0000W\u0000_\u0000M\u0000a\u0000r\u0000k\u0000e\u0000r\u0000s\u0000 \u0000 \u0000 \u0000 \u0000 \u0000 \u0000 \u0000 \u0000 \u0000 \u0000 \u0000 \u0000 \u0000 \u0000 \u0000 \u0000 \u0000 \u0000 \u0000 \u0000 \u0000 \u0000 \u0000 \u0000 \u0000 \u0000 \u0000 \u0000 \u0000 \u00004\u0000\n",
      "\u0000H\u0000W\u0000M\u0000a\u0000r\u0000k\u0000e\u0000r\u0000s\u0000_\u0000R\u0000i\u0000s\u0000i\u0000n\u0000g\u0000E\u0000d\u0000g\u0000e\u0000(\u00000\u0000)\u0000 \u0000 \u0000 \u0000 \u0000 \u0000 \u0000 \u0000 \u0000 \u0000 \u0000 \u0000 \u0000 \u0000 \u0000 \u0000 \u0000 \u0000T\u0000r\u0000u\u0000e\u0000\n",
      "\u0000H\u0000W\u0000M\u0000a\u0000r\u0000k\u0000e\u0000r\u0000s\u0000_\u0000R\u0000i\u0000s\u0000i\u0000n\u0000g\u0000E\u0000d\u0000g\u0000e\u0000(\u00001\u0000)\u0000 \u0000 \u0000 \u0000 \u0000 \u0000 \u0000 \u0000 \u0000 \u0000 \u0000 \u0000 \u0000 \u0000 \u0000 \u0000 \u0000 \u0000T\u0000r\u0000u\u0000e\u0000\n",
      "\u0000H\u0000W\u0000M\u0000a\u0000r\u0000k\u0000e\u0000r\u0000s\u0000_\u0000R\u0000i\u0000s\u0000i\u0000n\u0000g\u0000E\u0000d\u0000g\u0000e\u0000(\u00002\u0000)\u0000 \u0000 \u0000 \u0000 \u0000 \u0000 \u0000 \u0000 \u0000 \u0000 \u0000 \u0000 \u0000 \u0000 \u0000 \u0000 \u0000 \u0000T\u0000r\u0000u\u0000e\u0000\n",
      "\u0000H\u0000W\u0000M\u0000a\u0000r\u0000k\u0000e\u0000r\u0000s\u0000_\u0000R\u0000i\u0000s\u0000i\u0000n\u0000g\u0000E\u0000d\u0000g\u0000e\u0000(\u00003\u0000)\u0000 \u0000 \u0000 \u0000 \u0000 \u0000 \u0000 \u0000 \u0000 \u0000 \u0000 \u0000 \u0000 \u0000 \u0000 \u0000 \u0000 \u0000T\u0000r\u0000u\u0000e\u0000\n",
      "\u0000H\u0000W\u0000M\u0000a\u0000r\u0000k\u0000e\u0000r\u0000s\u0000_\u0000E\u0000n\u0000a\u0000b\u0000l\u0000e\u0000d\u0000(\u00000\u0000)\u0000 \u0000 \u0000 \u0000 \u0000 \u0000 \u0000 \u0000 \u0000 \u0000 \u0000 \u0000 \u0000 \u0000 \u0000 \u0000 \u0000 \u0000 \u0000 \u0000 \u0000T\u0000r\u0000u\u0000e\u0000\n",
      "\u0000H\u0000W\u0000M\u0000a\u0000r\u0000k\u0000e\u0000r\u0000s\u0000_\u0000E\u0000n\u0000a\u0000b\u0000l\u0000e\u0000d\u0000(\u00001\u0000)\u0000 \u0000 \u0000 \u0000 \u0000 \u0000 \u0000 \u0000 \u0000 \u0000 \u0000 \u0000 \u0000 \u0000 \u0000 \u0000 \u0000 \u0000 \u0000 \u0000 \u0000T\u0000r\u0000u\u0000e\u0000\n",
      "\u0000H\u0000W\u0000M\u0000a\u0000r\u0000k\u0000e\u0000r\u0000s\u0000_\u0000E\u0000n\u0000a\u0000b\u0000l\u0000e\u0000d\u0000(\u00002\u0000)\u0000 \u0000 \u0000 \u0000 \u0000 \u0000 \u0000 \u0000 \u0000 \u0000 \u0000 \u0000 \u0000 \u0000 \u0000 \u0000 \u0000 \u0000 \u0000 \u0000 \u0000T\u0000r\u0000u\u0000e\u0000\n",
      "\u0000H\u0000W\u0000M\u0000a\u0000r\u0000k\u0000e\u0000r\u0000s\u0000_\u0000E\u0000n\u0000a\u0000b\u0000l\u0000e\u0000d\u0000(\u00003\u0000)\u0000 \u0000 \u0000 \u0000 \u0000 \u0000 \u0000 \u0000 \u0000 \u0000 \u0000 \u0000 \u0000 \u0000 \u0000 \u0000 \u0000 \u0000 \u0000 \u0000 \u0000T\u0000r\u0000u\u0000e\u0000\n",
      "\u0000H\u0000W\u0000M\u0000a\u0000r\u0000k\u0000e\u0000r\u0000s\u0000_\u0000H\u0000o\u0000l\u0000d\u0000O\u0000f\u0000f\u0000 \u0000 \u0000 \u0000 \u0000 \u0000 \u0000 \u0000 \u0000 \u0000 \u0000 \u0000 \u0000 \u0000 \u0000 \u0000 \u0000 \u0000 \u0000 \u0000 \u0000 \u0000 \u0000 \u00000\u0000\n",
      "\u0000M\u0000e\u0000a\u0000s\u0000D\u0000e\u0000s\u0000c\u0000_\u0000G\u0000l\u0000o\u0000b\u0000a\u0000l\u0000R\u0000e\u0000s\u0000o\u0000l\u0000u\u0000t\u0000i\u0000o\u0000n\u0000 \u0000 \u0000 \u0000 \u0000 \u0000 \u0000 \u0000 \u0000 \u0000 \u0000 \u0000 \u0000 \u0000 \u0000 \u00001\u0000.\u00003\u00003\u00002\u00007\u00008\u00005\u0000E\u0000-\u00000\u00007\u0000\n",
      "\u0000T\u0000T\u0000R\u0000e\u0000s\u0000u\u0000l\u0000t\u0000_\u0000S\u0000y\u0000n\u0000c\u0000R\u0000a\u0000t\u0000e\u0000 \u0000 \u0000 \u0000 \u0000 \u0000 \u0000 \u0000 \u0000 \u0000 \u0000 \u0000 \u0000 \u0000 \u0000 \u0000 \u0000 \u0000 \u0000 \u0000 \u0000 \u0000 \u0000 \u00007\u00005\u00000\u00003\u00000\u00008\u00008\u0000\n",
      "\u0000T\u0000T\u0000R\u0000e\u0000s\u0000u\u0000l\u0000t\u0000_\u0000I\u0000n\u0000p\u0000u\u0000t\u0000R\u0000a\u0000t\u0000e\u0000(\u00000\u0000)\u0000 \u0000 \u0000 \u0000 \u0000 \u0000 \u0000 \u0000 \u0000 \u0000 \u0000 \u0000 \u0000 \u0000 \u0000 \u0000 \u0000 \u0000 \u0000 \u00000\u0000\n",
      "\u0000T\u0000T\u0000R\u0000e\u0000s\u0000u\u0000l\u0000t\u0000_\u0000I\u0000n\u0000p\u0000u\u0000t\u0000R\u0000a\u0000t\u0000e\u0000(\u00001\u0000)\u0000 \u0000 \u0000 \u0000 \u0000 \u0000 \u0000 \u0000 \u0000 \u0000 \u0000 \u0000 \u0000 \u0000 \u0000 \u0000 \u0000 \u0000 \u0000 \u00002\u00008\u00000\u00003\u00000\u0000\n",
      "\u0000T\u0000T\u0000R\u0000e\u0000s\u0000u\u0000l\u0000t\u0000_\u0000I\u0000n\u0000p\u0000u\u0000t\u0000R\u0000a\u0000t\u0000e\u0000(\u00002\u0000)\u0000 \u0000 \u0000 \u0000 \u0000 \u0000 \u0000 \u0000 \u0000 \u0000 \u0000 \u0000 \u0000 \u0000 \u0000 \u0000 \u0000 \u0000 \u0000 \u00000\u0000\n",
      "\u0000T\u0000T\u0000R\u0000e\u0000s\u0000u\u0000l\u0000t\u0000_\u0000I\u0000n\u0000p\u0000u\u0000t\u0000R\u0000a\u0000t\u0000e\u0000(\u00003\u0000)\u0000 \u0000 \u0000 \u0000 \u0000 \u0000 \u0000 \u0000 \u0000 \u0000 \u0000 \u0000 \u0000 \u0000 \u0000 \u0000 \u0000 \u0000 \u0000 \u00001\u00005\u00007\u00006\u00006\u0000\n",
      "\u0000T\u0000T\u0000R\u0000e\u0000s\u0000u\u0000l\u0000t\u0000_\u0000S\u0000t\u0000o\u0000p\u0000A\u0000f\u0000t\u0000e\u0000r\u0000 \u0000 \u0000 \u0000 \u0000 \u0000 \u0000 \u0000 \u0000 \u0000 \u0000 \u0000 \u0000 \u0000 \u0000 \u0000 \u0000 \u0000 \u0000 \u0000 \u0000 \u0000 \u00003\u00000\u00000\u00000\u00000\u00000\u0000\n",
      "\u0000T\u0000T\u0000R\u0000e\u0000s\u0000u\u0000l\u0000t\u0000_\u0000N\u0000u\u0000m\u0000b\u0000e\u0000r\u0000O\u0000f\u0000R\u0000e\u0000c\u0000o\u0000r\u0000d\u0000s\u0000 \u0000 \u0000 \u0000 \u0000 \u0000 \u0000 \u0000 \u0000 \u0000 \u0000 \u0000 \u0000 \u0000 \u0000 \u0000 \u00001\u00004\u00009\u00009\u00004\u00004\u00004\u00003\u0000\n",
      "\u0000H\u0000e\u0000a\u0000d\u0000e\u0000r\u0000_\u0000E\u0000n\u0000d\u0000 \u0000 \u0000 \u0000 \u0000 \u0000 \u0000 \u0000 \u0000 \u0000 \u0000 \u0000 \u0000 \u0000 \u0000 \u0000 \u0000 \u0000 \u0000 \u0000 \u0000 \u0000 \u0000 \u0000 \u0000 \u0000 \u0000 \u0000 \u0000 \u0000 \u0000<\u0000e\u0000m\u0000p\u0000t\u0000y\u0000 \u0000T\u0000a\u0000g\u0000>\u0000\n",
      "\u0000-\u0000-\u0000-\u0000-\u0000-\u0000-\u0000-\u0000-\u0000-\u0000-\u0000-\u0000-\u0000-\u0000-\u0000-\u0000-\u0000-\u0000-\u0000-\u0000-\u0000-\u0000-\u0000-\u0000\n",
      "\u0000H\u0000y\u0000d\u0000r\u0000a\u0000H\u0000a\u0000r\u0000p\u0000 \u0000V\u00002\u0000 \u0000T\u00003\u0000 \u0000d\u0000a\u0000t\u0000a\u0000\n",
      "\u0000\n",
      "\u0000r\u0000e\u0000c\u0000o\u0000r\u0000d\u0000#\u0000 \u0000c\u0000h\u0000a\u0000n\u0000 \u0000 \u0000 \u0000n\u0000s\u0000y\u0000n\u0000c\u0000 \u0000t\u0000r\u0000u\u0000e\u0000t\u0000i\u0000m\u0000e\u0000/\u0000n\u0000s\u0000 \u0000d\u0000t\u0000i\u0000m\u0000e\u0000\n",
      "\u00001\u00003\u00008\u0000,\u0000 \u00003\u0000,\u0000 \u0000 \u0000 \u0000 \u0000 \u0000 \u00002\u00002\u00004\u00003\u00002\u0000\n",
      "\u00004\u00006\u00004\u0000,\u0000 \u00001\u0000,\u0000 \u0000 \u0000 \u0000 \u0000 \u0000 \u00002\u00005\u00007\u00006\u00004\u0000\n",
      "\u00005\u00004\u00007\u0000,\u0000 \u00003\u0000,\u0000 \u0000 \u0000 \u0000 \u0000 \u0000 \u00001\u00004\u00007\u00002\u00007\u0000\n",
      "\u00005\u00005\u00001\u0000,\u0000 \u00003\u0000,\u0000 \u0000 \u0000 \u0000 \u0000 \u0000 \u00001\u00004\u00007\u00004\u00003\u0000\n",
      "\u00005\u00009\u00006\u0000,\u0000 \u00003\u0000,\u0000 \u0000 \u0000 \u0000 \u0000 \u0000 \u00001\u00004\u00007\u00000\u00007\u0000\n",
      "\u00005\u00009\u00009\u0000,\u0000 \u00001\u0000,\u0000 \u0000 \u0000 \u0000 \u0000 \u0000 \u00002\u00005\u00009\u00009\u00000\u0000\n",
      "\u00008\u00005\u00008\u0000,\u0000 \u00001\u0000,\u0000 \u0000 \u0000 \u0000 \u0000 \u0000 \u00002\u00005\u00008\u00007\u00007\u0000\n",
      "\u00007\u0000 \u0000O\u0000F\u0000L\u0000 \u0000*\u0000 \u0000 \u00001\u0000\n",
      "\u00001\u00001\u00000\u00008\u0000,\u0000 \u00001\u0000,\u0000 \u0000 \u0000 \u0000 \u0000 \u0000 \u00002\u00005\u00007\u00004\u00003\u0000\n",
      "\u00001\u00003\u00003\u00001\u0000,\u0000 \u00003\u0000,\u0000 \u0000 \u0000 \u0000 \u0000 \u0000 \u00001\u00004\u00005\u00000\u00007\u0000\n",
      "\u00001\u00006\u00007\u00003\u0000,\u0000 \u00003\u0000,\u0000 \u0000 \u0000 \u0000 \u0000 \u0000 \u00001\u00004\u00005\u00000\u00008\u0000\n",
      "\u00001\u00001\u0000 \u0000O\u0000F\u0000L\u0000 \u0000*\u0000 \u0000 \u00001\u0000\n",
      "\u00002\u00000\u00005\u00002\u0000,\u0000 \u00003\u0000,\u0000 \u0000 \u0000 \u0000 \u0000 \u0000 \u00001\u00004\u00003\u00007\u00008\u0000\n",
      "\u00002\u00000\u00007\u00007\u0000,\u0000 \u00001\u0000,\u0000 \u0000 \u0000 \u0000 \u0000 \u0000 \u00002\u00005\u00006\u00009\u00006\u0000\n",
      "\u00002\u00003\u00003\u00005\u0000,\u0000 \u00001\u0000,\u0000 \u0000 \u0000 \u0000 \u0000 \u0000 \u00002\u00005\u00004\u00007\u00007\u0000\n",
      "\u00002\u00006\u00002\u00002\u0000,\u0000 \u00001\u0000,\u0000 \u0000 \u0000 \u0000 \u0000 \u0000 \u00002\u00005\u00005\u00000\u00007\u0000\n",
      "\u00002\u00008\u00000\u00001\u0000,\u0000 \u00001\u0000,\u0000 \u0000 \u0000 \u0000 \u0000 \u0000 \u00002\u00005\u00003\u00003\u00003\u0000\n",
      "\u00003\u00000\u00003\u00008\u0000,\u0000 \u00001\u0000,\u0000 \u0000 \u0000 \u0000 \u0000 \u0000 \u00002\u00005\u00002\u00002\u00007\u0000\n",
      "\u00003\u00000\u00004\u00009\u0000,\u0000 \u00003\u0000,\u0000 \u0000 \u0000 \u0000 \u0000 \u0000 \u00001\u00004\u00001\u00008\u00005\u0000\n",
      "\u00001\u00009\u0000 \u0000O\u0000F\u0000L\u0000 \u0000*\u0000 \u0000 \u00001\u0000\n",
      "\u00003\u00000\u00009\u00009\u0000,\u0000 \u00001\u0000,\u0000 \u0000 \u0000 \u0000 \u0000 \u0000 \u00002\u00005\u00004\u00006\u00003\u0000\n",
      "\u00003\u00001\u00000\u00007\u0000,\u0000 \u00001\u0000,\u0000 \u0000 \u0000 \u0000 \u0000 \u0000 \u00002\u00005\u00002\u00001\u00004\u0000\n",
      "\u00003\u00001\u00009\u00001\u0000,\u0000 \u00001\u0000,\u0000 \u0000 \u0000 \u0000 \u0000 \u0000 \u00002\u00005\u00002\u00009\u00005\u0000\n",
      "\u00003\u00001\u00009\u00003\u0000,\u0000 \u00001\u0000,\u0000 \u0000 \u0000 \u0000 \u0000 \u0000 \u00002\u00005\u00002\u00006\u00003\u0000\n",
      "\u00003\u00004\u00002\u00006\u0000,\u0000 \u00001\u0000,\u0000 \u0000 \u0000 \u0000 \u0000 \u0000 \u00002\u00005\u00000\u00008\u00003\u0000\n",
      "\u00003\u00005\u00000\u00000\u0000,\u0000 \u00003\u0000,\u0000 \u0000 \u0000 \u0000 \u0000 \u0000 \u00001\u00004\u00001\u00006\u00004\u0000\n",
      "\u00003\u00005\u00002\u00005\u0000,\u0000 \u00001\u0000,\u0000 \u0000 \u0000 \u0000 \u0000 \u0000 \u00002\u00005\u00001\u00000\u00009\u0000\n",
      "\u00003\u00009\u00002\u00005\u0000,\u0000 \u00003\u0000,\u0000 \u0000 \u0000 \u0000 \u0000 \u0000 \u00001\u00004\u00001\u00008\u00005\u0000\n",
      "\u00002\u00008\u0000 \u0000O\u0000F\u0000L\u0000 \u0000*\u0000 \u0000 \u00001\u0000\n",
      "\u00004\u00001\u00002\u00000\u0000,\u0000 \u00001\u0000,\u0000 \u0000 \u0000 \u0000 \u0000 \u0000 \u00002\u00005\u00000\u00002\u00008\u0000\n",
      "\u00004\u00002\u00000\u00007\u0000,\u0000 \u00001\u0000,\u0000 \u0000 \u0000 \u0000 \u0000 \u0000 \u00002\u00005\u00002\u00006\u00000\u0000\n",
      "\u00004\u00002\u00003\u00002\u0000,\u0000 \u00001\u0000,\u0000 \u0000 \u0000 \u0000 \u0000 \u0000 \u00002\u00005\u00001\u00003\u00009\u0000\n",
      "\u00004\u00005\u00002\u00008\u0000,\u0000 \u00001\u0000,\u0000 \u0000 \u0000 \u0000 \u0000 \u0000 \u00002\u00005\u00002\u00000\u00004\u0000\n",
      "\u00004\u00007\u00007\u00009\u0000,\u0000 \u00001\u0000,\u0000 \u0000 \u0000 \u0000 \u0000 \u0000 \u00002\u00005\u00005\u00003\u00003\u0000\n",
      "\u00004\u00008\u00001\u00001\u0000,\u0000 \u00001\u0000,\u0000 \u0000 \u0000 \u0000 \u0000 \u0000 \u00002\u00005\u00000\u00009\u00005\u0000\n",
      "\u00005\u00000\u00005\u00009\u0000,\u0000 \u00001\u0000,\u0000 \u0000 \u0000 \u0000 \u0000 \u0000 \u00002\u00004\u00008\u00009\u00004\u0000\n",
      "\u00003\u00006\u0000 \u0000O\u0000F\u0000L\u0000 \u0000*\u0000 \u0000 \u00001\u0000\n",
      "\u00005\u00004\u00004\u00003\u0000,\u0000 \u00001\u0000,\u0000 \u0000 \u0000 \u0000 \u0000 \u0000 \u00002\u00005\u00003\u00000\u00006\u0000\n",
      "\u00005\u00005\u00006\u00007\u0000,\u0000 \u00001\u0000,\u0000 \u0000 \u0000 \u0000 \u0000 \u0000 \u00002\u00004\u00009\u00006\u00004\u0000\n",
      "\u00005\u00007\u00004\u00008\u0000,\u0000 \u00003\u0000,\u0000 \u0000 \u0000 \u0000 \u0000 \u0000 \u00001\u00003\u00009\u00009\u00006\u0000\n",
      "\u00004\u00000\u0000 \u0000O\u0000F\u0000L\u0000 \u0000*\u0000 \u0000 \u00001\u0000\n",
      "\u00006\u00004\u00009\u00008\u0000,\u0000 \u00003\u0000,\u0000 \u0000 \u0000 \u0000 \u0000 \u0000 \u00002\u00000\u00002\u00006\u00001\u0000\n",
      "\u00006\u00005\u00009\u00007\u0000,\u0000 \u00001\u0000,\u0000 \u0000 \u0000 \u0000 \u0000 \u0000 \u00002\u00005\u00003\u00006\u00000\u0000\n",
      "\u00006\u00006\u00000\u00009\u0000,\u0000 \u00001\u0000,\u0000 \u0000 \u0000 \u0000 \u0000 \u0000 \u00002\u00004\u00009\u00001\u00009\u0000\n",
      "\u00006\u00007\u00000\u00007\u0000,\u0000 \u00001\u0000,\u0000 \u0000 \u0000 \u0000 \u0000 \u0000 \u00002\u00005\u00005\u00006\u00007\u0000\n",
      "\u00006\u00008\u00002\u00000\u0000,\u0000 \u00003\u0000,\u0000 \u0000 \u0000 \u0000 \u0000 \u0000 \u00001\u00004\u00000\u00002\u00001\u0000\n",
      "\u00006\u00008\u00005\u00001\u0000,\u0000 \u00001\u0000,\u0000 \u0000 \u0000 \u0000 \u0000 \u0000 \u00002\u00005\u00000\u00003\u00006\u0000\n",
      "\u00004\u00007\u0000 \u0000O\u0000F\u0000L\u0000 \u0000*\u0000 \u0000 \u00001\u0000\n",
      "\u00007\u00002\u00007\u00006\u0000,\u0000 \u00001\u0000,\u0000 \u0000 \u0000 \u0000 \u0000 \u0000 \u00002\u00005\u00001\u00003\u00003\u0000\n",
      "\u00007\u00003\u00009\u00009\u0000,\u0000 \u00001\u0000,\u0000 \u0000 \u0000 \u0000 \u0000 \u0000 \u00002\u00005\u00001\u00005\u00009\u0000\n",
      "\u00007\u00004\u00003\u00002\u0000,\u0000 \u00001\u0000,\u0000 \u0000 \u0000 \u0000 \u0000 \u0000 \u00002\u00005\u00002\u00006\u00005\u0000\n",
      "\u00007\u00004\u00004\u00000\u0000,\u0000 \u00001\u0000,\u0000 \u0000 \u0000 \u0000 \u0000 \u0000 \u00002\u00005\u00002\u00005\u00003\u0000\n",
      "\u00007\u00005\u00005\u00004\u0000,\u0000 \u00001\u0000,\u0000 \u0000 \u0000 \u0000 \u0000 \u0000 \u00002\u00005\u00004\u00002\u00009\u0000\n",
      "\u00007\u00005\u00008\u00001\u0000,\u0000 \u00001\u0000,\u0000 \u0000 \u0000 \u0000 \u0000 \u0000 \u00002\u00005\u00000\u00008\u00004\u0000\n",
      "\u00007\u00006\u00003\u00006\u0000,\u0000 \u00001\u0000,\u0000 \u0000 \u0000 \u0000 \u0000 \u0000 \u00002\u00005\u00001\u00005\u00003\u0000\n",
      "\u00008\u00000\u00007\u00001\u0000,\u0000 \u00001\u0000,\u0000 \u0000 \u0000 \u0000 \u0000 \u0000 \u00002\u00005\u00009\u00007\u00000\u0000\n",
      "\u00008\u00001\u00000\u00007\u0000,\u0000 \u00001\u0000,\u0000 \u0000 \u0000 \u0000 \u0000 \u0000 \u00002\u00005\u00003\u00001\u00007\u0000\n",
      "\u00008\u00001\u00004\u00002\u0000,\u0000 \u00001\u0000,\u0000 \u0000 \u0000 \u0000 \u0000 \u0000 \u00002\u00005\u00003\u00001\u00001\u0000\n",
      "\u00005\u00008\u0000 \u0000O\u0000F\u0000L\u0000 \u0000*\u0000 \u0000 \u00001\u0000\n",
      "\u00008\u00006\u00008\u00000\u0000,\u0000 \u00001\u0000,\u0000 \u0000 \u0000 \u0000 \u0000 \u0000 \u00002\u00005\u00004\u00000\u00001\u0000\n",
      "\u00008\u00009\u00007\u00001\u0000,\u0000 \u00003\u0000,\u0000 \u0000 \u0000 \u0000 \u0000 \u0000 \u00001\u00004\u00005\u00008\u00008\u0000\n",
      "\u00006\u00001\u0000 \u0000O\u0000F\u0000L\u0000 \u0000*\u0000 \u0000 \u00001\u0000\n",
      "\u00009\u00002\u00009\u00003\u0000,\u0000 \u00001\u0000,\u0000 \u0000 \u0000 \u0000 \u0000 \u0000 \u00002\u00005\u00006\u00008\u00002\u0000\n",
      "\u00009\u00005\u00003\u00002\u0000,\u0000 \u00001\u0000,\u0000 \u0000 \u0000 \u0000 \u0000 \u0000 \u00002\u00005\u00007\u00008\u00003\u0000\n",
      "\u00009\u00005\u00004\u00004\u0000,\u0000 \u00001\u0000,\u0000 \u0000 \u0000 \u0000 \u0000 \u0000 \u00002\u00005\u00005\u00000\u00000\u0000\n",
      "\u00009\u00007\u00001\u00000\u0000,\u0000 \u00001\u0000,\u0000 \u0000 \u0000 \u0000 \u0000 \u0000 \u00002\u00005\u00006\u00003\u00008\u0000\n",
      "\u00006\u00006\u0000 \u0000O\u0000F\u0000L\u0000 \u0000*\u0000 \u0000 \u00001\u0000\n",
      "\u00001\u00000\u00003\u00004\u00008\u0000,\u0000 \u00003\u0000,\u0000 \u0000 \u0000 \u0000 \u0000 \u0000 \u00002\u00002\u00001\u00004\u00005\u0000\n",
      "\u00001\u00000\u00005\u00008\u00001\u0000,\u0000 \u00001\u0000,\u0000 \u0000 \u0000 \u0000 \u0000 \u0000 \u00002\u00005\u00006\u00002\u00000\u0000\n",
      "\u00001\u00001\u00001\u00006\u00003\u0000,\u0000 \u00001\u0000,\u0000 \u0000 \u0000 \u0000 \u0000 \u0000 \u00002\u00005\u00006\u00009\u00000\u0000\n",
      "\u00001\u00001\u00001\u00009\u00008\u0000,\u0000 \u00001\u0000,\u0000 \u0000 \u0000 \u0000 \u0000 \u0000 \u00002\u00005\u00008\u00008\u00001\u0000\n",
      "\u00007\u00001\u0000 \u0000O\u0000F\u0000L\u0000 \u0000*\u0000 \u0000 \u00001\u0000\n",
      "\u00001\u00001\u00005\u00001\u00009\u0000,\u0000 \u00001\u0000,\u0000 \u0000 \u0000 \u0000 \u0000 \u0000 \u00002\u00005\u00007\u00001\u00000\u0000\n",
      "\u00001\u00001\u00008\u00000\u00009\u0000,\u0000 \u00003\u0000,\u0000 \u0000 \u0000 \u0000 \u0000 \u0000 \u00001\u00004\u00004\u00008\u00005\u0000\n",
      "\u00001\u00001\u00008\u00003\u00002\u0000,\u0000 \u00003\u0000,\u0000 \u0000 \u0000 \u0000 \u0000 \u0000 \u00001\u00004\u00006\u00005\u00009\u0000\n",
      "\u00001\u00001\u00009\u00007\u00008\u0000,\u0000 \u00001\u0000,\u0000 \u0000 \u0000 \u0000 \u0000 \u0000 \u00002\u00005\u00006\u00002\u00004\u0000\n",
      "\u00001\u00002\u00000\u00009\u00004\u0000,\u0000 \u00001\u0000,\u0000 \u0000 \u0000 \u0000 \u0000 \u0000 \u00002\u00006\u00000\u00002\u00002\u0000\n",
      "\u00001\u00002\u00001\u00002\u00000\u0000,\u0000 \u00001\u0000,\u0000 \u0000 \u0000 \u0000 \u0000 \u0000 \u00002\u00006\u00000\u00004\u00002\u0000\n",
      "\u00007\u00008\u0000 \u0000O\u0000F\u0000L\u0000 \u0000*\u0000 \u0000 \u00001\u0000\n",
      "\u00001\u00002\u00004\u00000\u00003\u0000,\u0000 \u00001\u0000,\u0000 \u0000 \u0000 \u0000 \u0000 \u0000 \u00002\u00006\u00002\u00001\u00007\u0000\n",
      "\u00001\u00002\u00005\u00005\u00006\u0000,\u0000 \u00001\u0000,\u0000 \u0000 \u0000 \u0000 \u0000 \u0000 \u00002\u00005\u00007\u00004\u00000\u0000\n",
      "\u00001\u00002\u00006\u00003\u00005\u0000,\u0000 \u00001\u0000,\u0000 \u0000 \u0000 \u0000 \u0000 \u0000 \u00002\u00005\u00006\u00008\u00003\u0000\n",
      "\u00001\u00002\u00006\u00006\u00008\u0000,\u0000 \u00001\u0000,\u0000 \u0000 \u0000 \u0000 \u0000 \u0000 \u00003\u00002\u00001\u00009\u00005\u0000\n",
      "\u00001\u00002\u00007\u00001\u00009\u0000,\u0000 \u00001\u0000,\u0000 \u0000 \u0000 \u0000 \u0000 \u0000 \u00002\u00005\u00009\u00007\u00009\u0000\n",
      "\u00001\u00003\u00001\u00001\u00002\u0000,\u0000 \u00003\u0000,\u0000 \u0000 \u0000 \u0000 \u0000 \u0000 \u00001\u00004\u00009\u00005\u00000\u0000\n",
      "\u00001\u00003\u00001\u00001\u00009\u0000,\u0000 \u00001\u0000,\u0000 \u0000 \u0000 \u0000 \u0000 \u0000 \u00002\u00005\u00005\u00004\u00009\u0000\n",
      "\u00001\u00003\u00003\u00000\u00004\u0000,\u0000 \u00003\u0000,\u0000 \u0000 \u0000 \u0000 \u0000 \u0000 \u00001\u00004\u00004\u00001\u00001\u0000\n",
      "\u00008\u00007\u0000 \u0000O\u0000F\u0000L\u0000 \u0000*\u0000 \u0000 \u00001\u0000\n",
      "\u00001\u00003\u00003\u00001\u00002\u0000,\u0000 \u00001\u0000,\u0000 \u0000 \u0000 \u0000 \u0000 \u0000 \u00002\u00005\u00006\u00004\u00003\u0000\n",
      "\u00001\u00003\u00004\u00001\u00002\u0000,\u0000 \u00001\u0000,\u0000 \u0000 \u0000 \u0000 \u0000 \u0000 \u00002\u00005\u00007\u00009\u00008\u0000\n",
      "\u00001\u00003\u00005\u00000\u00002\u0000,\u0000 \u00001\u0000,\u0000 \u0000 \u0000 \u0000 \u0000 \u0000 \u00002\u00005\u00006\u00003\u00001\u0000\n",
      "\u00001\u00003\u00005\u00001\u00008\u0000,\u0000 \u00001\u0000,\u0000 \u0000 \u0000 \u0000 \u0000 \u0000 \u00002\u00005\u00007\u00004\u00007\u0000\n",
      "\n"
     ]
    }
   ],
   "metadata": {}
  },
  {
   "cell_type": "code",
   "execution_count": null,
   "source": [],
   "outputs": [],
   "metadata": {}
  },
  {
   "cell_type": "markdown",
   "source": [
    "# processing the two-electron file"
   ],
   "metadata": {}
  },
  {
   "cell_type": "code",
   "execution_count": 63,
   "source": [
    "ptufile = '1el_T3_002.ptu'"
   ],
   "outputs": [],
   "metadata": {}
  },
  {
   "cell_type": "code",
   "execution_count": 61,
   "source": [
    "shift.generate_csv_cache(ptufile, filetype='T3')"
   ],
   "outputs": [
    {
     "output_type": "execute_result",
     "data": {
      "text/plain": [
       "'Writing 14898900 records, this may take a while...\\nHydraHarp V2 T3 data\\n'"
      ]
     },
     "metadata": {},
     "execution_count": 61
    }
   ],
   "metadata": {}
  },
  {
   "cell_type": "code",
   "execution_count": 64,
   "source": [
    "df = pd.read_csv(shift.get_pickle_path(ptufile)[:-3]+'csv',skiprows=108, header=None, encoding=\"utf-16le\")\n",
    "df = df.rename(columns={0:\"revolution\", 1:\"channel\", 2:\"delay\"})\n",
    "df"
   ],
   "outputs": [
    {
     "output_type": "execute_result",
     "data": {
      "text/plain": [
       "          revolution  channel  delay\n",
       "0                269        3  14458\n",
       "1                508        1  25207\n",
       "2                521        3  13949\n",
       "3                616        1  25142\n",
       "4                684        1  25289\n",
       "...              ...      ...    ...\n",
       "12707494  2250925109        1  25668\n",
       "12707495  2250925250        3  14563\n",
       "12707496  2250925610        1  26002\n",
       "12707497  2250925716        1  25922\n",
       "12707498  2250925726        3  14619\n",
       "\n",
       "[12707499 rows x 3 columns]"
      ],
      "text/html": [
       "<div>\n",
       "<style scoped>\n",
       "    .dataframe tbody tr th:only-of-type {\n",
       "        vertical-align: middle;\n",
       "    }\n",
       "\n",
       "    .dataframe tbody tr th {\n",
       "        vertical-align: top;\n",
       "    }\n",
       "\n",
       "    .dataframe thead th {\n",
       "        text-align: right;\n",
       "    }\n",
       "</style>\n",
       "<table border=\"1\" class=\"dataframe\">\n",
       "  <thead>\n",
       "    <tr style=\"text-align: right;\">\n",
       "      <th></th>\n",
       "      <th>revolution</th>\n",
       "      <th>channel</th>\n",
       "      <th>delay</th>\n",
       "    </tr>\n",
       "  </thead>\n",
       "  <tbody>\n",
       "    <tr>\n",
       "      <th>0</th>\n",
       "      <td>269</td>\n",
       "      <td>3</td>\n",
       "      <td>14458</td>\n",
       "    </tr>\n",
       "    <tr>\n",
       "      <th>1</th>\n",
       "      <td>508</td>\n",
       "      <td>1</td>\n",
       "      <td>25207</td>\n",
       "    </tr>\n",
       "    <tr>\n",
       "      <th>2</th>\n",
       "      <td>521</td>\n",
       "      <td>3</td>\n",
       "      <td>13949</td>\n",
       "    </tr>\n",
       "    <tr>\n",
       "      <th>3</th>\n",
       "      <td>616</td>\n",
       "      <td>1</td>\n",
       "      <td>25142</td>\n",
       "    </tr>\n",
       "    <tr>\n",
       "      <th>4</th>\n",
       "      <td>684</td>\n",
       "      <td>1</td>\n",
       "      <td>25289</td>\n",
       "    </tr>\n",
       "    <tr>\n",
       "      <th>...</th>\n",
       "      <td>...</td>\n",
       "      <td>...</td>\n",
       "      <td>...</td>\n",
       "    </tr>\n",
       "    <tr>\n",
       "      <th>12707494</th>\n",
       "      <td>2250925109</td>\n",
       "      <td>1</td>\n",
       "      <td>25668</td>\n",
       "    </tr>\n",
       "    <tr>\n",
       "      <th>12707495</th>\n",
       "      <td>2250925250</td>\n",
       "      <td>3</td>\n",
       "      <td>14563</td>\n",
       "    </tr>\n",
       "    <tr>\n",
       "      <th>12707496</th>\n",
       "      <td>2250925610</td>\n",
       "      <td>1</td>\n",
       "      <td>26002</td>\n",
       "    </tr>\n",
       "    <tr>\n",
       "      <th>12707497</th>\n",
       "      <td>2250925716</td>\n",
       "      <td>1</td>\n",
       "      <td>25922</td>\n",
       "    </tr>\n",
       "    <tr>\n",
       "      <th>12707498</th>\n",
       "      <td>2250925726</td>\n",
       "      <td>3</td>\n",
       "      <td>14619</td>\n",
       "    </tr>\n",
       "  </tbody>\n",
       "</table>\n",
       "<p>12707499 rows × 3 columns</p>\n",
       "</div>"
      ]
     },
     "metadata": {},
     "execution_count": 64
    }
   ],
   "metadata": {}
  },
  {
   "cell_type": "code",
   "execution_count": 65,
   "source": [
    "df.to_pickle(shift.get_pickle_path(ptufile))"
   ],
   "outputs": [],
   "metadata": {}
  },
  {
   "cell_type": "code",
   "execution_count": 66,
   "source": [
    "df['delay'].hist(bins=100)"
   ],
   "outputs": [
    {
     "output_type": "execute_result",
     "data": {
      "text/plain": [
       "<AxesSubplot:>"
      ]
     },
     "metadata": {},
     "execution_count": 66
    },
    {
     "output_type": "display_data",
     "data": {
      "text/plain": [
       "<Figure size 432x288 with 1 Axes>"
      ],
      "image/png": "[encoded data removed]"
     },
     "metadata": {
      "needs_background": "light"
     }
    }
   ],
   "metadata": {}
  },
  {
   "cell_type": "code",
   "execution_count": null,
   "source": [],
   "outputs": [],
   "metadata": {}
  }
 ],
 "metadata": {
  "orig_nbformat": 4,
  "language_info": {
   "name": "python",
   "version": "3.9.6",
   "mimetype": "text/x-python",
   "codemirror_mode": {
    "name": "ipython",
    "version": 3
   },
   "pygments_lexer": "ipython3",
   "nbconvert_exporter": "python",
   "file_extension": ".py"
  },
  "kernelspec": {
   "name": "python3",
   "display_name": "Python 3.9.6 64-bit ('env': conda)"
  },
  "interpreter": {
   "hash": "5ee6119ba63cf2ddb2f1854db05a00833edc10b8505d33a8f0085384a2c2a310"
  }
 },
 "nbformat": 4,
 "nbformat_minor": 2
}