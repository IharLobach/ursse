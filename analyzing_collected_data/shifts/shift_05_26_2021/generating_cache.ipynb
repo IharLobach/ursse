{
 "cells": [
  {
   "cell_type": "code",
   "execution_count": 1,
   "metadata": {},
   "outputs": [],
   "source": [
    "import os\n",
    "import sys\n",
    "import ursse.path_assistant as pa\n",
    "shift = pa.PathAssistant('shift_05_26_2021')\n",
    "from config_ursse import get_from_config"
   ]
  },
  {
   "cell_type": "markdown",
   "metadata": {},
   "source": [
    "# Pickle generation"
   ]
  },
  {
   "cell_type": "code",
   "execution_count": null,
   "metadata": {},
   "outputs": [
    {
     "name": "stdout",
     "output_type": "stream",
     "text": [
      "Working on 1el_000.ptu, 1 out of 13\n",
      "Working on 1el_001.ptu, 2 out of 13\n"
     ]
    }
   ],
   "source": [
    "for i,f in enumerate(shift.get_shift_files()):\n",
    "    print(f'Working on {f}, {i+1} out of {len(shift.get_shift_files())}')\n",
    "    shift.generate_single_channel_cache_pickle(f)"
   ]
  },
  {
   "cell_type": "code",
   "execution_count": null,
   "metadata": {},
   "outputs": [],
   "source": []
  }
 ],
 "metadata": {
  "kernelspec": {
   "display_name": "Python 3",
   "language": "python",
   "name": "python3"
  },
  "language_info": {
   "codemirror_mode": {
    "name": "ipython",
    "version": 3
   },
   "file_extension": ".py",
   "mimetype": "text/x-python",
   "name": "python",
   "nbconvert_exporter": "python",
   "pygments_lexer": "ipython3",
   "version": "3.8.0"
  }
 },
 "nbformat": 4,
 "nbformat_minor": 5
}
