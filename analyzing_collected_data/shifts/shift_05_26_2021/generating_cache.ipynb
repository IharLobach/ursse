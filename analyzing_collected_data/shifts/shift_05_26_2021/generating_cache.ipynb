{
 "cells": [
  {
   "cell_type": "code",
   "execution_count": 1,
   "id": "6938aca8",
   "metadata": {},
   "outputs": [],
   "source": [
    "import os\n",
    "import sys\n",
    "import ursse.path_assistant as pa\n",
    "shift = pa.PathAssistant('shift_05_26_2021')\n",
    "from config_ursse import get_from_config"
   ]
  },
  {
   "cell_type": "code",
   "execution_count": 2,
   "id": "cbbe4ce6",
   "metadata": {},
   "outputs": [
    {
     "data": {
      "text/plain": [
       "'/Users/ilobach/OneDrive - Fermi National Accelerator Laboratory/URSSE/shifts/shift_05_26_2021/time_stamp_files/cache/spad1_dark_counts_LED_off.csv'"
      ]
     },
     "execution_count": 2,
     "metadata": {},
     "output_type": "execute_result"
    }
   ],
   "source": [
    "time_stamp_file_name = 'spad1_dark_counts_LED_off.ptu'\n",
    "prog_path = os.path.join(get_from_config(\"repo_dir\"), \"ursse_cpp\", \"hydra_harp\", \"hydra_harp_reader\")\n",
    "ptu_file_path = shift.get_time_stamp_file_path(time_stamp_file_name)\n",
    "output_file_path = \\\n",
    "os.path.join(shift.time_stamp_files_folder_path, \"cache\", time_stamp_file_name[:-3]+\"csv\")\n",
    "output_file_path"
   ]
  },
  {
   "cell_type": "code",
   "execution_count": 3,
   "id": "aef0151d",
   "metadata": {},
   "outputs": [
    {
     "data": {
      "text/plain": [
       "'\\nPicoQuant Unified TTTR (PTU) Mode File Demo\\n~~~~~~~~~~~~~~~~~~~~~~~~~~~~~~~~~~~~~~~~~~~\\n\\n Loading data from /Users/ilobach/OneDrive - Fermi National Accelerator Laboratory/URSSE/shifts/shift_05_26_2021/time_stamp_files/spad1_dark_counts_LED_off.ptu \\n\\n Writing output to /Users/ilobach/OneDrive - Fermi National Accelerator Laboratory/URSSE/shifts/shift_05_26_2021/time_stamp_files/cache/spad1_dark_counts_LED_off.csv \\n'"
      ]
     },
     "execution_count": 3,
     "metadata": {},
     "output_type": "execute_result"
    }
   ],
   "source": [
    "process = os.popen(f'{prog_path} \"{ptu_file_path}\" \"{output_file_path}\"')\n",
    "preprocessed = process.read()\n",
    "process.close()\n",
    "preprocessed"
   ]
  },
  {
   "cell_type": "code",
   "execution_count": 5,
   "id": "7ca9be64",
   "metadata": {},
   "outputs": [
    {
     "data": {
      "text/plain": [
       "'/Users/ilobach/OneDrive - Fermi National Accelerator Laboratory/URSSE/shifts/shift_05_26_2021/time_stamp_files/cache/spad1_dark_counts_LED_on.csv'"
      ]
     },
     "execution_count": 5,
     "metadata": {},
     "output_type": "execute_result"
    }
   ],
   "source": [
    "time_stamp_file_name = 'spad1_dark_counts_LED_on.ptu'\n",
    "prog_path = os.path.join(get_from_config(\"repo_dir\"), \"ursse_cpp\", \"hydra_harp\", \"hydra_harp_reader\")\n",
    "ptu_file_path = shift.get_time_stamp_file_path(time_stamp_file_name)\n",
    "output_file_path = \\\n",
    "os.path.join(shift.time_stamp_files_folder_path, \"cache\", time_stamp_file_name[:-3]+\"csv\")\n",
    "output_file_path"
   ]
  },
  {
   "cell_type": "code",
   "execution_count": 6,
   "id": "e63ab51b",
   "metadata": {},
   "outputs": [
    {
     "data": {
      "text/plain": [
       "'\\nPicoQuant Unified TTTR (PTU) Mode File Demo\\n~~~~~~~~~~~~~~~~~~~~~~~~~~~~~~~~~~~~~~~~~~~\\n\\n Loading data from /Users/ilobach/OneDrive - Fermi National Accelerator Laboratory/URSSE/shifts/shift_05_26_2021/time_stamp_files/spad1_dark_counts_LED_on.ptu \\n\\n Writing output to /Users/ilobach/OneDrive - Fermi National Accelerator Laboratory/URSSE/shifts/shift_05_26_2021/time_stamp_files/cache/spad1_dark_counts_LED_on.csv \\n'"
      ]
     },
     "execution_count": 6,
     "metadata": {},
     "output_type": "execute_result"
    }
   ],
   "source": [
    "process = os.popen(f'{prog_path} \"{ptu_file_path}\" \"{output_file_path}\"')\n",
    "preprocessed = process.read()\n",
    "process.close()\n",
    "preprocessed"
   ]
  },
  {
   "cell_type": "code",
   "execution_count": 2,
   "id": "8232ddf6",
   "metadata": {},
   "outputs": [
    {
     "data": {
      "text/plain": [
       "'\\nPicoQuant Unified TTTR (PTU) Mode File Demo\\n~~~~~~~~~~~~~~~~~~~~~~~~~~~~~~~~~~~~~~~~~~~\\n\\n Loading data from /Users/ilobach/OneDrive - Fermi National Accelerator Laboratory/URSSE/shifts/shift_05_26_2021/time_stamp_files/1el_000.ptu \\n\\n Writing output to /Users/ilobach/OneDrive - Fermi National Accelerator Laboratory/URSSE/shifts/shift_05_26_2021/time_stamp_files/cache/1el_000.csv \\n'"
      ]
     },
     "execution_count": 2,
     "metadata": {},
     "output_type": "execute_result"
    }
   ],
   "source": [
    "shift.generate_csv_cache('1el_000.ptu')"
   ]
  },
  {
   "cell_type": "code",
   "execution_count": 4,
   "id": "ccfcda8d",
   "metadata": {},
   "outputs": [
    {
     "data": {
      "text/plain": [
       "'/Users/ilobach/OneDrive - Fermi National Accelerator Laboratory/URSSE/shifts/shift_05_26_2021/time_stamp_files/cache/1el_000.csv'"
      ]
     },
     "execution_count": 4,
     "metadata": {},
     "output_type": "execute_result"
    }
   ],
   "source": [
    "os.path.join(shift.get_shift_cache_folder_path(), '1el_000.csv')"
   ]
  },
  {
   "cell_type": "markdown",
   "id": "af3feb1f",
   "metadata": {},
   "source": [
    "# Testing on mac"
   ]
  },
  {
   "cell_type": "code",
   "execution_count": 11,
   "id": "cc618dbc",
   "metadata": {},
   "outputs": [
    {
     "data": {
      "text/plain": [
       "'/Users/ilobach/OneDrive - Fermi National Accelerator Laboratory/URSSE/shifts/shift_02_28_2020/time_stamp_files/cache/test_mac_1el_000.csv'"
      ]
     },
     "execution_count": 11,
     "metadata": {},
     "output_type": "execute_result"
    }
   ],
   "source": [
    "shift = pa.PathAssistant('shift_02_28_2020')\n",
    "time_stamp_file_name = '1el_000.ptu'\n",
    "prog_path = os.path.join(get_from_config(\"repo_dir\"), \"ursse_cpp\", \"hydra_harp\", \"hydra_harp_reader\")\n",
    "ptu_file_path = shift.get_time_stamp_file_path(time_stamp_file_name)\n",
    "output_file_path = \\\n",
    "os.path.join(shift.time_stamp_files_folder_path, \"cache\", 'test_mac_1el_000.csv')\n",
    "output_file_path"
   ]
  },
  {
   "cell_type": "code",
   "execution_count": 12,
   "id": "fb9bf4ed",
   "metadata": {},
   "outputs": [
    {
     "data": {
      "text/plain": [
       "'\\nPicoQuant Unified TTTR (PTU) Mode File Demo\\n~~~~~~~~~~~~~~~~~~~~~~~~~~~~~~~~~~~~~~~~~~~\\n\\n Loading data from /Users/ilobach/OneDrive - Fermi National Accelerator Laboratory/URSSE/shifts/shift_02_28_2020/time_stamp_files/1el_000.ptu \\n\\n Writing output to /Users/ilobach/OneDrive - Fermi National Accelerator Laboratory/URSSE/shifts/shift_02_28_2020/time_stamp_files/cache/test_mac_1el_000.csv \\n'"
      ]
     },
     "execution_count": 12,
     "metadata": {},
     "output_type": "execute_result"
    }
   ],
   "source": [
    "process = os.popen(f'{prog_path} \"{ptu_file_path}\" \"{output_file_path}\"')\n",
    "preprocessed = process.read()\n",
    "process.close()\n",
    "preprocessed"
   ]
  },
  {
   "cell_type": "code",
   "execution_count": 13,
   "id": "2ad07f52",
   "metadata": {},
   "outputs": [],
   "source": [
    "import numpy as np\n",
    "import pandas as pd"
   ]
  },
  {
   "cell_type": "code",
   "execution_count": 14,
   "id": "fa5299ce",
   "metadata": {},
   "outputs": [
    {
     "data": {
      "text/html": [
       "<div>\n",
       "<style scoped>\n",
       "    .dataframe tbody tr th:only-of-type {\n",
       "        vertical-align: middle;\n",
       "    }\n",
       "\n",
       "    .dataframe tbody tr th {\n",
       "        vertical-align: top;\n",
       "    }\n",
       "\n",
       "    .dataframe thead th {\n",
       "        text-align: right;\n",
       "    }\n",
       "</style>\n",
       "<table border=\"1\" class=\"dataframe\">\n",
       "  <thead>\n",
       "    <tr style=\"text-align: right;\">\n",
       "      <th></th>\n",
       "      <th>revolution</th>\n",
       "      <th>channel</th>\n",
       "      <th>delay</th>\n",
       "    </tr>\n",
       "  </thead>\n",
       "  <tbody>\n",
       "    <tr>\n",
       "      <th>0</th>\n",
       "      <td>I64u</td>\n",
       "      <td>14d</td>\n",
       "      <td>I16u</td>\n",
       "    </tr>\n",
       "    <tr>\n",
       "      <th>1</th>\n",
       "      <td>I64u</td>\n",
       "      <td>14d</td>\n",
       "      <td>I16u</td>\n",
       "    </tr>\n",
       "    <tr>\n",
       "      <th>2</th>\n",
       "      <td>I64u</td>\n",
       "      <td>154</td>\n",
       "      <td>I16u</td>\n",
       "    </tr>\n",
       "    <tr>\n",
       "      <th>3</th>\n",
       "      <td>I64u</td>\n",
       "      <td>166</td>\n",
       "      <td>I16u</td>\n",
       "    </tr>\n",
       "    <tr>\n",
       "      <th>4</th>\n",
       "      <td>I64u</td>\n",
       "      <td>20f</td>\n",
       "      <td>I16u</td>\n",
       "    </tr>\n",
       "    <tr>\n",
       "      <th>...</th>\n",
       "      <td>...</td>\n",
       "      <td>...</td>\n",
       "      <td>...</td>\n",
       "    </tr>\n",
       "    <tr>\n",
       "      <th>838790</th>\n",
       "      <td>I64u</td>\n",
       "      <td>8f172cd</td>\n",
       "      <td>I16u</td>\n",
       "    </tr>\n",
       "    <tr>\n",
       "      <th>838791</th>\n",
       "      <td>I64u</td>\n",
       "      <td>8f1734c</td>\n",
       "      <td>I16u</td>\n",
       "    </tr>\n",
       "    <tr>\n",
       "      <th>838792</th>\n",
       "      <td>I64u</td>\n",
       "      <td>8f17357</td>\n",
       "      <td>I16u</td>\n",
       "    </tr>\n",
       "    <tr>\n",
       "      <th>838793</th>\n",
       "      <td>I64u</td>\n",
       "      <td>8f17364</td>\n",
       "      <td>I16u</td>\n",
       "    </tr>\n",
       "    <tr>\n",
       "      <th>838794</th>\n",
       "      <td>I64u</td>\n",
       "      <td>8f173b7</td>\n",
       "      <td>I16u</td>\n",
       "    </tr>\n",
       "  </tbody>\n",
       "</table>\n",
       "<p>838795 rows × 3 columns</p>\n",
       "</div>"
      ],
      "text/plain": [
       "       revolution   channel  delay\n",
       "0            I64u       14d   I16u\n",
       "1            I64u       14d   I16u\n",
       "2            I64u       154   I16u\n",
       "3            I64u       166   I16u\n",
       "4            I64u       20f   I16u\n",
       "...           ...       ...    ...\n",
       "838790       I64u   8f172cd   I16u\n",
       "838791       I64u   8f1734c   I16u\n",
       "838792       I64u   8f17357   I16u\n",
       "838793       I64u   8f17364   I16u\n",
       "838794       I64u   8f173b7   I16u\n",
       "\n",
       "[838795 rows x 3 columns]"
      ]
     },
     "execution_count": 14,
     "metadata": {},
     "output_type": "execute_result"
    }
   ],
   "source": [
    "pd.read_csv(output_file_path)"
   ]
  },
  {
   "cell_type": "code",
   "execution_count": null,
   "id": "62894f78",
   "metadata": {},
   "outputs": [],
   "source": []
  }
 ],
 "metadata": {
  "kernelspec": {
   "display_name": "Python 3",
   "language": "python",
   "name": "python3"
  },
  "language_info": {
   "codemirror_mode": {
    "name": "ipython",
    "version": 3
   },
   "file_extension": ".py",
   "mimetype": "text/x-python",
   "name": "python",
   "nbconvert_exporter": "python",
   "pygments_lexer": "ipython3",
   "version": "3.9.4"
  }
 },
 "nbformat": 4,
 "nbformat_minor": 5
}
