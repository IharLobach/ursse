{
 "cells": [
  {
   "cell_type": "code",
   "execution_count": 2,
   "id": "ae4c81f5",
   "metadata": {},
   "outputs": [],
   "source": [
    "import numpy as np\n",
    "import pandas as pd\n",
    "import matplotlib.pyplot as plt\n",
    "from ursse.path_assistant import PathAssistant as pa\n",
    "import valstore as vt\n",
    "shift = pa(\"shift_05_26_2021\")\n",
    "import os"
   ]
  },
  {
   "cell_type": "code",
   "execution_count": 3,
   "id": "d289a3d7",
   "metadata": {},
   "outputs": [],
   "source": [
    "fp = os.path.join(shift.get_shift_cache_folder_path(), '1el_000.csv')"
   ]
  },
  {
   "cell_type": "code",
   "execution_count": 4,
   "id": "2ce5714e",
   "metadata": {},
   "outputs": [],
   "source": [
    "df = pd.read_csv(fp)"
   ]
  },
  {
   "cell_type": "code",
   "execution_count": 6,
   "id": "bafe80cb",
   "metadata": {},
   "outputs": [
    {
     "data": {
      "text/html": [
       "<div>\n",
       "<style scoped>\n",
       "    .dataframe tbody tr th:only-of-type {\n",
       "        vertical-align: middle;\n",
       "    }\n",
       "\n",
       "    .dataframe tbody tr th {\n",
       "        vertical-align: top;\n",
       "    }\n",
       "\n",
       "    .dataframe thead th {\n",
       "        text-align: right;\n",
       "    }\n",
       "</style>\n",
       "<table border=\"1\" class=\"dataframe\">\n",
       "  <thead>\n",
       "    <tr style=\"text-align: right;\">\n",
       "      <th></th>\n",
       "      <th>revolution</th>\n",
       "      <th>channel</th>\n",
       "      <th>delay</th>\n",
       "    </tr>\n",
       "  </thead>\n",
       "  <tbody>\n",
       "    <tr>\n",
       "      <th>0</th>\n",
       "      <td>I64u</td>\n",
       "      <td>11c</td>\n",
       "      <td>I16u</td>\n",
       "    </tr>\n",
       "    <tr>\n",
       "      <th>1</th>\n",
       "      <td>I64u</td>\n",
       "      <td>192</td>\n",
       "      <td>I16u</td>\n",
       "    </tr>\n",
       "    <tr>\n",
       "      <th>2</th>\n",
       "      <td>I64u</td>\n",
       "      <td>3a0</td>\n",
       "      <td>I16u</td>\n",
       "    </tr>\n",
       "    <tr>\n",
       "      <th>3</th>\n",
       "      <td>I64u</td>\n",
       "      <td>3f7</td>\n",
       "      <td>I16u</td>\n",
       "    </tr>\n",
       "    <tr>\n",
       "      <th>4</th>\n",
       "      <td>I64u</td>\n",
       "      <td>40b</td>\n",
       "      <td>I16u</td>\n",
       "    </tr>\n",
       "    <tr>\n",
       "      <th>...</th>\n",
       "      <td>...</td>\n",
       "      <td>...</td>\n",
       "      <td>...</td>\n",
       "    </tr>\n",
       "    <tr>\n",
       "      <th>13118390</th>\n",
       "      <td>I64u</td>\n",
       "      <td>8623e316</td>\n",
       "      <td>I16u</td>\n",
       "    </tr>\n",
       "    <tr>\n",
       "      <th>13118391</th>\n",
       "      <td>I64u</td>\n",
       "      <td>8623e33b</td>\n",
       "      <td>I16u</td>\n",
       "    </tr>\n",
       "    <tr>\n",
       "      <th>13118392</th>\n",
       "      <td>I64u</td>\n",
       "      <td>8623e3a1</td>\n",
       "      <td>I16u</td>\n",
       "    </tr>\n",
       "    <tr>\n",
       "      <th>13118393</th>\n",
       "      <td>I64u</td>\n",
       "      <td>8623e3ef</td>\n",
       "      <td>I16u</td>\n",
       "    </tr>\n",
       "    <tr>\n",
       "      <th>13118394</th>\n",
       "      <td>I64u</td>\n",
       "      <td>8623e46d</td>\n",
       "      <td>I16u</td>\n",
       "    </tr>\n",
       "  </tbody>\n",
       "</table>\n",
       "<p>13118395 rows × 3 columns</p>\n",
       "</div>"
      ],
      "text/plain": [
       "         revolution    channel  delay\n",
       "0              I64u        11c   I16u\n",
       "1              I64u        192   I16u\n",
       "2              I64u        3a0   I16u\n",
       "3              I64u        3f7   I16u\n",
       "4              I64u        40b   I16u\n",
       "...             ...        ...    ...\n",
       "13118390       I64u   8623e316   I16u\n",
       "13118391       I64u   8623e33b   I16u\n",
       "13118392       I64u   8623e3a1   I16u\n",
       "13118393       I64u   8623e3ef   I16u\n",
       "13118394       I64u   8623e46d   I16u\n",
       "\n",
       "[13118395 rows x 3 columns]"
      ]
     },
     "execution_count": 6,
     "metadata": {},
     "output_type": "execute_result"
    }
   ],
   "source": [
    "df"
   ]
  },
  {
   "cell_type": "code",
   "execution_count": null,
   "id": "1850f3fe",
   "metadata": {},
   "outputs": [],
   "source": []
  }
 ],
 "metadata": {
  "kernelspec": {
   "display_name": "Python 3",
   "language": "python",
   "name": "python3"
  },
  "language_info": {
   "codemirror_mode": {
    "name": "ipython",
    "version": 3
   },
   "file_extension": ".py",
   "mimetype": "text/x-python",
   "name": "python",
   "nbconvert_exporter": "python",
   "pygments_lexer": "ipython3",
   "version": "3.9.4"
  }
 },
 "nbformat": 4,
 "nbformat_minor": 5
}
