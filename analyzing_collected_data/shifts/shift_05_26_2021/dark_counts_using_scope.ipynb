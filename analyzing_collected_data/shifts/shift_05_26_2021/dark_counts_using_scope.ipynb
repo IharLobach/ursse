{
 "cells": [
  {
   "cell_type": "code",
   "execution_count": 5,
   "id": "748c81b3",
   "metadata": {},
   "outputs": [],
   "source": [
    "from ursse.path_assistant import PathAssistant as pa\n",
    "import os"
   ]
  },
  {
   "cell_type": "code",
   "execution_count": 3,
   "id": "a1516497",
   "metadata": {},
   "outputs": [],
   "source": [
    "shift = pa(\"shift_05_26_2021\")"
   ]
  },
  {
   "cell_type": "code",
   "execution_count": 62,
   "id": "fb23eab3",
   "metadata": {},
   "outputs": [
    {
     "name": "stdout",
     "output_type": "stream",
     "text": [
      "['RefCurve_2021-05-26_0_134305.Wfm.bin', 'RefCurve_2021-05-26_1_134406.Wfm.bin', 'RefCurve_2021-05-26_2_134410.Wfm.bin', 'RefCurve_2021-05-26_3_134413.Wfm.bin', 'RefCurve_2021-05-26_4_134429.Wfm.bin']\n",
      "['RefCurve_2021-05-26_6_134533.Wfm.bin', 'RefCurve_2021-05-26_7_134605.Wfm.bin', 'RefCurve_2021-05-26_8_134636.Wfm.bin', 'RefCurve_2021-05-26_9_134706.Wfm.bin']\n"
     ]
    }
   ],
   "source": [
    "file_names = os.listdir(shift.shift_dir)\n",
    "file_names = sorted([f for f in file_names if '.Wfm.' in f])\n",
    "off_paths = file_names[:5]\n",
    "on_paths = file_names[6:]\n",
    "print(off_paths)\n",
    "print(on_paths)"
   ]
  },
  {
   "cell_type": "code",
   "execution_count": 21,
   "id": "07c96873",
   "metadata": {},
   "outputs": [],
   "source": [
    "LED_off_path = os.path.join(shift.shift_dir, 'RefCurve_2021-05-26_0_134305.Wfm.bin')"
   ]
  },
  {
   "cell_type": "code",
   "execution_count": 22,
   "id": "f87fedfc",
   "metadata": {},
   "outputs": [],
   "source": [
    "LED_on_path = os.path.join(shift.shift_dir, 'RefCurve_2021-05-26_5_134502.Wfm.bin')"
   ]
  },
  {
   "cell_type": "code",
   "execution_count": 23,
   "id": "9fce48cf",
   "metadata": {},
   "outputs": [],
   "source": [
    "import numpy as np\n",
    "import pandas as pd\n",
    "import matplotlib.pyplot as plt"
   ]
  },
  {
   "cell_type": "code",
   "execution_count": 24,
   "id": "64591edf",
   "metadata": {},
   "outputs": [],
   "source": [
    "LED_off = np.fromfile(LED_off_path, np.float32)"
   ]
  },
  {
   "cell_type": "code",
   "execution_count": 53,
   "id": "bc7d5ca0",
   "metadata": {},
   "outputs": [
    {
     "data": {
      "text/plain": [
       "[<matplotlib.lines.Line2D at 0x17a5910a0>]"
      ]
     },
     "execution_count": 53,
     "metadata": {},
     "output_type": "execute_result"
    },
    {
     "data": {
      "image/png": "[encoded data removed]",
      "text/plain": [
       "<Figure size 432x288 with 1 Axes>"
      ]
     },
     "metadata": {
      "needs_background": "light"
     },
     "output_type": "display_data"
    }
   ],
   "source": [
    "x1, x2 = int(3e7), int(4e7)\n",
    "plt.plot(LED_off[x1:x2])\n",
    "d1 = (LED_off < threshold).astype(np.int8)\n",
    "d2 = np.abs(np.diff(d1))\n",
    "plt.plot(d2[x1:x2])"
   ]
  },
  {
   "cell_type": "code",
   "execution_count": 54,
   "id": "f938bf9c",
   "metadata": {},
   "outputs": [
    {
     "data": {
      "text/plain": [
       "65.0"
      ]
     },
     "execution_count": 54,
     "metadata": {},
     "output_type": "execute_result"
    }
   ],
   "source": [
    "13/0.2"
   ]
  },
  {
   "cell_type": "code",
   "execution_count": 55,
   "id": "d88e4339",
   "metadata": {},
   "outputs": [
    {
     "data": {
      "text/plain": [
       "14.0"
      ]
     },
     "execution_count": 55,
     "metadata": {},
     "output_type": "execute_result"
    }
   ],
   "source": [
    "threshold = -0.2\n",
    "def count_pulses(data):\n",
    "    d1 = (data < threshold).astype(np.int8)\n",
    "    d2 = np.abs(np.diff(d1))\n",
    "    return np.sum(d2)/2\n",
    "count_pulses(LED_off)"
   ]
  },
  {
   "cell_type": "code",
   "execution_count": 56,
   "id": "4b31b8c5",
   "metadata": {},
   "outputs": [],
   "source": [
    "LED_on = np.fromfile(LED_on_path, np.float32)"
   ]
  },
  {
   "cell_type": "code",
   "execution_count": 57,
   "id": "15a026d1",
   "metadata": {},
   "outputs": [
    {
     "data": {
      "text/plain": [
       "[<matplotlib.lines.Line2D at 0x17fbc8b80>]"
      ]
     },
     "execution_count": 57,
     "metadata": {},
     "output_type": "execute_result"
    },
    {
     "data": {
      "image/png": "[encoded data removed]",
      "text/plain": [
       "<Figure size 432x288 with 1 Axes>"
      ]
     },
     "metadata": {
      "needs_background": "light"
     },
     "output_type": "display_data"
    }
   ],
   "source": [
    "plt.plot(LED_on[58700:59000], '.')"
   ]
  },
  {
   "cell_type": "code",
   "execution_count": 58,
   "id": "b8b56ef1",
   "metadata": {},
   "outputs": [
    {
     "data": {
      "text/plain": [
       "81.0"
      ]
     },
     "execution_count": 58,
     "metadata": {},
     "output_type": "execute_result"
    }
   ],
   "source": [
    "n_LED_on = count_pulses(LED_on)\n",
    "n_LED_on"
   ]
  },
  {
   "cell_type": "code",
   "execution_count": 59,
   "id": "6cdf1690",
   "metadata": {},
   "outputs": [
    {
     "data": {
      "text/plain": [
       "405.0"
      ]
     },
     "execution_count": 59,
     "metadata": {},
     "output_type": "execute_result"
    }
   ],
   "source": [
    "n_LED_on/0.2"
   ]
  },
  {
   "cell_type": "markdown",
   "id": "fc05aea5",
   "metadata": {},
   "source": [
    "# using all files"
   ]
  },
  {
   "cell_type": "code",
   "execution_count": 67,
   "id": "457ed235",
   "metadata": {},
   "outputs": [
    {
     "data": {
      "text/plain": [
       "[14.0, 12.0, 14.0, 14.0, 12.0]"
      ]
     },
     "execution_count": 67,
     "metadata": {},
     "output_type": "execute_result"
    }
   ],
   "source": [
    "off_counts = []\n",
    "for p in off_paths:\n",
    "    data = np.fromfile(os.path.join(shift.shift_dir, p), np.float32)\n",
    "    off_counts.append(count_pulses(data))\n",
    "off_counts"
   ]
  },
  {
   "cell_type": "code",
   "execution_count": 69,
   "id": "45bb2891",
   "metadata": {},
   "outputs": [
    {
     "data": {
      "text/plain": [
       "65.99999999999999"
      ]
     },
     "execution_count": 69,
     "metadata": {},
     "output_type": "execute_result"
    }
   ],
   "source": [
    "np.mean(off_counts)/0.2"
   ]
  },
  {
   "cell_type": "code",
   "execution_count": 68,
   "id": "a1a1e2c7",
   "metadata": {},
   "outputs": [
    {
     "data": {
      "text/plain": [
       "[62.0, 49.0, 40.0, 24.0]"
      ]
     },
     "execution_count": 68,
     "metadata": {},
     "output_type": "execute_result"
    }
   ],
   "source": [
    "on_counts = []\n",
    "for p in on_paths:\n",
    "    data = np.fromfile(os.path.join(shift.shift_dir, p), np.float32)\n",
    "    on_counts.append(count_pulses(data))\n",
    "on_counts"
   ]
  },
  {
   "cell_type": "code",
   "execution_count": 70,
   "id": "a7c95d68",
   "metadata": {},
   "outputs": [
    {
     "data": {
      "text/plain": [
       "218.75"
      ]
     },
     "execution_count": 70,
     "metadata": {},
     "output_type": "execute_result"
    }
   ],
   "source": [
    "np.mean(on_counts)/0.2"
   ]
  },
  {
   "cell_type": "code",
   "execution_count": null,
   "id": "06289788",
   "metadata": {},
   "outputs": [],
   "source": []
  }
 ],
 "metadata": {
  "kernelspec": {
   "display_name": "Python 3",
   "language": "python",
   "name": "python3"
  },
  "language_info": {
   "codemirror_mode": {
    "name": "ipython",
    "version": 3
   },
   "file_extension": ".py",
   "mimetype": "text/x-python",
   "name": "python",
   "nbconvert_exporter": "python",
   "pygments_lexer": "ipython3",
   "version": "3.9.4"
  }
 },
 "nbformat": 4,
 "nbformat_minor": 5
}
