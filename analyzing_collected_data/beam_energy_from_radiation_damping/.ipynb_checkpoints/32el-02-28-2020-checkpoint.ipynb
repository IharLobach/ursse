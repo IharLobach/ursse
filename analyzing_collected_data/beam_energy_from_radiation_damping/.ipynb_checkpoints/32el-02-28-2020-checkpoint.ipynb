{
 "cells": [
  {
   "cell_type": "code",
   "execution_count": 1,
   "metadata": {},
   "outputs": [
    {
     "ename": "ModuleNotFoundError",
     "evalue": "No module named 'ursse.hydra_harp_file_reader'",
     "output_type": "error",
     "traceback": [
      "\u001b[0;31m---------------------------------------------------------------------------\u001b[0m",
      "\u001b[0;31mModuleNotFoundError\u001b[0m                       Traceback (most recent call last)",
      "\u001b[0;32m<ipython-input-1-6269467dbe61>\u001b[0m in \u001b[0;36m<module>\u001b[0;34m\u001b[0m\n\u001b[1;32m      2\u001b[0m \u001b[0;32mimport\u001b[0m \u001b[0msys\u001b[0m\u001b[0;34m\u001b[0m\u001b[0;34m\u001b[0m\u001b[0m\n\u001b[1;32m      3\u001b[0m \u001b[0msys\u001b[0m\u001b[0;34m.\u001b[0m\u001b[0mpath\u001b[0m\u001b[0;34m.\u001b[0m\u001b[0mappend\u001b[0m\u001b[0;34m(\u001b[0m\u001b[0mos\u001b[0m\u001b[0;34m.\u001b[0m\u001b[0mpath\u001b[0m\u001b[0;34m.\u001b[0m\u001b[0mjoin\u001b[0m\u001b[0;34m(\u001b[0m\u001b[0mos\u001b[0m\u001b[0;34m.\u001b[0m\u001b[0mgetcwd\u001b[0m\u001b[0;34m(\u001b[0m\u001b[0;34m)\u001b[0m\u001b[0;34m,\u001b[0m\u001b[0;34m'..'\u001b[0m\u001b[0;34m,\u001b[0m\u001b[0;34m'..'\u001b[0m\u001b[0;34m,\u001b[0m\u001b[0;34m'..'\u001b[0m\u001b[0;34m)\u001b[0m\u001b[0;34m)\u001b[0m\u001b[0;34m\u001b[0m\u001b[0;34m\u001b[0m\u001b[0m\n\u001b[0;32m----> 4\u001b[0;31m \u001b[0;32mfrom\u001b[0m \u001b[0mursse\u001b[0m\u001b[0;34m.\u001b[0m\u001b[0mhydra_harp_file_reader\u001b[0m \u001b[0;32mimport\u001b[0m \u001b[0mHydraHarpFile\u001b[0m\u001b[0;34m\u001b[0m\u001b[0;34m\u001b[0m\u001b[0m\n\u001b[0m\u001b[1;32m      5\u001b[0m \u001b[0;32mfrom\u001b[0m \u001b[0mursse\u001b[0m\u001b[0;34m.\u001b[0m\u001b[0mLED_tests\u001b[0m\u001b[0;34m.\u001b[0m\u001b[0mdata_analyzis\u001b[0m \u001b[0;32mimport\u001b[0m \u001b[0mcalc_Fano\u001b[0m\u001b[0;34m,\u001b[0m \u001b[0mget_time_window_hist\u001b[0m\u001b[0;34m,\u001b[0m \u001b[0mcalc_Fano_from_counts_per_time_window\u001b[0m\u001b[0;34m\u001b[0m\u001b[0;34m\u001b[0m\u001b[0m\n\u001b[1;32m      6\u001b[0m \u001b[0;32mimport\u001b[0m \u001b[0mnumpy\u001b[0m \u001b[0;32mas\u001b[0m \u001b[0mnp\u001b[0m\u001b[0;34m\u001b[0m\u001b[0;34m\u001b[0m\u001b[0m\n",
      "\u001b[0;31mModuleNotFoundError\u001b[0m: No module named 'ursse.hydra_harp_file_reader'"
     ]
    }
   ],
   "source": [
    "import os\n",
    "import sys\n",
    "sys.path.append(os.path.join(os.getcwd(),'..','..','..'))\n",
    "from ursse.hydra_harp_file_reader import HydraHarpFile\n",
    "from ursse.LED_tests.data_analyzis import calc_Fano, get_time_window_hist, calc_Fano_from_counts_per_time_window\n",
    "import numpy as np\n",
    "import pandas as pd\n",
    "import seaborn as sns\n",
    "from ursse.data_processing import \\\n",
    "    get_event_delays, plot_arrival_time_hist, get_events_array, get_fanos, \\\n",
    "    plot_fanos_hist, process_file, read_event_delays, save_event_delays\n",
    "import matplotlib.pyplot as plt\n",
    "import seaborn as sns\n",
    "plt.rcParams['figure.figsize'] = [15, 7.5]\n",
    "plt.rcParams.update({'font.size': 16,'legend.fontsize':16})\n",
    "import ursse.path_assistant as pa\n",
    "shift = pa.PathAssistant('shift_02_28_2020')"
   ]
  },
  {
   "cell_type": "code",
   "execution_count": 2,
   "metadata": {},
   "outputs": [
    {
     "ename": "NameError",
     "evalue": "name 'read_event_delays' is not defined",
     "output_type": "error",
     "traceback": [
      "\u001b[0;31m---------------------------------------------------------------------------\u001b[0m",
      "\u001b[0;31mNameError\u001b[0m                                 Traceback (most recent call last)",
      "\u001b[0;32m<ipython-input-2-65fcabd8ff31>\u001b[0m in \u001b[0;36m<module>\u001b[0;34m\u001b[0m\n\u001b[0;32m----> 1\u001b[0;31m \u001b[0mdf\u001b[0m\u001b[0;34m,\u001b[0m \u001b[0mn_revolutions\u001b[0m \u001b[0;34m=\u001b[0m \u001b[0mread_event_delays\u001b[0m\u001b[0;34m(\u001b[0m\u001b[0mshift\u001b[0m\u001b[0;34m.\u001b[0m\u001b[0mget_time_stamp_file_path\u001b[0m\u001b[0;34m(\u001b[0m\u001b[0;34m'32el_000.ptu'\u001b[0m\u001b[0;34m)\u001b[0m\u001b[0;34m)\u001b[0m\u001b[0;34m\u001b[0m\u001b[0;34m\u001b[0m\u001b[0m\n\u001b[0m\u001b[1;32m      2\u001b[0m \u001b[0mt_delays\u001b[0m \u001b[0;34m=\u001b[0m \u001b[0mdf\u001b[0m\u001b[0;34m.\u001b[0m\u001b[0mdelay\u001b[0m\u001b[0;34m\u001b[0m\u001b[0;34m\u001b[0m\u001b[0m\n",
      "\u001b[0;31mNameError\u001b[0m: name 'read_event_delays' is not defined"
     ]
    }
   ],
   "source": [
    "df, n_revolutions = read_event_delays(shift.get_time_stamp_file_path('32el_000.ptu'))\n",
    "t_delays = df.delay"
   ]
  },
  {
   "cell_type": "code",
   "execution_count": 44,
   "metadata": {},
   "outputs": [
    {
     "data": {
      "text/html": [
       "<div>\n",
       "<style scoped>\n",
       "    .dataframe tbody tr th:only-of-type {\n",
       "        vertical-align: middle;\n",
       "    }\n",
       "\n",
       "    .dataframe tbody tr th {\n",
       "        vertical-align: top;\n",
       "    }\n",
       "\n",
       "    .dataframe thead th {\n",
       "        text-align: right;\n",
       "    }\n",
       "</style>\n",
       "<table border=\"1\" class=\"dataframe\">\n",
       "  <thead>\n",
       "    <tr style=\"text-align: right;\">\n",
       "      <th></th>\n",
       "      <th>revolution</th>\n",
       "      <th>delay</th>\n",
       "    </tr>\n",
       "  </thead>\n",
       "  <tbody>\n",
       "    <tr>\n",
       "      <th>51</th>\n",
       "      <td>51</td>\n",
       "      <td>62977.0</td>\n",
       "    </tr>\n",
       "    <tr>\n",
       "      <th>172</th>\n",
       "      <td>171</td>\n",
       "      <td>64337.0</td>\n",
       "    </tr>\n",
       "    <tr>\n",
       "      <th>241</th>\n",
       "      <td>239</td>\n",
       "      <td>62389.0</td>\n",
       "    </tr>\n",
       "    <tr>\n",
       "      <th>601</th>\n",
       "      <td>598</td>\n",
       "      <td>63454.0</td>\n",
       "    </tr>\n",
       "    <tr>\n",
       "      <th>1004</th>\n",
       "      <td>999</td>\n",
       "      <td>64303.0</td>\n",
       "    </tr>\n",
       "    <tr>\n",
       "      <th>...</th>\n",
       "      <td>...</td>\n",
       "      <td>...</td>\n",
       "    </tr>\n",
       "    <tr>\n",
       "      <th>452639788</th>\n",
       "      <td>450123392</td>\n",
       "      <td>63592.0</td>\n",
       "    </tr>\n",
       "    <tr>\n",
       "      <th>452640074</th>\n",
       "      <td>450123677</td>\n",
       "      <td>62846.0</td>\n",
       "    </tr>\n",
       "    <tr>\n",
       "      <th>452640278</th>\n",
       "      <td>450123880</td>\n",
       "      <td>62373.0</td>\n",
       "    </tr>\n",
       "    <tr>\n",
       "      <th>452640330</th>\n",
       "      <td>450123931</td>\n",
       "      <td>62842.0</td>\n",
       "    </tr>\n",
       "    <tr>\n",
       "      <th>452640764</th>\n",
       "      <td>450124364</td>\n",
       "      <td>62746.0</td>\n",
       "    </tr>\n",
       "  </tbody>\n",
       "</table>\n",
       "<p>1490076 rows × 2 columns</p>\n",
       "</div>"
      ],
      "text/plain": [
       "           revolution    delay\n",
       "51                 51  62977.0\n",
       "172               171  64337.0\n",
       "241               239  62389.0\n",
       "601               598  63454.0\n",
       "1004              999  64303.0\n",
       "...               ...      ...\n",
       "452639788   450123392  63592.0\n",
       "452640074   450123677  62846.0\n",
       "452640278   450123880  62373.0\n",
       "452640330   450123931  62842.0\n",
       "452640764   450124364  62746.0\n",
       "\n",
       "[1490076 rows x 2 columns]"
      ]
     },
     "execution_count": 44,
     "metadata": {},
     "output_type": "execute_result"
    }
   ],
   "source": [
    "df"
   ]
  },
  {
   "cell_type": "code",
   "execution_count": 45,
   "metadata": {},
   "outputs": [],
   "source": [
    "gate = (61000, 67000)"
   ]
  },
  {
   "cell_type": "code",
   "execution_count": 46,
   "metadata": {},
   "outputs": [],
   "source": [
    "n = 500\n",
    "i = 200"
   ]
  },
  {
   "cell_type": "code",
   "execution_count": 47,
   "metadata": {},
   "outputs": [
    {
     "data": {
      "image/png": "[encoded data removed]",
      "text/plain": [
       "<Figure size 1080x540 with 1 Axes>"
      ]
     },
     "metadata": {
      "needs_background": "light"
     },
     "output_type": "display_data"
    }
   ],
   "source": [
    "plot_arrival_time_hist(t_delays[i*n:(i+1)*n], gate=gate, bins=1000, yscale='linear')"
   ]
  },
  {
   "cell_type": "code",
   "execution_count": 48,
   "metadata": {},
   "outputs": [
    {
     "data": {
      "text/plain": [
       "59.866547461"
      ]
     },
     "execution_count": 48,
     "metadata": {},
     "output_type": "execute_result"
    }
   ],
   "source": [
    "n_revolutions*133e-9"
   ]
  },
  {
   "cell_type": "code",
   "execution_count": 49,
   "metadata": {},
   "outputs": [],
   "source": [
    "from config_ursse import get_from_config\n",
    "iota_period_sec = get_from_config(\"IOTA_revolution_period\")\n",
    "dt_sec = get_from_config(\"dt\")\n",
    "iota_period_au = iota_period_sec/dt_sec"
   ]
  },
  {
   "cell_type": "code",
   "execution_count": 50,
   "metadata": {},
   "outputs": [],
   "source": [
    "from ursse.time_structure import get_bucket_gates, get_rate_in_gate_Hz,\\\n",
    "    reduce_df_to_one_gate, divide_df_into_time_bins, get_properties_in_time_bins"
   ]
  },
  {
   "cell_type": "code",
   "execution_count": 51,
   "metadata": {},
   "outputs": [
    {
     "data": {
      "text/plain": [
       "[(61000.0, 67000.0),\n",
       " (94250.0, 100250.0),\n",
       " (127500.00000000001, 499.9999999999709),\n",
       " (27750.0, 33750.0)]"
      ]
     },
     "execution_count": 51,
     "metadata": {},
     "output_type": "execute_result"
    }
   ],
   "source": [
    "four_gates = get_bucket_gates(gate)\n",
    "four_gates"
   ]
  },
  {
   "cell_type": "code",
   "execution_count": 52,
   "metadata": {},
   "outputs": [
    {
     "data": {
      "text/plain": [
       "24779.932414950392"
      ]
     },
     "execution_count": 52,
     "metadata": {},
     "output_type": "execute_result"
    }
   ],
   "source": [
    "get_rate_in_gate_Hz(df, n_revolutions, gate)"
   ]
  },
  {
   "cell_type": "code",
   "execution_count": 53,
   "metadata": {},
   "outputs": [
    {
     "name": "stderr",
     "output_type": "stream",
     "text": [
      "/home/ilobach/ursse/analyzing_collected_data/shifts/shift_03_05_2020/../../../ursse/time_structure.py:36: SettingWithCopyWarning:\n",
      "\n",
      "\n",
      "A value is trying to be set on a copy of a slice from a DataFrame.\n",
      "Try using .loc[row_indexer,col_indexer] = value instead\n",
      "\n",
      "See the caveats in the documentation: https://pandas.pydata.org/pandas-docs/stable/user_guide/indexing.html#returning-a-view-versus-a-copy\n",
      "\n",
      "/home/ilobach/ursse/analyzing_collected_data/shifts/shift_03_05_2020/../../../ursse/time_structure.py:37: SettingWithCopyWarning:\n",
      "\n",
      "\n",
      "A value is trying to be set on a copy of a slice from a DataFrame.\n",
      "Try using .loc[row_indexer,col_indexer] = value instead\n",
      "\n",
      "See the caveats in the documentation: https://pandas.pydata.org/pandas-docs/stable/user_guide/indexing.html#returning-a-view-versus-a-copy\n",
      "\n",
      "/home/ilobach/ursse/analyzing_collected_data/shifts/shift_03_05_2020/../../../ursse/time_structure.py:38: SettingWithCopyWarning:\n",
      "\n",
      "\n",
      "A value is trying to be set on a copy of a slice from a DataFrame.\n",
      "Try using .loc[row_indexer,col_indexer] = value instead\n",
      "\n",
      "See the caveats in the documentation: https://pandas.pydata.org/pandas-docs/stable/user_guide/indexing.html#returning-a-view-versus-a-copy\n",
      "\n"
     ]
    },
    {
     "data": {
      "text/html": [
       "<div>\n",
       "<style scoped>\n",
       "    .dataframe tbody tr th:only-of-type {\n",
       "        vertical-align: middle;\n",
       "    }\n",
       "\n",
       "    .dataframe tbody tr th {\n",
       "        vertical-align: top;\n",
       "    }\n",
       "\n",
       "    .dataframe thead th {\n",
       "        text-align: right;\n",
       "    }\n",
       "</style>\n",
       "<table border=\"1\" class=\"dataframe\">\n",
       "  <thead>\n",
       "    <tr style=\"text-align: right;\">\n",
       "      <th></th>\n",
       "      <th>revolution</th>\n",
       "      <th>delay</th>\n",
       "      <th>index_of_dt_bin</th>\n",
       "      <th>bin_time</th>\n",
       "      <th>time_sec</th>\n",
       "    </tr>\n",
       "  </thead>\n",
       "  <tbody>\n",
       "    <tr>\n",
       "      <th>51</th>\n",
       "      <td>51</td>\n",
       "      <td>62977.0</td>\n",
       "      <td>0</td>\n",
       "      <td>0.0</td>\n",
       "      <td>0.000007</td>\n",
       "    </tr>\n",
       "    <tr>\n",
       "      <th>172</th>\n",
       "      <td>171</td>\n",
       "      <td>64337.0</td>\n",
       "      <td>0</td>\n",
       "      <td>0.0</td>\n",
       "      <td>0.000023</td>\n",
       "    </tr>\n",
       "    <tr>\n",
       "      <th>241</th>\n",
       "      <td>239</td>\n",
       "      <td>62389.0</td>\n",
       "      <td>0</td>\n",
       "      <td>0.0</td>\n",
       "      <td>0.000032</td>\n",
       "    </tr>\n",
       "    <tr>\n",
       "      <th>601</th>\n",
       "      <td>598</td>\n",
       "      <td>63454.0</td>\n",
       "      <td>0</td>\n",
       "      <td>0.0</td>\n",
       "      <td>0.000080</td>\n",
       "    </tr>\n",
       "    <tr>\n",
       "      <th>1004</th>\n",
       "      <td>999</td>\n",
       "      <td>64303.0</td>\n",
       "      <td>0</td>\n",
       "      <td>0.0</td>\n",
       "      <td>0.000133</td>\n",
       "    </tr>\n",
       "    <tr>\n",
       "      <th>...</th>\n",
       "      <td>...</td>\n",
       "      <td>...</td>\n",
       "      <td>...</td>\n",
       "      <td>...</td>\n",
       "      <td>...</td>\n",
       "    </tr>\n",
       "    <tr>\n",
       "      <th>452134724</th>\n",
       "      <td>449621001</td>\n",
       "      <td>64611.0</td>\n",
       "      <td>298</td>\n",
       "      <td>59.6</td>\n",
       "      <td>59.799593</td>\n",
       "    </tr>\n",
       "    <tr>\n",
       "      <th>452135183</th>\n",
       "      <td>449621457</td>\n",
       "      <td>63559.0</td>\n",
       "      <td>298</td>\n",
       "      <td>59.6</td>\n",
       "      <td>59.799654</td>\n",
       "    </tr>\n",
       "    <tr>\n",
       "      <th>452135438</th>\n",
       "      <td>449621711</td>\n",
       "      <td>62527.0</td>\n",
       "      <td>298</td>\n",
       "      <td>59.6</td>\n",
       "      <td>59.799688</td>\n",
       "    </tr>\n",
       "    <tr>\n",
       "      <th>452135955</th>\n",
       "      <td>449622227</td>\n",
       "      <td>62597.0</td>\n",
       "      <td>298</td>\n",
       "      <td>59.6</td>\n",
       "      <td>59.799756</td>\n",
       "    </tr>\n",
       "    <tr>\n",
       "      <th>452136847</th>\n",
       "      <td>449623118</td>\n",
       "      <td>64434.0</td>\n",
       "      <td>298</td>\n",
       "      <td>59.6</td>\n",
       "      <td>59.799875</td>\n",
       "    </tr>\n",
       "  </tbody>\n",
       "</table>\n",
       "<p>1481927 rows × 5 columns</p>\n",
       "</div>"
      ],
      "text/plain": [
       "           revolution    delay  index_of_dt_bin  bin_time   time_sec\n",
       "51                 51  62977.0                0       0.0   0.000007\n",
       "172               171  64337.0                0       0.0   0.000023\n",
       "241               239  62389.0                0       0.0   0.000032\n",
       "601               598  63454.0                0       0.0   0.000080\n",
       "1004              999  64303.0                0       0.0   0.000133\n",
       "...               ...      ...              ...       ...        ...\n",
       "452134724   449621001  64611.0              298      59.6  59.799593\n",
       "452135183   449621457  63559.0              298      59.6  59.799654\n",
       "452135438   449621711  62527.0              298      59.6  59.799688\n",
       "452135955   449622227  62597.0              298      59.6  59.799756\n",
       "452136847   449623118  64434.0              298      59.6  59.799875\n",
       "\n",
       "[1481927 rows x 5 columns]"
      ]
     },
     "execution_count": 53,
     "metadata": {},
     "output_type": "execute_result"
    }
   ],
   "source": [
    "df0 = reduce_df_to_one_gate(df, gate)\n",
    "dt=0.2\n",
    "df0 = divide_df_into_time_bins(df0, dt)\n",
    "df0"
   ]
  },
  {
   "cell_type": "code",
   "execution_count": 54,
   "metadata": {},
   "outputs": [
    {
     "data": {
      "text/html": [
       "<div>\n",
       "<style scoped>\n",
       "    .dataframe tbody tr th:only-of-type {\n",
       "        vertical-align: middle;\n",
       "    }\n",
       "\n",
       "    .dataframe tbody tr th {\n",
       "        vertical-align: top;\n",
       "    }\n",
       "\n",
       "    .dataframe thead th {\n",
       "        text-align: right;\n",
       "    }\n",
       "</style>\n",
       "<table border=\"1\" class=\"dataframe\">\n",
       "  <thead>\n",
       "    <tr style=\"text-align: right;\">\n",
       "      <th></th>\n",
       "      <th>time_sec</th>\n",
       "      <th>count</th>\n",
       "      <th>std</th>\n",
       "    </tr>\n",
       "    <tr>\n",
       "      <th>index_of_dt_bin</th>\n",
       "      <th></th>\n",
       "      <th></th>\n",
       "      <th></th>\n",
       "    </tr>\n",
       "  </thead>\n",
       "  <tbody>\n",
       "    <tr>\n",
       "      <th>0</th>\n",
       "      <td>0.0</td>\n",
       "      <td>4961</td>\n",
       "      <td>896.828503</td>\n",
       "    </tr>\n",
       "    <tr>\n",
       "      <th>1</th>\n",
       "      <td>0.2</td>\n",
       "      <td>5118</td>\n",
       "      <td>656.393567</td>\n",
       "    </tr>\n",
       "    <tr>\n",
       "      <th>2</th>\n",
       "      <td>0.4</td>\n",
       "      <td>4964</td>\n",
       "      <td>830.839038</td>\n",
       "    </tr>\n",
       "    <tr>\n",
       "      <th>3</th>\n",
       "      <td>0.6</td>\n",
       "      <td>4968</td>\n",
       "      <td>680.237604</td>\n",
       "    </tr>\n",
       "    <tr>\n",
       "      <th>4</th>\n",
       "      <td>0.8</td>\n",
       "      <td>4952</td>\n",
       "      <td>507.654459</td>\n",
       "    </tr>\n",
       "    <tr>\n",
       "      <th>...</th>\n",
       "      <td>...</td>\n",
       "      <td>...</td>\n",
       "      <td>...</td>\n",
       "    </tr>\n",
       "    <tr>\n",
       "      <th>294</th>\n",
       "      <td>58.8</td>\n",
       "      <td>4885</td>\n",
       "      <td>536.954544</td>\n",
       "    </tr>\n",
       "    <tr>\n",
       "      <th>295</th>\n",
       "      <td>59.0</td>\n",
       "      <td>4941</td>\n",
       "      <td>544.830949</td>\n",
       "    </tr>\n",
       "    <tr>\n",
       "      <th>296</th>\n",
       "      <td>59.2</td>\n",
       "      <td>5008</td>\n",
       "      <td>572.411020</td>\n",
       "    </tr>\n",
       "    <tr>\n",
       "      <th>297</th>\n",
       "      <td>59.4</td>\n",
       "      <td>5076</td>\n",
       "      <td>633.069877</td>\n",
       "    </tr>\n",
       "    <tr>\n",
       "      <th>298</th>\n",
       "      <td>59.6</td>\n",
       "      <td>4917</td>\n",
       "      <td>710.229720</td>\n",
       "    </tr>\n",
       "  </tbody>\n",
       "</table>\n",
       "<p>299 rows × 3 columns</p>\n",
       "</div>"
      ],
      "text/plain": [
       "                 time_sec  count         std\n",
       "index_of_dt_bin                             \n",
       "0                     0.0   4961  896.828503\n",
       "1                     0.2   5118  656.393567\n",
       "2                     0.4   4964  830.839038\n",
       "3                     0.6   4968  680.237604\n",
       "4                     0.8   4952  507.654459\n",
       "...                   ...    ...         ...\n",
       "294                  58.8   4885  536.954544\n",
       "295                  59.0   4941  544.830949\n",
       "296                  59.2   5008  572.411020\n",
       "297                  59.4   5076  633.069877\n",
       "298                  59.6   4917  710.229720\n",
       "\n",
       "[299 rows x 3 columns]"
      ]
     },
     "execution_count": 54,
     "metadata": {},
     "output_type": "execute_result"
    }
   ],
   "source": [
    "time_bins_df = get_properties_in_time_bins(df0)\n",
    "time_bins_df"
   ]
  },
  {
   "cell_type": "code",
   "execution_count": 55,
   "metadata": {},
   "outputs": [
    {
     "data": {
      "text/plain": [
       "<matplotlib.axes._subplots.AxesSubplot at 0x7f19b2e89610>"
      ]
     },
     "execution_count": 55,
     "metadata": {},
     "output_type": "execute_result"
    },
    {
     "data": {
      "image/png": "[encoded data removed]",
      "text/plain": [
       "<Figure size 1080x540 with 1 Axes>"
      ]
     },
     "metadata": {
      "needs_background": "light"
     },
     "output_type": "display_data"
    }
   ],
   "source": [
    "sns.lineplot(data=time_bins_df, x='time_sec', y='count')"
   ]
  },
  {
   "cell_type": "code",
   "execution_count": 57,
   "metadata": {
    "scrolled": true
   },
   "outputs": [
    {
     "data": {
      "application/vnd.plotly.v1+json": {
       "config": {
        "plotlyServerURL": "https://plot.ly"
       },
       "data": [
        {
         "hovertemplate": "x=%{x}<br>y=%{y}<extra></extra>",
         "legendgroup": "",
         "marker": {
          "color": "#636efa",
          "symbol": "circle"
         },
         "mode": "markers+lines",
         "name": "",
         "showlegend": false,
         "type": "scatter",
         "x": [
          0,
          0.20000000000001872,
          0.40000000000003577,
          0.5999999999999458,
          0.8000000000000712,
          1,
          1.19999999999989,
          1.3999999999998889,
          1.6000000000001462,
          1.80000000000006,
          2,
          2.200000000000079,
          2.3999999999997814,
          2.600000000000225,
          2.799999999999777,
          3,
          3.2000000000002897,
          3.3999999999997756,
          3.600000000000131,
          3.799999999999647,
          4,
          4.200000000000391,
          4.400000000000185,
          4.599999999999787,
          4.79999999999957,
          5,
          5.200000000000455,
          5.4000000000003805,
          5.5999999999995325,
          5.79999999999952,
          6,
          6.200000000000501,
          6.400000000000542,
          6.599999999999422,
          6.799999999999598,
          7,
          7.2000000000002276,
          7.400000000000679,
          7.59999999999928,
          7.799999999999975,
          8,
          8.199999999999882,
          8.400000000000782,
          8.599999999999211,
          8.800000000000377,
          9,
          9.199999999999537,
          9.400000000000855,
          9.599999999999138,
          9.800000000000596,
          10,
          10.199999999999338,
          10.40000000000091,
          10.599999999999087,
          10.800000000000827,
          11,
          11.19999999999917,
          11.400000000000949,
          11.599999999999032,
          11.800000000001045,
          12,
          12.199999999998896,
          12.400000000000992,
          12.599999999999008,
          12.800000000001113,
          13,
          13.1999999999988,
          13.400000000000855,
          13.599999999999248,
          13.800000000001274,
          14,
          14.199999999998704,
          14.400000000000599,
          14.599999999999508,
          14.800000000001328,
          15,
          15.199999999998614,
          15.400000000000064,
          15.600000000000005,
          15.800000000001454,
          16,
          16.199999999998486,
          16.39999999999975,
          16.60000000000046,
          16.800000000001567,
          17,
          17.199999999998433,
          17.399999999999416,
          17.600000000000808,
          17.800000000001635,
          18,
          18.199999999998347,
          18.399999999999107,
          18.600000000001003,
          18.800000000001692,
          19,
          19.199999999998276,
          19.399999999998876,
          19.600000000001323,
          19.800000000001763,
          20,
          20.199999999998248,
          20.3999999999986,
          20.600000000001465,
          20.80000000000187,
          21,
          21.199999999998145,
          21.399999999998506,
          21.60000000000163,
          21.80000000000187,
          22,
          22.199999999998106,
          22.39999999999819,
          22.60000000000177,
          22.80000000000191,
          23,
          23.19999999999805,
          23.39999999999804,
          23.60000000000205,
          23.800000000001976,
          24,
          24.199999999998045,
          24.39999999999792,
          24.600000000002133,
          24.80000000000199,
          25,
          25.199999999997992,
          25.399999999997785,
          25.600000000002122,
          25.800000000002026,
          26,
          26.199999999997964,
          26.39999999999771,
          26.600000000002353,
          26.800000000001642,
          27,
          27.199999999998134,
          27.39999999999752,
          27.600000000002513,
          27.800000000001603,
          28,
          28.199999999998454,
          28.399999999997366,
          28.600000000002673,
          28.800000000000512,
          29,
          29.199999999999402,
          29.39999999999731,
          29.600000000002705,
          29.80000000000086,
          30,
          30.199999999999346,
          30.39999999999722,
          30.60000000000289,
          30.800000000000196,
          31,
          31.200000000000028,
          31.399999999996968,
          31.60000000000307,
          31.79999999999969,
          32,
          32.20000000000052,
          32.399999999997014,
          32.60000000000302,
          32.79999999999962,
          33,
          33.20000000000089,
          33.399999999996865,
          33.60000000000307,
          33.79999999999924,
          34,
          34.20000000000126,
          34.39999999999678,
          34.60000000000314,
          34.7999999999987,
          35,
          35.20000000000141,
          35.39999999999672,
          35.60000000000333,
          35.79999999999814,
          36,
          36.20000000000174,
          36.39999999999663,
          36.60000000000335,
          36.79999999999792,
          37,
          37.20000000000203,
          37.3999999999966,
          37.60000000000344,
          37.79999999999799,
          38,
          38.20000000000212,
          38.39999999999653,
          38.600000000003476,
          38.79999999999758,
          39,
          39.2000000000026,
          39.399999999996474,
          39.600000000003504,
          39.79999999999721,
          40,
          40.20000000000268,
          40.399999999996425,
          40.60000000000364,
          40.79999999999733,
          41,
          41.200000000002966,
          41.399999999996375,
          41.60000000000369,
          41.799999999996714,
          42,
          42.2000000000032,
          42.399999999996325,
          42.600000000003725,
          42.7999999999966,
          43,
          43.20000000000332,
          43.39999999999624,
          43.600000000003746,
          43.799999999996636,
          44,
          44.200000000003556,
          44.39999999999625,
          44.60000000000381,
          44.799999999996224,
          45,
          45.20000000000354,
          45.39999999999616,
          45.60000000000381,
          45.79999999999623,
          46,
          46.200000000003755,
          46.399999999996105,
          46.60000000000388,
          46.79999999999592,
          47,
          47.20000000000381,
          47.3999999999961,
          47.60000000000393,
          47.79999999999597,
          48,
          48.20000000000415,
          48.399999999996034,
          48.60000000000394,
          48.79999999999586,
          49,
          49.2000000000042,
          49.39999999999602,
          49.60000000000399,
          49.79999999999558,
          50,
          50.20000000000445,
          50.39999999999598,
          50.600000000004016,
          50.7999999999956,
          51,
          51.20000000000452,
          51.39999999999594,
          51.60000000000405,
          51.7999999999955,
          52,
          52.200000000004685,
          52.39999999999593,
          52.60000000000372,
          52.79999999999526,
          53,
          53.20000000000493,
          53.399999999996155,
          53.600000000003405,
          53.79999999999516,
          54,
          54.200000000004934,
          54.3999999999967,
          54.600000000003746,
          54.79999999999485,
          55,
          55.200000000005225,
          55.399999999997355,
          55.60000000000285,
          55.79999999999492,
          56,
          56.200000000005225,
          56.399999999997966,
          56.60000000000285,
          56.79999999999474,
          57,
          57.200000000005424,
          57.39999999999794,
          57.60000000000237,
          57.799999999994625,
          58,
          58.20000000000544,
          58.399999999998755,
          58.60000000000144,
          58.79999999999461,
          59,
          59.20000000000559,
          59.399999999999466,
          59.600000000001224
         ],
         "xaxis": "x",
         "y": [
          804301.3644035575,
          430852.51542265445,
          690293.50657606,
          462723.1983642343,
          257713.04999708032,
          211408.95726618718,
          197361.15161463,
          232879.26133839396,
          234468.9452894488,
          240328.2028518056,
          237974.63117898628,
          294254.7024924235,
          395686.8968420453,
          292940.4307812216,
          261657.64531235208,
          260531.00121660717,
          216302.8799415126,
          225762.5178924464,
          363928.8028848363,
          351531.03950339707,
          191357.0482224038,
          268995.30399483157,
          420680.7487612275,
          403481.4039008975,
          704064.325809594,
          760486.6715066979,
          500790.30151477765,
          419423.20780728763,
          257646.0725874057,
          244938.2625758279,
          233854.33944187302,
          410589.7731800814,
          457073.37561953074,
          640148.0663431834,
          594369.9090468728,
          454685.2193899488,
          233446.25683355858,
          213094.115660156,
          183072.7131239427,
          204723.3306148277,
          188678.1111186457,
          194646.38206731132,
          204832.6444847225,
          225953.08016716456,
          291148.3572206202,
          284959.7914417764,
          466230.07849047397,
          905925.5911212893,
          829583.073945571,
          395356.9533621395,
          340917.80695367604,
          839162.414136767,
          1085197.6102094208,
          1257387.2911270151,
          759543.6526632081,
          703902.9247691222,
          618396.6806149931,
          592021.9075480398,
          439908.95608085074,
          240181.3795002535,
          196890.75302598526,
          202965.7503979653,
          266766.9365389547,
          516240.1692049021,
          328972.5484989311,
          253357.09364272832,
          210602.93111828752,
          197317.345191061,
          290385.96798518783,
          537077.5337388263,
          461515.8812604955,
          502875.241389324,
          683957.688894921,
          1003522.2867784713,
          931220.1146017734,
          1027437.2774592632,
          1018263.9387097696,
          1051864.561674322,
          1120392.9024544137,
          1106198.0829089284,
          1085146.1536751746,
          692968.1377217761,
          409420.409569272,
          674640.1559679958,
          471146.4075720484,
          347541.80453655426,
          265944.91288164764,
          243222.06865715684,
          341130.1218682091,
          616151.163244232,
          595401.4480521639,
          484658.90648771933,
          424515.31881031964,
          437125.98868807,
          486309.3313066148,
          389093.9074880778,
          621510.2595889815,
          929808.7330150377,
          1000653.3827075154,
          1252832.7164733836,
          850146.5422919802,
          930523.2023076896,
          1209822.4144882385,
          1192879.0515133417,
          758297.2014151317,
          551573.0905039522,
          271538.02069806115,
          343050.69784742757,
          369258.8735458052,
          237270.3395494562,
          335297.6312362217,
          263359.905477833,
          290534.8336022167,
          456125.62917063275,
          570806.5444533406,
          257486.56889590705,
          340476.13616024016,
          387532.6284648596,
          357470.94952720526,
          313312.89359126886,
          295750.7902933943,
          625490.8755191152,
          814720.4858080858,
          1238892.929385878,
          1056926.2552890673,
          692416.3112913179,
          458705.67703990237,
          237552.92832680233,
          289163.167094553,
          269193.4312339026,
          291272.4700481514,
          251153.2834154582,
          510494.6129121065,
          488570.8747171176,
          440252.98602896155,
          641225.8255679379,
          887906.9825237625,
          1126759.7548115288,
          818640.8763434604,
          934944.966269957,
          748185.1668518517,
          488680.68496404256,
          384636.64582273836,
          360920.0221415149,
          342170.3589843801,
          237642.95040131416,
          213201.98090726967,
          264920.7769781473,
          213033.65960661176,
          237077.90590423538,
          281705.89231842087,
          264344.37270828313,
          349992.9353692615,
          449132.8279003135,
          476365.01458168234,
          404257.1239451026,
          323951.6235247631,
          280181.24233763386,
          253825.267475629,
          417627.2069504765,
          570617.834029341,
          500029.55654181796,
          293510.53633146523,
          188788.45868188818,
          301247.56298125663,
          277086.64052756235,
          204305.16409911856,
          236063.22871159326,
          262401.4472679013,
          237375.4752180112,
          218236.37039558808,
          375594.1100081927,
          309902.69337752095,
          330754.1429352011,
          245320.1169048252,
          224512.2090190633,
          222800.00865461552,
          239772.50077922383,
          319518.6361412208,
          191018.11617928813,
          181259.01813886006,
          297644.2424999551,
          278222.76318330417,
          379258.1261836986,
          577539.9866449705,
          452825.07938139146,
          538724.5978833239,
          412711.3535634302,
          330662.35719200654,
          309529.0412008824,
          240913.17578435247,
          187543.53741126624,
          169816.7037067023,
          228431.80882242482,
          277789.79463864345,
          254917.85732317524,
          308388.6436582727,
          244305.18416360594,
          194462.91045133624,
          460142.2923739895,
          416418.970446231,
          311647.5016167415,
          188809.4444189706,
          191520.75029352357,
          215498.38589750472,
          178651.9420104401,
          189673.2228605586,
          312602.42769923486,
          267269.45086556044,
          222312.64354881083,
          209070.67580683564,
          329073.3977457247,
          309123.703567157,
          312733.2627416069,
          301605.1473553577,
          306607.44434148923,
          384338.3936206441,
          422752.3650153555,
          467486.78175938706,
          434252.0834379688,
          459955.0944052748,
          624087.2101048564,
          1039564.7710596967,
          945719.3051480333,
          718598.0784772446,
          987689.8871625338,
          910394.9821115833,
          707228.635616695,
          358135.16108579515,
          305633.1059768489,
          294564.94438515604,
          450615.1215505028,
          466562.90767511853,
          417088.8296015619,
          297232.16397826985,
          386048.36178200966,
          378047.21326083987,
          830940.911104009,
          844492.062830492,
          302904.9698910756,
          255488.34938022724,
          244685.17555592238,
          222589.52458167667,
          287710.17298347456,
          351862.6640127608,
          408410.4293631017,
          520537.0966804544,
          328075.7455954047,
          259044.86371543226,
          207656.70418239807,
          259077.51420930438,
          238292.741889652,
          305344.5048941678,
          700686.1706141345,
          980770.5134603378,
          1625923.4923186733,
          1913081.1151173837,
          1789961.7885474723,
          972746.4911926794,
          839660.239147468,
          675485.1997864135,
          507724.29164785246,
          554828.897747592,
          504065.6581621157,
          362046.041600872,
          238168.98219125686,
          274003.6698194616,
          252969.48735504193,
          375827.7938184039,
          480312.1166160209,
          406336.66751126887,
          708126.2539105016,
          349140.00127725815,
          393600.4566474914,
          261198.29278927261,
          202938.65339734493,
          177761.89429489017,
          248422.36845304898,
          193154.89647987933,
          284333.802298575,
          362615.9213698351,
          500026.9059806613,
          411289.2474389686,
          351991.0626473568,
          227627.05916376892,
          217783.60516616236,
          246099.29755915244,
          250268.57911750302,
          389739.86453582486,
          198511.79716685112,
          193010.81019578179,
          287478.3614795364,
          197576.8318747439,
          218458.41625143198,
          288320.1826757436,
          296840.76276786515,
          327654.37561024725,
          400777.46897886903,
          504426.2544681903
         ],
         "yaxis": "y"
        }
       ],
       "layout": {
        "legend": {
         "tracegroupgap": 0
        },
        "margin": {
         "t": 60
        },
        "template": {
         "data": {
          "bar": [
           {
            "error_x": {
             "color": "#2a3f5f"
            },
            "error_y": {
             "color": "#2a3f5f"
            },
            "marker": {
             "line": {
              "color": "#E5ECF6",
              "width": 0.5
             }
            },
            "type": "bar"
           }
          ],
          "barpolar": [
           {
            "marker": {
             "line": {
              "color": "#E5ECF6",
              "width": 0.5
             }
            },
            "type": "barpolar"
           }
          ],
          "carpet": [
           {
            "aaxis": {
             "endlinecolor": "#2a3f5f",
             "gridcolor": "white",
             "linecolor": "white",
             "minorgridcolor": "white",
             "startlinecolor": "#2a3f5f"
            },
            "baxis": {
             "endlinecolor": "#2a3f5f",
             "gridcolor": "white",
             "linecolor": "white",
             "minorgridcolor": "white",
             "startlinecolor": "#2a3f5f"
            },
            "type": "carpet"
           }
          ],
          "choropleth": [
           {
            "colorbar": {
             "outlinewidth": 0,
             "ticks": ""
            },
            "type": "choropleth"
           }
          ],
          "contour": [
           {
            "colorbar": {
             "outlinewidth": 0,
             "ticks": ""
            },
            "colorscale": [
             [
              0,
              "#0d0887"
             ],
             [
              0.1111111111111111,
              "#46039f"
             ],
             [
              0.2222222222222222,
              "#7201a8"
             ],
             [
              0.3333333333333333,
              "#9c179e"
             ],
             [
              0.4444444444444444,
              "#bd3786"
             ],
             [
              0.5555555555555556,
              "#d8576b"
             ],
             [
              0.6666666666666666,
              "#ed7953"
             ],
             [
              0.7777777777777778,
              "#fb9f3a"
             ],
             [
              0.8888888888888888,
              "#fdca26"
             ],
             [
              1,
              "#f0f921"
             ]
            ],
            "type": "contour"
           }
          ],
          "contourcarpet": [
           {
            "colorbar": {
             "outlinewidth": 0,
             "ticks": ""
            },
            "type": "contourcarpet"
           }
          ],
          "heatmap": [
           {
            "colorbar": {
             "outlinewidth": 0,
             "ticks": ""
            },
            "colorscale": [
             [
              0,
              "#0d0887"
             ],
             [
              0.1111111111111111,
              "#46039f"
             ],
             [
              0.2222222222222222,
              "#7201a8"
             ],
             [
              0.3333333333333333,
              "#9c179e"
             ],
             [
              0.4444444444444444,
              "#bd3786"
             ],
             [
              0.5555555555555556,
              "#d8576b"
             ],
             [
              0.6666666666666666,
              "#ed7953"
             ],
             [
              0.7777777777777778,
              "#fb9f3a"
             ],
             [
              0.8888888888888888,
              "#fdca26"
             ],
             [
              1,
              "#f0f921"
             ]
            ],
            "type": "heatmap"
           }
          ],
          "heatmapgl": [
           {
            "colorbar": {
             "outlinewidth": 0,
             "ticks": ""
            },
            "colorscale": [
             [
              0,
              "#0d0887"
             ],
             [
              0.1111111111111111,
              "#46039f"
             ],
             [
              0.2222222222222222,
              "#7201a8"
             ],
             [
              0.3333333333333333,
              "#9c179e"
             ],
             [
              0.4444444444444444,
              "#bd3786"
             ],
             [
              0.5555555555555556,
              "#d8576b"
             ],
             [
              0.6666666666666666,
              "#ed7953"
             ],
             [
              0.7777777777777778,
              "#fb9f3a"
             ],
             [
              0.8888888888888888,
              "#fdca26"
             ],
             [
              1,
              "#f0f921"
             ]
            ],
            "type": "heatmapgl"
           }
          ],
          "histogram": [
           {
            "marker": {
             "colorbar": {
              "outlinewidth": 0,
              "ticks": ""
             }
            },
            "type": "histogram"
           }
          ],
          "histogram2d": [
           {
            "colorbar": {
             "outlinewidth": 0,
             "ticks": ""
            },
            "colorscale": [
             [
              0,
              "#0d0887"
             ],
             [
              0.1111111111111111,
              "#46039f"
             ],
             [
              0.2222222222222222,
              "#7201a8"
             ],
             [
              0.3333333333333333,
              "#9c179e"
             ],
             [
              0.4444444444444444,
              "#bd3786"
             ],
             [
              0.5555555555555556,
              "#d8576b"
             ],
             [
              0.6666666666666666,
              "#ed7953"
             ],
             [
              0.7777777777777778,
              "#fb9f3a"
             ],
             [
              0.8888888888888888,
              "#fdca26"
             ],
             [
              1,
              "#f0f921"
             ]
            ],
            "type": "histogram2d"
           }
          ],
          "histogram2dcontour": [
           {
            "colorbar": {
             "outlinewidth": 0,
             "ticks": ""
            },
            "colorscale": [
             [
              0,
              "#0d0887"
             ],
             [
              0.1111111111111111,
              "#46039f"
             ],
             [
              0.2222222222222222,
              "#7201a8"
             ],
             [
              0.3333333333333333,
              "#9c179e"
             ],
             [
              0.4444444444444444,
              "#bd3786"
             ],
             [
              0.5555555555555556,
              "#d8576b"
             ],
             [
              0.6666666666666666,
              "#ed7953"
             ],
             [
              0.7777777777777778,
              "#fb9f3a"
             ],
             [
              0.8888888888888888,
              "#fdca26"
             ],
             [
              1,
              "#f0f921"
             ]
            ],
            "type": "histogram2dcontour"
           }
          ],
          "mesh3d": [
           {
            "colorbar": {
             "outlinewidth": 0,
             "ticks": ""
            },
            "type": "mesh3d"
           }
          ],
          "parcoords": [
           {
            "line": {
             "colorbar": {
              "outlinewidth": 0,
              "ticks": ""
             }
            },
            "type": "parcoords"
           }
          ],
          "pie": [
           {
            "automargin": true,
            "type": "pie"
           }
          ],
          "scatter": [
           {
            "marker": {
             "colorbar": {
              "outlinewidth": 0,
              "ticks": ""
             }
            },
            "type": "scatter"
           }
          ],
          "scatter3d": [
           {
            "line": {
             "colorbar": {
              "outlinewidth": 0,
              "ticks": ""
             }
            },
            "marker": {
             "colorbar": {
              "outlinewidth": 0,
              "ticks": ""
             }
            },
            "type": "scatter3d"
           }
          ],
          "scattercarpet": [
           {
            "marker": {
             "colorbar": {
              "outlinewidth": 0,
              "ticks": ""
             }
            },
            "type": "scattercarpet"
           }
          ],
          "scattergeo": [
           {
            "marker": {
             "colorbar": {
              "outlinewidth": 0,
              "ticks": ""
             }
            },
            "type": "scattergeo"
           }
          ],
          "scattergl": [
           {
            "marker": {
             "colorbar": {
              "outlinewidth": 0,
              "ticks": ""
             }
            },
            "type": "scattergl"
           }
          ],
          "scattermapbox": [
           {
            "marker": {
             "colorbar": {
              "outlinewidth": 0,
              "ticks": ""
             }
            },
            "type": "scattermapbox"
           }
          ],
          "scatterpolar": [
           {
            "marker": {
             "colorbar": {
              "outlinewidth": 0,
              "ticks": ""
             }
            },
            "type": "scatterpolar"
           }
          ],
          "scatterpolargl": [
           {
            "marker": {
             "colorbar": {
              "outlinewidth": 0,
              "ticks": ""
             }
            },
            "type": "scatterpolargl"
           }
          ],
          "scatterternary": [
           {
            "marker": {
             "colorbar": {
              "outlinewidth": 0,
              "ticks": ""
             }
            },
            "type": "scatterternary"
           }
          ],
          "surface": [
           {
            "colorbar": {
             "outlinewidth": 0,
             "ticks": ""
            },
            "colorscale": [
             [
              0,
              "#0d0887"
             ],
             [
              0.1111111111111111,
              "#46039f"
             ],
             [
              0.2222222222222222,
              "#7201a8"
             ],
             [
              0.3333333333333333,
              "#9c179e"
             ],
             [
              0.4444444444444444,
              "#bd3786"
             ],
             [
              0.5555555555555556,
              "#d8576b"
             ],
             [
              0.6666666666666666,
              "#ed7953"
             ],
             [
              0.7777777777777778,
              "#fb9f3a"
             ],
             [
              0.8888888888888888,
              "#fdca26"
             ],
             [
              1,
              "#f0f921"
             ]
            ],
            "type": "surface"
           }
          ],
          "table": [
           {
            "cells": {
             "fill": {
              "color": "#EBF0F8"
             },
             "line": {
              "color": "white"
             }
            },
            "header": {
             "fill": {
              "color": "#C8D4E3"
             },
             "line": {
              "color": "white"
             }
            },
            "type": "table"
           }
          ]
         },
         "layout": {
          "annotationdefaults": {
           "arrowcolor": "#2a3f5f",
           "arrowhead": 0,
           "arrowwidth": 1
          },
          "coloraxis": {
           "colorbar": {
            "outlinewidth": 0,
            "ticks": ""
           }
          },
          "colorscale": {
           "diverging": [
            [
             0,
             "#8e0152"
            ],
            [
             0.1,
             "#c51b7d"
            ],
            [
             0.2,
             "#de77ae"
            ],
            [
             0.3,
             "#f1b6da"
            ],
            [
             0.4,
             "#fde0ef"
            ],
            [
             0.5,
             "#f7f7f7"
            ],
            [
             0.6,
             "#e6f5d0"
            ],
            [
             0.7,
             "#b8e186"
            ],
            [
             0.8,
             "#7fbc41"
            ],
            [
             0.9,
             "#4d9221"
            ],
            [
             1,
             "#276419"
            ]
           ],
           "sequential": [
            [
             0,
             "#0d0887"
            ],
            [
             0.1111111111111111,
             "#46039f"
            ],
            [
             0.2222222222222222,
             "#7201a8"
            ],
            [
             0.3333333333333333,
             "#9c179e"
            ],
            [
             0.4444444444444444,
             "#bd3786"
            ],
            [
             0.5555555555555556,
             "#d8576b"
            ],
            [
             0.6666666666666666,
             "#ed7953"
            ],
            [
             0.7777777777777778,
             "#fb9f3a"
            ],
            [
             0.8888888888888888,
             "#fdca26"
            ],
            [
             1,
             "#f0f921"
            ]
           ],
           "sequentialminus": [
            [
             0,
             "#0d0887"
            ],
            [
             0.1111111111111111,
             "#46039f"
            ],
            [
             0.2222222222222222,
             "#7201a8"
            ],
            [
             0.3333333333333333,
             "#9c179e"
            ],
            [
             0.4444444444444444,
             "#bd3786"
            ],
            [
             0.5555555555555556,
             "#d8576b"
            ],
            [
             0.6666666666666666,
             "#ed7953"
            ],
            [
             0.7777777777777778,
             "#fb9f3a"
            ],
            [
             0.8888888888888888,
             "#fdca26"
            ],
            [
             1,
             "#f0f921"
            ]
           ]
          },
          "colorway": [
           "#636efa",
           "#EF553B",
           "#00cc96",
           "#ab63fa",
           "#FFA15A",
           "#19d3f3",
           "#FF6692",
           "#B6E880",
           "#FF97FF",
           "#FECB52"
          ],
          "font": {
           "color": "#2a3f5f"
          },
          "geo": {
           "bgcolor": "white",
           "lakecolor": "white",
           "landcolor": "#E5ECF6",
           "showlakes": true,
           "showland": true,
           "subunitcolor": "white"
          },
          "hoverlabel": {
           "align": "left"
          },
          "hovermode": "closest",
          "mapbox": {
           "style": "light"
          },
          "paper_bgcolor": "white",
          "plot_bgcolor": "#E5ECF6",
          "polar": {
           "angularaxis": {
            "gridcolor": "white",
            "linecolor": "white",
            "ticks": ""
           },
           "bgcolor": "#E5ECF6",
           "radialaxis": {
            "gridcolor": "white",
            "linecolor": "white",
            "ticks": ""
           }
          },
          "scene": {
           "xaxis": {
            "backgroundcolor": "#E5ECF6",
            "gridcolor": "white",
            "gridwidth": 2,
            "linecolor": "white",
            "showbackground": true,
            "ticks": "",
            "zerolinecolor": "white"
           },
           "yaxis": {
            "backgroundcolor": "#E5ECF6",
            "gridcolor": "white",
            "gridwidth": 2,
            "linecolor": "white",
            "showbackground": true,
            "ticks": "",
            "zerolinecolor": "white"
           },
           "zaxis": {
            "backgroundcolor": "#E5ECF6",
            "gridcolor": "white",
            "gridwidth": 2,
            "linecolor": "white",
            "showbackground": true,
            "ticks": "",
            "zerolinecolor": "white"
           }
          },
          "shapedefaults": {
           "line": {
            "color": "#2a3f5f"
           }
          },
          "ternary": {
           "aaxis": {
            "gridcolor": "white",
            "linecolor": "white",
            "ticks": ""
           },
           "baxis": {
            "gridcolor": "white",
            "linecolor": "white",
            "ticks": ""
           },
           "bgcolor": "#E5ECF6",
           "caxis": {
            "gridcolor": "white",
            "linecolor": "white",
            "ticks": ""
           }
          },
          "title": {
           "x": 0.05
          },
          "xaxis": {
           "automargin": true,
           "gridcolor": "white",
           "linecolor": "white",
           "ticks": "",
           "title": {
            "standoff": 15
           },
           "zerolinecolor": "white",
           "zerolinewidth": 2
          },
          "yaxis": {
           "automargin": true,
           "gridcolor": "white",
           "linecolor": "white",
           "ticks": "",
           "title": {
            "standoff": 15
           },
           "zerolinecolor": "white",
           "zerolinewidth": 2
          }
         }
        },
        "xaxis": {
         "anchor": "y",
         "domain": [
          0,
          1
         ],
         "title": {
          "text": "x"
         }
        },
        "yaxis": {
         "anchor": "x",
         "domain": [
          0,
          1
         ],
         "title": {
          "text": "y"
         }
        }
       }
      },
      "text/html": [
       "<div>\n",
       "        \n",
       "        \n",
       "            <div id=\"ccaf070a-3f15-4c9b-a2f8-0388a19c04ae\" class=\"plotly-graph-div\" style=\"height:525px; width:100%;\"></div>\n",
       "            <script type=\"text/javascript\">\n",
       "                require([\"plotly\"], function(Plotly) {\n",
       "                    window.PLOTLYENV=window.PLOTLYENV || {};\n",
       "                    \n",
       "                if (document.getElementById(\"ccaf070a-3f15-4c9b-a2f8-0388a19c04ae\")) {\n",
       "                    Plotly.newPlot(\n",
       "                        'ccaf070a-3f15-4c9b-a2f8-0388a19c04ae',\n",
       "                        [{\"hovertemplate\": \"x=%{x}<br>y=%{y}<extra></extra>\", \"legendgroup\": \"\", \"marker\": {\"color\": \"#636efa\", \"symbol\": \"circle\"}, \"mode\": \"markers+lines\", \"name\": \"\", \"showlegend\": false, \"type\": \"scatter\", \"x\": [0.0, 0.20000000000001872, 0.40000000000003577, 0.5999999999999458, 0.8000000000000712, 1.0, 1.19999999999989, 1.3999999999998889, 1.6000000000001462, 1.80000000000006, 2.0, 2.200000000000079, 2.3999999999997814, 2.600000000000225, 2.799999999999777, 3.0, 3.2000000000002897, 3.3999999999997756, 3.600000000000131, 3.799999999999647, 4.0, 4.200000000000391, 4.400000000000185, 4.599999999999787, 4.79999999999957, 5.0, 5.200000000000455, 5.4000000000003805, 5.5999999999995325, 5.79999999999952, 6.0, 6.200000000000501, 6.400000000000542, 6.599999999999422, 6.799999999999598, 7.0, 7.2000000000002276, 7.400000000000679, 7.59999999999928, 7.799999999999975, 8.0, 8.199999999999882, 8.400000000000782, 8.599999999999211, 8.800000000000377, 9.0, 9.199999999999537, 9.400000000000855, 9.599999999999138, 9.800000000000596, 10.0, 10.199999999999338, 10.40000000000091, 10.599999999999087, 10.800000000000827, 11.0, 11.19999999999917, 11.400000000000949, 11.599999999999032, 11.800000000001045, 12.0, 12.199999999998896, 12.400000000000992, 12.599999999999008, 12.800000000001113, 13.0, 13.1999999999988, 13.400000000000855, 13.599999999999248, 13.800000000001274, 14.0, 14.199999999998704, 14.400000000000599, 14.599999999999508, 14.800000000001328, 15.0, 15.199999999998614, 15.400000000000064, 15.600000000000005, 15.800000000001454, 16.0, 16.199999999998486, 16.39999999999975, 16.60000000000046, 16.800000000001567, 17.0, 17.199999999998433, 17.399999999999416, 17.600000000000808, 17.800000000001635, 18.0, 18.199999999998347, 18.399999999999107, 18.600000000001003, 18.800000000001692, 19.0, 19.199999999998276, 19.399999999998876, 19.600000000001323, 19.800000000001763, 20.0, 20.199999999998248, 20.3999999999986, 20.600000000001465, 20.80000000000187, 21.0, 21.199999999998145, 21.399999999998506, 21.60000000000163, 21.80000000000187, 22.0, 22.199999999998106, 22.39999999999819, 22.60000000000177, 22.80000000000191, 23.0, 23.19999999999805, 23.39999999999804, 23.60000000000205, 23.800000000001976, 24.0, 24.199999999998045, 24.39999999999792, 24.600000000002133, 24.80000000000199, 25.0, 25.199999999997992, 25.399999999997785, 25.600000000002122, 25.800000000002026, 26.0, 26.199999999997964, 26.39999999999771, 26.600000000002353, 26.800000000001642, 27.0, 27.199999999998134, 27.39999999999752, 27.600000000002513, 27.800000000001603, 28.0, 28.199999999998454, 28.399999999997366, 28.600000000002673, 28.800000000000512, 29.0, 29.199999999999402, 29.39999999999731, 29.600000000002705, 29.80000000000086, 30.0, 30.199999999999346, 30.39999999999722, 30.60000000000289, 30.800000000000196, 31.0, 31.200000000000028, 31.399999999996968, 31.60000000000307, 31.79999999999969, 32.0, 32.20000000000052, 32.399999999997014, 32.60000000000302, 32.79999999999962, 33.0, 33.20000000000089, 33.399999999996865, 33.60000000000307, 33.79999999999924, 34.0, 34.20000000000126, 34.39999999999678, 34.60000000000314, 34.7999999999987, 35.0, 35.20000000000141, 35.39999999999672, 35.60000000000333, 35.79999999999814, 36.0, 36.20000000000174, 36.39999999999663, 36.60000000000335, 36.79999999999792, 37.0, 37.20000000000203, 37.3999999999966, 37.60000000000344, 37.79999999999799, 38.0, 38.20000000000212, 38.39999999999653, 38.600000000003476, 38.79999999999758, 39.0, 39.2000000000026, 39.399999999996474, 39.600000000003504, 39.79999999999721, 40.0, 40.20000000000268, 40.399999999996425, 40.60000000000364, 40.79999999999733, 41.0, 41.200000000002966, 41.399999999996375, 41.60000000000369, 41.799999999996714, 42.0, 42.2000000000032, 42.399999999996325, 42.600000000003725, 42.7999999999966, 43.0, 43.20000000000332, 43.39999999999624, 43.600000000003746, 43.799999999996636, 44.0, 44.200000000003556, 44.39999999999625, 44.60000000000381, 44.799999999996224, 45.0, 45.20000000000354, 45.39999999999616, 45.60000000000381, 45.79999999999623, 46.0, 46.200000000003755, 46.399999999996105, 46.60000000000388, 46.79999999999592, 47.0, 47.20000000000381, 47.3999999999961, 47.60000000000393, 47.79999999999597, 48.0, 48.20000000000415, 48.399999999996034, 48.60000000000394, 48.79999999999586, 49.0, 49.2000000000042, 49.39999999999602, 49.60000000000399, 49.79999999999558, 50.0, 50.20000000000445, 50.39999999999598, 50.600000000004016, 50.7999999999956, 51.0, 51.20000000000452, 51.39999999999594, 51.60000000000405, 51.7999999999955, 52.0, 52.200000000004685, 52.39999999999593, 52.60000000000372, 52.79999999999526, 53.0, 53.20000000000493, 53.399999999996155, 53.600000000003405, 53.79999999999516, 54.0, 54.200000000004934, 54.3999999999967, 54.600000000003746, 54.79999999999485, 55.0, 55.200000000005225, 55.399999999997355, 55.60000000000285, 55.79999999999492, 56.0, 56.200000000005225, 56.399999999997966, 56.60000000000285, 56.79999999999474, 57.0, 57.200000000005424, 57.39999999999794, 57.60000000000237, 57.799999999994625, 58.0, 58.20000000000544, 58.399999999998755, 58.60000000000144, 58.79999999999461, 59.0, 59.20000000000559, 59.399999999999466, 59.600000000001224], \"xaxis\": \"x\", \"y\": [804301.3644035575, 430852.51542265445, 690293.50657606, 462723.1983642343, 257713.04999708032, 211408.95726618718, 197361.15161463, 232879.26133839396, 234468.9452894488, 240328.2028518056, 237974.63117898628, 294254.7024924235, 395686.8968420453, 292940.4307812216, 261657.64531235208, 260531.00121660717, 216302.8799415126, 225762.5178924464, 363928.8028848363, 351531.03950339707, 191357.0482224038, 268995.30399483157, 420680.7487612275, 403481.4039008975, 704064.325809594, 760486.6715066979, 500790.30151477765, 419423.20780728763, 257646.0725874057, 244938.2625758279, 233854.33944187302, 410589.7731800814, 457073.37561953074, 640148.0663431834, 594369.9090468728, 454685.2193899488, 233446.25683355858, 213094.115660156, 183072.7131239427, 204723.3306148277, 188678.1111186457, 194646.38206731132, 204832.6444847225, 225953.08016716456, 291148.3572206202, 284959.7914417764, 466230.07849047397, 905925.5911212893, 829583.073945571, 395356.9533621395, 340917.80695367604, 839162.414136767, 1085197.6102094208, 1257387.2911270151, 759543.6526632081, 703902.9247691222, 618396.6806149931, 592021.9075480398, 439908.95608085074, 240181.3795002535, 196890.75302598526, 202965.7503979653, 266766.9365389547, 516240.1692049021, 328972.5484989311, 253357.09364272832, 210602.93111828752, 197317.345191061, 290385.96798518783, 537077.5337388263, 461515.8812604955, 502875.241389324, 683957.688894921, 1003522.2867784713, 931220.1146017734, 1027437.2774592632, 1018263.9387097696, 1051864.561674322, 1120392.9024544137, 1106198.0829089284, 1085146.1536751746, 692968.1377217761, 409420.409569272, 674640.1559679958, 471146.4075720484, 347541.80453655426, 265944.91288164764, 243222.06865715684, 341130.1218682091, 616151.163244232, 595401.4480521639, 484658.90648771933, 424515.31881031964, 437125.98868807, 486309.3313066148, 389093.9074880778, 621510.2595889815, 929808.7330150377, 1000653.3827075154, 1252832.7164733836, 850146.5422919802, 930523.2023076896, 1209822.4144882385, 1192879.0515133417, 758297.2014151317, 551573.0905039522, 271538.02069806115, 343050.69784742757, 369258.8735458052, 237270.3395494562, 335297.6312362217, 263359.905477833, 290534.8336022167, 456125.62917063275, 570806.5444533406, 257486.56889590705, 340476.13616024016, 387532.6284648596, 357470.94952720526, 313312.89359126886, 295750.7902933943, 625490.8755191152, 814720.4858080858, 1238892.929385878, 1056926.2552890673, 692416.3112913179, 458705.67703990237, 237552.92832680233, 289163.167094553, 269193.4312339026, 291272.4700481514, 251153.2834154582, 510494.6129121065, 488570.8747171176, 440252.98602896155, 641225.8255679379, 887906.9825237625, 1126759.7548115288, 818640.8763434604, 934944.966269957, 748185.1668518517, 488680.68496404256, 384636.64582273836, 360920.0221415149, 342170.3589843801, 237642.95040131416, 213201.98090726967, 264920.7769781473, 213033.65960661176, 237077.90590423538, 281705.89231842087, 264344.37270828313, 349992.9353692615, 449132.8279003135, 476365.01458168234, 404257.1239451026, 323951.6235247631, 280181.24233763386, 253825.267475629, 417627.2069504765, 570617.834029341, 500029.55654181796, 293510.53633146523, 188788.45868188818, 301247.56298125663, 277086.64052756235, 204305.16409911856, 236063.22871159326, 262401.4472679013, 237375.4752180112, 218236.37039558808, 375594.1100081927, 309902.69337752095, 330754.1429352011, 245320.1169048252, 224512.2090190633, 222800.00865461552, 239772.50077922383, 319518.6361412208, 191018.11617928813, 181259.01813886006, 297644.2424999551, 278222.76318330417, 379258.1261836986, 577539.9866449705, 452825.07938139146, 538724.5978833239, 412711.3535634302, 330662.35719200654, 309529.0412008824, 240913.17578435247, 187543.53741126624, 169816.7037067023, 228431.80882242482, 277789.79463864345, 254917.85732317524, 308388.6436582727, 244305.18416360594, 194462.91045133624, 460142.2923739895, 416418.970446231, 311647.5016167415, 188809.4444189706, 191520.75029352357, 215498.38589750472, 178651.9420104401, 189673.2228605586, 312602.42769923486, 267269.45086556044, 222312.64354881083, 209070.67580683564, 329073.3977457247, 309123.703567157, 312733.2627416069, 301605.1473553577, 306607.44434148923, 384338.3936206441, 422752.3650153555, 467486.78175938706, 434252.0834379688, 459955.0944052748, 624087.2101048564, 1039564.7710596967, 945719.3051480333, 718598.0784772446, 987689.8871625338, 910394.9821115833, 707228.635616695, 358135.16108579515, 305633.1059768489, 294564.94438515604, 450615.1215505028, 466562.90767511853, 417088.8296015619, 297232.16397826985, 386048.36178200966, 378047.21326083987, 830940.911104009, 844492.062830492, 302904.9698910756, 255488.34938022724, 244685.17555592238, 222589.52458167667, 287710.17298347456, 351862.6640127608, 408410.4293631017, 520537.0966804544, 328075.7455954047, 259044.86371543226, 207656.70418239807, 259077.51420930438, 238292.741889652, 305344.5048941678, 700686.1706141345, 980770.5134603378, 1625923.4923186733, 1913081.1151173837, 1789961.7885474723, 972746.4911926794, 839660.239147468, 675485.1997864135, 507724.29164785246, 554828.897747592, 504065.6581621157, 362046.041600872, 238168.98219125686, 274003.6698194616, 252969.48735504193, 375827.7938184039, 480312.1166160209, 406336.66751126887, 708126.2539105016, 349140.00127725815, 393600.4566474914, 261198.29278927261, 202938.65339734493, 177761.89429489017, 248422.36845304898, 193154.89647987933, 284333.802298575, 362615.9213698351, 500026.9059806613, 411289.2474389686, 351991.0626473568, 227627.05916376892, 217783.60516616236, 246099.29755915244, 250268.57911750302, 389739.86453582486, 198511.79716685112, 193010.81019578179, 287478.3614795364, 197576.8318747439, 218458.41625143198, 288320.1826757436, 296840.76276786515, 327654.37561024725, 400777.46897886903, 504426.2544681903], \"yaxis\": \"y\"}],\n",
       "                        {\"legend\": {\"tracegroupgap\": 0}, \"margin\": {\"t\": 60}, \"template\": {\"data\": {\"bar\": [{\"error_x\": {\"color\": \"#2a3f5f\"}, \"error_y\": {\"color\": \"#2a3f5f\"}, \"marker\": {\"line\": {\"color\": \"#E5ECF6\", \"width\": 0.5}}, \"type\": \"bar\"}], \"barpolar\": [{\"marker\": {\"line\": {\"color\": \"#E5ECF6\", \"width\": 0.5}}, \"type\": \"barpolar\"}], \"carpet\": [{\"aaxis\": {\"endlinecolor\": \"#2a3f5f\", \"gridcolor\": \"white\", \"linecolor\": \"white\", \"minorgridcolor\": \"white\", \"startlinecolor\": \"#2a3f5f\"}, \"baxis\": {\"endlinecolor\": \"#2a3f5f\", \"gridcolor\": \"white\", \"linecolor\": \"white\", \"minorgridcolor\": \"white\", \"startlinecolor\": \"#2a3f5f\"}, \"type\": \"carpet\"}], \"choropleth\": [{\"colorbar\": {\"outlinewidth\": 0, \"ticks\": \"\"}, \"type\": \"choropleth\"}], \"contour\": [{\"colorbar\": {\"outlinewidth\": 0, \"ticks\": \"\"}, \"colorscale\": [[0.0, \"#0d0887\"], [0.1111111111111111, \"#46039f\"], [0.2222222222222222, \"#7201a8\"], [0.3333333333333333, \"#9c179e\"], [0.4444444444444444, \"#bd3786\"], [0.5555555555555556, \"#d8576b\"], [0.6666666666666666, \"#ed7953\"], [0.7777777777777778, \"#fb9f3a\"], [0.8888888888888888, \"#fdca26\"], [1.0, \"#f0f921\"]], \"type\": \"contour\"}], \"contourcarpet\": [{\"colorbar\": {\"outlinewidth\": 0, \"ticks\": \"\"}, \"type\": \"contourcarpet\"}], \"heatmap\": [{\"colorbar\": {\"outlinewidth\": 0, \"ticks\": \"\"}, \"colorscale\": [[0.0, \"#0d0887\"], [0.1111111111111111, \"#46039f\"], [0.2222222222222222, \"#7201a8\"], [0.3333333333333333, \"#9c179e\"], [0.4444444444444444, \"#bd3786\"], [0.5555555555555556, \"#d8576b\"], [0.6666666666666666, \"#ed7953\"], [0.7777777777777778, \"#fb9f3a\"], [0.8888888888888888, \"#fdca26\"], [1.0, \"#f0f921\"]], \"type\": \"heatmap\"}], \"heatmapgl\": [{\"colorbar\": {\"outlinewidth\": 0, \"ticks\": \"\"}, \"colorscale\": [[0.0, \"#0d0887\"], [0.1111111111111111, \"#46039f\"], [0.2222222222222222, \"#7201a8\"], [0.3333333333333333, \"#9c179e\"], [0.4444444444444444, \"#bd3786\"], [0.5555555555555556, \"#d8576b\"], [0.6666666666666666, \"#ed7953\"], [0.7777777777777778, \"#fb9f3a\"], [0.8888888888888888, \"#fdca26\"], [1.0, \"#f0f921\"]], \"type\": \"heatmapgl\"}], \"histogram\": [{\"marker\": {\"colorbar\": {\"outlinewidth\": 0, \"ticks\": \"\"}}, \"type\": \"histogram\"}], \"histogram2d\": [{\"colorbar\": {\"outlinewidth\": 0, \"ticks\": \"\"}, \"colorscale\": [[0.0, \"#0d0887\"], [0.1111111111111111, \"#46039f\"], [0.2222222222222222, \"#7201a8\"], [0.3333333333333333, \"#9c179e\"], [0.4444444444444444, \"#bd3786\"], [0.5555555555555556, \"#d8576b\"], [0.6666666666666666, \"#ed7953\"], [0.7777777777777778, \"#fb9f3a\"], [0.8888888888888888, \"#fdca26\"], [1.0, \"#f0f921\"]], \"type\": \"histogram2d\"}], \"histogram2dcontour\": [{\"colorbar\": {\"outlinewidth\": 0, \"ticks\": \"\"}, \"colorscale\": [[0.0, \"#0d0887\"], [0.1111111111111111, \"#46039f\"], [0.2222222222222222, \"#7201a8\"], [0.3333333333333333, \"#9c179e\"], [0.4444444444444444, \"#bd3786\"], [0.5555555555555556, \"#d8576b\"], [0.6666666666666666, \"#ed7953\"], [0.7777777777777778, \"#fb9f3a\"], [0.8888888888888888, \"#fdca26\"], [1.0, \"#f0f921\"]], \"type\": \"histogram2dcontour\"}], \"mesh3d\": [{\"colorbar\": {\"outlinewidth\": 0, \"ticks\": \"\"}, \"type\": \"mesh3d\"}], \"parcoords\": [{\"line\": {\"colorbar\": {\"outlinewidth\": 0, \"ticks\": \"\"}}, \"type\": \"parcoords\"}], \"pie\": [{\"automargin\": true, \"type\": \"pie\"}], \"scatter\": [{\"marker\": {\"colorbar\": {\"outlinewidth\": 0, \"ticks\": \"\"}}, \"type\": \"scatter\"}], \"scatter3d\": [{\"line\": {\"colorbar\": {\"outlinewidth\": 0, \"ticks\": \"\"}}, \"marker\": {\"colorbar\": {\"outlinewidth\": 0, \"ticks\": \"\"}}, \"type\": \"scatter3d\"}], \"scattercarpet\": [{\"marker\": {\"colorbar\": {\"outlinewidth\": 0, \"ticks\": \"\"}}, \"type\": \"scattercarpet\"}], \"scattergeo\": [{\"marker\": {\"colorbar\": {\"outlinewidth\": 0, \"ticks\": \"\"}}, \"type\": \"scattergeo\"}], \"scattergl\": [{\"marker\": {\"colorbar\": {\"outlinewidth\": 0, \"ticks\": \"\"}}, \"type\": \"scattergl\"}], \"scattermapbox\": [{\"marker\": {\"colorbar\": {\"outlinewidth\": 0, \"ticks\": \"\"}}, \"type\": \"scattermapbox\"}], \"scatterpolar\": [{\"marker\": {\"colorbar\": {\"outlinewidth\": 0, \"ticks\": \"\"}}, \"type\": \"scatterpolar\"}], \"scatterpolargl\": [{\"marker\": {\"colorbar\": {\"outlinewidth\": 0, \"ticks\": \"\"}}, \"type\": \"scatterpolargl\"}], \"scatterternary\": [{\"marker\": {\"colorbar\": {\"outlinewidth\": 0, \"ticks\": \"\"}}, \"type\": \"scatterternary\"}], \"surface\": [{\"colorbar\": {\"outlinewidth\": 0, \"ticks\": \"\"}, \"colorscale\": [[0.0, \"#0d0887\"], [0.1111111111111111, \"#46039f\"], [0.2222222222222222, \"#7201a8\"], [0.3333333333333333, \"#9c179e\"], [0.4444444444444444, \"#bd3786\"], [0.5555555555555556, \"#d8576b\"], [0.6666666666666666, \"#ed7953\"], [0.7777777777777778, \"#fb9f3a\"], [0.8888888888888888, \"#fdca26\"], [1.0, \"#f0f921\"]], \"type\": \"surface\"}], \"table\": [{\"cells\": {\"fill\": {\"color\": \"#EBF0F8\"}, \"line\": {\"color\": \"white\"}}, \"header\": {\"fill\": {\"color\": \"#C8D4E3\"}, \"line\": {\"color\": \"white\"}}, \"type\": \"table\"}]}, \"layout\": {\"annotationdefaults\": {\"arrowcolor\": \"#2a3f5f\", \"arrowhead\": 0, \"arrowwidth\": 1}, \"coloraxis\": {\"colorbar\": {\"outlinewidth\": 0, \"ticks\": \"\"}}, \"colorscale\": {\"diverging\": [[0, \"#8e0152\"], [0.1, \"#c51b7d\"], [0.2, \"#de77ae\"], [0.3, \"#f1b6da\"], [0.4, \"#fde0ef\"], [0.5, \"#f7f7f7\"], [0.6, \"#e6f5d0\"], [0.7, \"#b8e186\"], [0.8, \"#7fbc41\"], [0.9, \"#4d9221\"], [1, \"#276419\"]], \"sequential\": [[0.0, \"#0d0887\"], [0.1111111111111111, \"#46039f\"], [0.2222222222222222, \"#7201a8\"], [0.3333333333333333, \"#9c179e\"], [0.4444444444444444, \"#bd3786\"], [0.5555555555555556, \"#d8576b\"], [0.6666666666666666, \"#ed7953\"], [0.7777777777777778, \"#fb9f3a\"], [0.8888888888888888, \"#fdca26\"], [1.0, \"#f0f921\"]], \"sequentialminus\": [[0.0, \"#0d0887\"], [0.1111111111111111, \"#46039f\"], [0.2222222222222222, \"#7201a8\"], [0.3333333333333333, \"#9c179e\"], [0.4444444444444444, \"#bd3786\"], [0.5555555555555556, \"#d8576b\"], [0.6666666666666666, \"#ed7953\"], [0.7777777777777778, \"#fb9f3a\"], [0.8888888888888888, \"#fdca26\"], [1.0, \"#f0f921\"]]}, \"colorway\": [\"#636efa\", \"#EF553B\", \"#00cc96\", \"#ab63fa\", \"#FFA15A\", \"#19d3f3\", \"#FF6692\", \"#B6E880\", \"#FF97FF\", \"#FECB52\"], \"font\": {\"color\": \"#2a3f5f\"}, \"geo\": {\"bgcolor\": \"white\", \"lakecolor\": \"white\", \"landcolor\": \"#E5ECF6\", \"showlakes\": true, \"showland\": true, \"subunitcolor\": \"white\"}, \"hoverlabel\": {\"align\": \"left\"}, \"hovermode\": \"closest\", \"mapbox\": {\"style\": \"light\"}, \"paper_bgcolor\": \"white\", \"plot_bgcolor\": \"#E5ECF6\", \"polar\": {\"angularaxis\": {\"gridcolor\": \"white\", \"linecolor\": \"white\", \"ticks\": \"\"}, \"bgcolor\": \"#E5ECF6\", \"radialaxis\": {\"gridcolor\": \"white\", \"linecolor\": \"white\", \"ticks\": \"\"}}, \"scene\": {\"xaxis\": {\"backgroundcolor\": \"#E5ECF6\", \"gridcolor\": \"white\", \"gridwidth\": 2, \"linecolor\": \"white\", \"showbackground\": true, \"ticks\": \"\", \"zerolinecolor\": \"white\"}, \"yaxis\": {\"backgroundcolor\": \"#E5ECF6\", \"gridcolor\": \"white\", \"gridwidth\": 2, \"linecolor\": \"white\", \"showbackground\": true, \"ticks\": \"\", \"zerolinecolor\": \"white\"}, \"zaxis\": {\"backgroundcolor\": \"#E5ECF6\", \"gridcolor\": \"white\", \"gridwidth\": 2, \"linecolor\": \"white\", \"showbackground\": true, \"ticks\": \"\", \"zerolinecolor\": \"white\"}}, \"shapedefaults\": {\"line\": {\"color\": \"#2a3f5f\"}}, \"ternary\": {\"aaxis\": {\"gridcolor\": \"white\", \"linecolor\": \"white\", \"ticks\": \"\"}, \"baxis\": {\"gridcolor\": \"white\", \"linecolor\": \"white\", \"ticks\": \"\"}, \"bgcolor\": \"#E5ECF6\", \"caxis\": {\"gridcolor\": \"white\", \"linecolor\": \"white\", \"ticks\": \"\"}}, \"title\": {\"x\": 0.05}, \"xaxis\": {\"automargin\": true, \"gridcolor\": \"white\", \"linecolor\": \"white\", \"ticks\": \"\", \"title\": {\"standoff\": 15}, \"zerolinecolor\": \"white\", \"zerolinewidth\": 2}, \"yaxis\": {\"automargin\": true, \"gridcolor\": \"white\", \"linecolor\": \"white\", \"ticks\": \"\", \"title\": {\"standoff\": 15}, \"zerolinecolor\": \"white\", \"zerolinewidth\": 2}}}, \"xaxis\": {\"anchor\": \"y\", \"domain\": [0.0, 1.0], \"title\": {\"text\": \"x\"}}, \"yaxis\": {\"anchor\": \"x\", \"domain\": [0.0, 1.0], \"title\": {\"text\": \"y\"}}},\n",
       "                        {\"responsive\": true}\n",
       "                    ).then(function(){\n",
       "                            \n",
       "var gd = document.getElementById('ccaf070a-3f15-4c9b-a2f8-0388a19c04ae');\n",
       "var x = new MutationObserver(function (mutations, observer) {{\n",
       "        var display = window.getComputedStyle(gd).display;\n",
       "        if (!display || display === 'none') {{\n",
       "            console.log([gd, 'removed!']);\n",
       "            Plotly.purge(gd);\n",
       "            observer.disconnect();\n",
       "        }}\n",
       "}});\n",
       "\n",
       "// Listen for the removal of the full notebook cells\n",
       "var notebookContainer = gd.closest('#notebook-container');\n",
       "if (notebookContainer) {{\n",
       "    x.observe(notebookContainer, {childList: true});\n",
       "}}\n",
       "\n",
       "// Listen for the clearing of the current output cell\n",
       "var outputEl = gd.closest('.output');\n",
       "if (outputEl) {{\n",
       "    x.observe(outputEl, {childList: true});\n",
       "}}\n",
       "\n",
       "                        })\n",
       "                };\n",
       "                });\n",
       "            </script>\n",
       "        </div>"
      ]
     },
     "metadata": {},
     "output_type": "display_data"
    }
   ],
   "source": [
    "import plotly.express as px\n",
    "fig = px.scatter(x=time_bins_df['time_sec'], y=time_bins_df['std']**2)\n",
    "fig.data[0].update(mode='markers+lines')\n",
    "fig.show()"
   ]
  },
  {
   "cell_type": "code",
   "execution_count": 59,
   "metadata": {},
   "outputs": [],
   "source": [
    "time_bins_df['var'] = time_bins_df['std']**2"
   ]
  },
  {
   "cell_type": "code",
   "execution_count": 67,
   "metadata": {},
   "outputs": [],
   "source": [
    "var = time_bins_df['var'].values\n",
    "var_centers = (var[1:]+var[:-1])/2\n",
    "var_diff = np.diff(var)"
   ]
  },
  {
   "cell_type": "code",
   "execution_count": 68,
   "metadata": {},
   "outputs": [
    {
     "data": {
      "text/plain": [
       "[<matplotlib.lines.Line2D at 0x7f19b90d2760>]"
      ]
     },
     "execution_count": 68,
     "metadata": {},
     "output_type": "execute_result"
    },
    {
     "data": {
      "image/png": "[encoded data removed]",
      "text/plain": [
       "<Figure size 1080x540 with 1 Axes>"
      ]
     },
     "metadata": {
      "needs_background": "light"
     },
     "output_type": "display_data"
    }
   ],
   "source": [
    "plt.plot(var_centers, var_diff, '.')"
   ]
  },
  {
   "cell_type": "code",
   "execution_count": 71,
   "metadata": {},
   "outputs": [],
   "source": [
    "slope, intercept = np.linalg.lstsq(np.column_stack((var_centers, np.ones(var_centers.shape))), var_diff, rcond=None)[0]"
   ]
  },
  {
   "cell_type": "code",
   "execution_count": 72,
   "metadata": {},
   "outputs": [
    {
     "data": {
      "text/plain": [
       "-0.0027629968456997925"
      ]
     },
     "execution_count": 72,
     "metadata": {},
     "output_type": "execute_result"
    }
   ],
   "source": [
    "slope"
   ]
  },
  {
   "cell_type": "code",
   "execution_count": 73,
   "metadata": {},
   "outputs": [
    {
     "data": {
      "text/plain": [
       "-0.013814984228498962"
      ]
     },
     "execution_count": 73,
     "metadata": {},
     "output_type": "execute_result"
    }
   ],
   "source": [
    "slope/dt"
   ]
  },
  {
   "cell_type": "code",
   "execution_count": null,
   "metadata": {},
   "outputs": [],
   "source": []
  }
 ],
 "metadata": {
  "file_extension": ".py",
  "kernelspec": {
   "display_name": "Python 3.8.0 64-bit ('env': venv)",
   "language": "python",
   "name": "python38064bitenvvenv6373cd252c4e48169f765b27dc569620"
  },
  "language_info": {
   "codemirror_mode": {
    "name": "ipython",
    "version": 3
   },
   "file_extension": ".py",
   "mimetype": "text/x-python",
   "name": "python",
   "nbconvert_exporter": "python",
   "pygments_lexer": "ipython3",
   "version": "3.8.0"
  },
  "mimetype": "text/x-python",
  "name": "python",
  "npconvert_exporter": "python",
  "pygments_lexer": "ipython3",
  "version": 3
 },
 "nbformat": 4,
 "nbformat_minor": 2
}
